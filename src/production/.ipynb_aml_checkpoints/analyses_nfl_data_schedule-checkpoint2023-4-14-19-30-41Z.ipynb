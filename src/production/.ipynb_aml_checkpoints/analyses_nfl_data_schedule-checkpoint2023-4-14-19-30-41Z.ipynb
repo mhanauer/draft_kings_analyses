{
  "cells": [
    {
      "cell_type": "code",
      "source": [
        "%load_ext lab_black"
      ],
      "outputs": [],
      "execution_count": null,
      "metadata": {}
    },
    {
      "cell_type": "markdown",
      "source": [
        "Step: Load data"
      ],
      "metadata": {
        "nteract": {
          "transient": {
            "deleting": false
          }
        }
      }
    },
    {
      "cell_type": "code",
      "source": [
        "import csv\n",
        "import pandas as pd\n",
        "import numpy as np\n",
        "import time\n",
        "\n",
        "import os\n",
        "\n",
        "\n",
        "from azureml.core import Workspace, Experiment, Environment, ScriptRunConfig, Dataset\n",
        "from azureml.pipeline.core import Pipeline, ScheduleRecurrence, Schedule\n",
        "from azureml.pipeline.steps import PythonScriptStep\n",
        "\n",
        "from azureml.core import Workspace, Dataset\n",
        "\n",
        "from azureml.core import Workspace, Experiment, Environment, ScriptRunConfig\n",
        "from azureml.core.compute import ComputeTarget, AmlCompute\n",
        "from azureml.core.compute_target import ComputeTargetException\n",
        "from azureml.pipeline.core import Pipeline, PipelineData, PublishedPipeline\n",
        "from azureml.pipeline.steps import PythonScriptStep\n",
        "from azureml.pipeline.core.schedule import ScheduleRecurrence, Schedule\n",
        "\n",
        "from azureml.core import Workspace, Dataset, Datastore\n",
        "\n",
        "workspace = Workspace.from_config()\n",
        "\n",
        "datastore = workspace.get_default_datastore()"
      ],
      "outputs": [],
      "execution_count": null,
      "metadata": {
        "jupyter": {
          "source_hidden": false,
          "outputs_hidden": false
        },
        "nteract": {
          "transient": {
            "deleting": false
          }
        },
        "gather": {
          "logged": 1684090624691
        }
      }
    },
    {
      "cell_type": "code",
      "source": [
        "environment = Environment.from_conda_specification(\"nfl_env\", \"nfl_env.yaml\")"
      ],
      "outputs": [],
      "execution_count": null,
      "metadata": {
        "jupyter": {
          "source_hidden": false,
          "outputs_hidden": false
        },
        "nteract": {
          "transient": {
            "deleting": false
          }
        },
        "gather": {
          "logged": 1684090627245
        }
      }
    },
    {
      "cell_type": "code",
      "source": [
        "# Create a compute target\n",
        "compute_name = \"matthewhanauer991\"\n",
        "# Define the environment and dependencies for your script\n",
        "\n",
        "\n",
        "try:\n",
        "    compute_target = ComputeTarget(workspace=workspace, name=compute_name)\n",
        "except ComputeTargetException:\n",
        "    compute_config = AmlCompute.provisioning_configuration(\n",
        "        vm_size=\"STANDARD_D2_V2\", max_nodes=4\n",
        "    )\n",
        "    compute_target = ComputeTarget.create(workspace, compute_name, compute_config)\n",
        "    compute_target.wait_for_completion(show_output=True)"
      ],
      "outputs": [],
      "execution_count": null,
      "metadata": {
        "jupyter": {
          "source_hidden": false,
          "outputs_hidden": false
        },
        "nteract": {
          "transient": {
            "deleting": false
          }
        },
        "gather": {
          "logged": 1684090629423
        }
      }
    },
    {
      "cell_type": "code",
      "source": [
        "import os\n",
        "\n",
        "script_path = os.path.abspath(\"production_injury_data.py\")\n",
        "\n",
        "src = ScriptRunConfig(source_directory=\".\", script=script_path, environment=environment)"
      ],
      "outputs": [],
      "execution_count": null,
      "metadata": {
        "jupyter": {
          "source_hidden": false,
          "outputs_hidden": false
        },
        "nteract": {
          "transient": {
            "deleting": false
          }
        },
        "gather": {
          "logged": 1684090823075
        }
      }
    },
    {
      "cell_type": "code",
      "source": [
        "# Create a ScriptRunConfig for your script\n",
        "src = ScriptRunConfig(\n",
        "    source_directory=\".\", script=\"production_injury_data.py\", environment=environment\n",
        ")"
      ],
      "outputs": [],
      "execution_count": 69,
      "metadata": {
        "jupyter": {
          "source_hidden": false,
          "outputs_hidden": false
        },
        "nteract": {
          "transient": {
            "deleting": false
          }
        },
        "gather": {
          "logged": 1684092531622
        }
      }
    },
    {
      "cell_type": "code",
      "source": [
        "# Create a PythonScriptStep\n",
        "step = PythonScriptStep(\n",
        "    name=\"scrapper_nfl_injury\",\n",
        "    script_name=\"production_injury_data.py\",\n",
        "    compute_target=compute_target,\n",
        "    runconfig=src.run_config,\n",
        ")"
      ],
      "outputs": [],
      "execution_count": 70,
      "metadata": {
        "jupyter": {
          "source_hidden": false,
          "outputs_hidden": false
        },
        "nteract": {
          "transient": {
            "deleting": false
          }
        },
        "gather": {
          "logged": 1684092533423
        }
      }
    },
    {
      "cell_type": "code",
      "source": [
        "# Create a Pipeline using the PythonScriptStep\n",
        "pipeline = Pipeline(workspace=workspace, steps=[step])"
      ],
      "outputs": [],
      "execution_count": 71,
      "metadata": {
        "jupyter": {
          "source_hidden": false,
          "outputs_hidden": false
        },
        "nteract": {
          "transient": {
            "deleting": false
          }
        },
        "gather": {
          "logged": 1684092535894
        }
      }
    },
    {
      "cell_type": "code",
      "source": [
        "# Publish the pipeline\n",
        "published_pipeline = pipeline.publish(name=\"scrapper_nfl_injury_pipeline\")"
      ],
      "outputs": [
        {
          "output_type": "stream",
          "name": "stdout",
          "text": "Created step scrapper_nfl_injury [e5ed55fc][00b2cd3a-7d2a-4d1c-ab4e-b62ba442fe3e], (This step will run and generate new outputs)\n"
        }
      ],
      "execution_count": 72,
      "metadata": {
        "jupyter": {
          "source_hidden": false,
          "outputs_hidden": false
        },
        "nteract": {
          "transient": {
            "deleting": false
          }
        },
        "gather": {
          "logged": 1684092541298
        }
      }
    },
    {
      "cell_type": "code",
      "source": [
        "from datetime import time\n",
        "\n",
        "recurrence = ScheduleRecurrence(frequency=\"Day\", interval=1, time_of_day=\"15:31\")\n",
        "schedule = Schedule.create(\n",
        "    workspace,\n",
        "    name=\"scrapper_nfl_injury_schedule\",\n",
        "    pipeline_id=published_pipeline.id,\n",
        "    experiment_name=\"scrapper_nfl_injury_experiment\",\n",
        "    recurrence=recurrence,\n",
        ")"
      ],
      "outputs": [],
      "execution_count": 73,
      "metadata": {
        "jupyter": {
          "source_hidden": false,
          "outputs_hidden": false
        },
        "nteract": {
          "transient": {
            "deleting": false
          }
        },
        "gather": {
          "logged": 1684092553588
        }
      }
    },
    {
      "cell_type": "code",
      "source": [
        "schedules = Schedule.list(workspace)\n",
        "for s in schedules:\n",
        "    print(f\"Schedule name: {s.name}, Status: {s.status}, Pipeline ID: {s.pipeline_id}\")"
      ],
      "outputs": [
        {
          "output_type": "stream",
          "name": "stdout",
          "text": "Schedule name: scrapper_nfl_injury_schedule, Status: Active, Pipeline ID: 251973e9-230c-45f9-b49f-a1761de800e7\nSchedule name: scrapper_nfl_injury_schedule, Status: Active, Pipeline ID: cccbad01-989d-43d2-861c-b77071147192\nSchedule name: scrapper_nfl_injury_schedule, Status: Active, Pipeline ID: d7e805cc-941e-4477-bff1-c6a4ad480fa6\nSchedule name: scrapper_nfl_injury_schedule, Status: Active, Pipeline ID: bfc408c3-fa3b-4702-9365-89291d9c0a76\nSchedule name: scrapper_nfl_injury_schedule, Status: Active, Pipeline ID: fadf4d78-69b0-49cf-8934-5a0e1a6e0202\nSchedule name: scrapper_nfl_injury_schedule, Status: Active, Pipeline ID: fadf4d78-69b0-49cf-8934-5a0e1a6e0202\nSchedule name: scrapper_nfl_injury_schedule, Status: Active, Pipeline ID: fadf4d78-69b0-49cf-8934-5a0e1a6e0202\nSchedule name: scrapper_nfl_injury_schedule, Status: Active, Pipeline ID: fadf4d78-69b0-49cf-8934-5a0e1a6e0202\nSchedule name: scrapper_nfl_injury_schedule, Status: Active, Pipeline ID: b38cc710-8776-4f27-b176-97fa6205fb18\nSchedule name: scrapper_nfl_injury_schedule, Status: Active, Pipeline ID: 32c3e87e-bd6b-4710-97a9-7f5a0587e731\nSchedule name: scrapper_nfl_injury_schedule, Status: Active, Pipeline ID: 32c3e87e-bd6b-4710-97a9-7f5a0587e731\nSchedule name: scrapper_nfl_injury_schedule, Status: Active, Pipeline ID: 32c3e87e-bd6b-4710-97a9-7f5a0587e731\nSchedule name: scrapper_nfl_injury_schedule, Status: Active, Pipeline ID: 5361016a-abdc-459c-9cfe-ca049b3748fe\nSchedule name: scrapper_nfl_injury_schedule, Status: Active, Pipeline ID: eadf2b8e-2da6-48f8-9e48-a626083db031\nSchedule name: scrapper_nfl_injury_schedule, Status: Active, Pipeline ID: 3928ceb6-89bb-4de8-96b6-72624575517c\nSchedule name: scrapper_nfl_injury_schedule, Status: Active, Pipeline ID: eec16a2b-89a0-4446-a7bd-57d717dcc03a\nSchedule name: scrapper_nfl_injury_schedule, Status: Active, Pipeline ID: 5bab17d0-42f9-4247-84a3-72ef8dee96da\nSchedule name: scrapper_nfl_injury_schedule, Status: Active, Pipeline ID: 1adf4684-6e69-4ed7-a8aa-1c71da9ddb63\nSchedule name: scrapper_nfl_injury_schedule, Status: Active, Pipeline ID: 6fb7a4a5-29db-4101-b4e4-509ffb7f54f8\nSchedule name: scrapper_nfl_injury_schedule, Status: Active, Pipeline ID: 6fb7a4a5-29db-4101-b4e4-509ffb7f54f8\nSchedule name: scrapper_nfl_injury_schedule, Status: Active, Pipeline ID: 7c5a6899-6562-419e-8fcb-958d0f4a20a4\nSchedule name: scrapper_nfl_injury_schedule, Status: Active, Pipeline ID: 7c5a6899-6562-419e-8fcb-958d0f4a20a4\nSchedule name: scrapper_nfl_injury_schedule, Status: Active, Pipeline ID: 6f96f94d-bedd-445b-b089-a9d75559fb96\nSchedule name: scrapper_nfl_injury_schedule, Status: Active, Pipeline ID: 6f96f94d-bedd-445b-b089-a9d75559fb96\nSchedule name: scrapper_nfl_injury_schedule, Status: Active, Pipeline ID: 6f96f94d-bedd-445b-b089-a9d75559fb96\nSchedule name: scrapper_nfl_injury_schedule, Status: Active, Pipeline ID: 6f96f94d-bedd-445b-b089-a9d75559fb96\nSchedule name: scrapper_nfl_injury_schedule, Status: Active, Pipeline ID: 3bd2f35b-b44f-41dc-8559-586cfa57a859\nSchedule name: scrapper_nfl_injury_schedule, Status: Active, Pipeline ID: daa1a6ab-b265-45d7-abf7-218fcbb0ee97\nSchedule name: scrapper_nfl_injury_schedule, Status: Active, Pipeline ID: 5f270890-5d23-4a5e-a5d0-23d4a51cbe3e\nSchedule name: nfl_injury_scraper_schedule, Status: Active, Pipeline ID: 8bdafb18-9013-4bec-a0db-240375e6de17\nSchedule name: nfl_injury_scraper_schedule, Status: Active, Pipeline ID: 2029602c-170a-410e-8006-12eed0b873f8\nSchedule name: nfl_injury_scraper_schedule, Status: Active, Pipeline ID: 21be55e3-caf2-4aca-ab14-d6fb3629338e\nSchedule name: nfl_scraper_schedule, Status: Active, Pipeline ID: 5b60d2f0-6b64-483f-87a5-7cc25e3b696f\nSchedule name: nfl_scraper_schedule, Status: Active, Pipeline ID: fd0141c5-9ee9-4053-98a1-a995f22f4d12\nSchedule name: nfl_scraper_schedule, Status: Active, Pipeline ID: 6ea7c2b2-6560-4dc5-948c-9062ff5a7289\nSchedule name: nfl_injury_scraper_schedule, Status: Active, Pipeline ID: 1a7c02b7-e382-4d84-9851-0463e97cee41\n"
        }
      ],
      "execution_count": 74,
      "metadata": {
        "jupyter": {
          "source_hidden": false,
          "outputs_hidden": false
        },
        "nteract": {
          "transient": {
            "deleting": false
          }
        },
        "gather": {
          "logged": 1684092558446
        }
      }
    }
  ],
  "metadata": {
    "kernelspec": {
      "name": "python38-azureml",
      "language": "python",
      "display_name": "Python 3.8 - AzureML"
    },
    "language_info": {
      "name": "python",
      "version": "3.8.10",
      "mimetype": "text/x-python",
      "codemirror_mode": {
        "name": "ipython",
        "version": 3
      },
      "pygments_lexer": "ipython3",
      "nbconvert_exporter": "python",
      "file_extension": ".py"
    },
    "microsoft": {
      "ms_spell_check": {
        "ms_spell_check_language": "en"
      },
      "host": {
        "AzureML": {
          "notebookHasBeenCompleted": true
        }
      }
    },
    "kernel_info": {
      "name": "python38-azureml"
    },
    "nteract": {
      "version": "nteract-front-end@1.0.0"
    }
  },
  "nbformat": 4,
  "nbformat_minor": 2
}