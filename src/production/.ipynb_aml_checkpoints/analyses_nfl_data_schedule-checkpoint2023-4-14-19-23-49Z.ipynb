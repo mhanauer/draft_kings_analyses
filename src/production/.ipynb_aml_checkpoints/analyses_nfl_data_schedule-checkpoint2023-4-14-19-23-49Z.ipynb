{
  "cells": [
    {
      "cell_type": "code",
      "source": [
        "%load_ext lab_black"
      ],
      "outputs": [],
      "execution_count": null,
      "metadata": {}
    },
    {
      "cell_type": "markdown",
      "source": [
        "Step: Load data"
      ],
      "metadata": {
        "nteract": {
          "transient": {
            "deleting": false
          }
        }
      }
    },
    {
      "cell_type": "code",
      "source": [
        "import csv\n",
        "import pandas as pd\n",
        "import numpy as np\n",
        "import time\n",
        "\n",
        "import os\n",
        "\n",
        "\n",
        "from azureml.core import Workspace, Experiment, Environment, ScriptRunConfig, Dataset\n",
        "from azureml.pipeline.core import Pipeline, ScheduleRecurrence, Schedule\n",
        "from azureml.pipeline.steps import PythonScriptStep\n",
        "\n",
        "from azureml.core import Workspace, Dataset\n",
        "\n",
        "from azureml.core import Workspace, Experiment, Environment, ScriptRunConfig\n",
        "from azureml.core.compute import ComputeTarget, AmlCompute\n",
        "from azureml.core.compute_target import ComputeTargetException\n",
        "from azureml.pipeline.core import Pipeline, PipelineData, PublishedPipeline\n",
        "from azureml.pipeline.steps import PythonScriptStep\n",
        "from azureml.pipeline.core.schedule import ScheduleRecurrence, Schedule\n",
        "\n",
        "from azureml.core import Workspace, Dataset, Datastore\n",
        "\n",
        "workspace = Workspace.from_config()\n",
        "\n",
        "datastore = workspace.get_default_datastore()"
      ],
      "outputs": [],
      "execution_count": null,
      "metadata": {
        "jupyter": {
          "source_hidden": false,
          "outputs_hidden": false
        },
        "nteract": {
          "transient": {
            "deleting": false
          }
        },
        "gather": {
          "logged": 1684090624691
        }
      }
    },
    {
      "cell_type": "code",
      "source": [
        "environment = Environment.from_conda_specification(\"nfl_env\", \"nfl_env.yaml\")"
      ],
      "outputs": [],
      "execution_count": null,
      "metadata": {
        "jupyter": {
          "source_hidden": false,
          "outputs_hidden": false
        },
        "nteract": {
          "transient": {
            "deleting": false
          }
        },
        "gather": {
          "logged": 1684090627245
        }
      }
    },
    {
      "cell_type": "code",
      "source": [
        "# Create a compute target\n",
        "compute_name = \"matthewhanauer991\"\n",
        "# Define the environment and dependencies for your script\n",
        "\n",
        "\n",
        "try:\n",
        "    compute_target = ComputeTarget(workspace=workspace, name=compute_name)\n",
        "except ComputeTargetException:\n",
        "    compute_config = AmlCompute.provisioning_configuration(\n",
        "        vm_size=\"STANDARD_D2_V2\", max_nodes=4\n",
        "    )\n",
        "    compute_target = ComputeTarget.create(workspace, compute_name, compute_config)\n",
        "    compute_target.wait_for_completion(show_output=True)"
      ],
      "outputs": [],
      "execution_count": null,
      "metadata": {
        "jupyter": {
          "source_hidden": false,
          "outputs_hidden": false
        },
        "nteract": {
          "transient": {
            "deleting": false
          }
        },
        "gather": {
          "logged": 1684090629423
        }
      }
    },
    {
      "cell_type": "code",
      "source": [
        "import os\n",
        "\n",
        "script_path = os.path.abspath(\"production_injury_data.py\")\n",
        "\n",
        "src = ScriptRunConfig(source_directory=\".\", script=script_path, environment=environment)"
      ],
      "outputs": [],
      "execution_count": null,
      "metadata": {
        "jupyter": {
          "source_hidden": false,
          "outputs_hidden": false
        },
        "nteract": {
          "transient": {
            "deleting": false
          }
        },
        "gather": {
          "logged": 1684090823075
        }
      }
    },
    {
      "cell_type": "code",
      "source": [
        "# Create a ScriptRunConfig for your script\n",
        "src = ScriptRunConfig(\n",
        "    source_directory=\".\", script=\"production_injury_data.py\", environment=environment\n",
        ")"
      ],
      "outputs": [],
      "execution_count": null,
      "metadata": {
        "jupyter": {
          "source_hidden": false,
          "outputs_hidden": false
        },
        "nteract": {
          "transient": {
            "deleting": false
          }
        },
        "gather": {
          "logged": 1684090824378
        }
      }
    },
    {
      "cell_type": "code",
      "source": [
        "# Create a PythonScriptStep\n",
        "step = PythonScriptStep(\n",
        "    name=\"scrapper_nfl_injury\",\n",
        "    script_name=\"production_injury_data.py\",\n",
        "    compute_target=compute_target,\n",
        "    runconfig=src.run_config,\n",
        ")"
      ],
      "outputs": [],
      "execution_count": null,
      "metadata": {
        "jupyter": {
          "source_hidden": false,
          "outputs_hidden": false
        },
        "nteract": {
          "transient": {
            "deleting": false
          }
        },
        "gather": {
          "logged": 1684090825752
        }
      }
    },
    {
      "cell_type": "code",
      "source": [
        "# Create a Pipeline using the PythonScriptStep\n",
        "pipeline = Pipeline(workspace=workspace, steps=[step])"
      ],
      "outputs": [],
      "execution_count": null,
      "metadata": {
        "jupyter": {
          "source_hidden": false,
          "outputs_hidden": false
        },
        "nteract": {
          "transient": {
            "deleting": false
          }
        },
        "gather": {
          "logged": 1684090827544
        }
      }
    },
    {
      "cell_type": "code",
      "source": [
        "# Publish the pipeline\n",
        "published_pipeline = pipeline.publish(name=\"scrapper_nfl_injury_pipeline\")"
      ],
      "outputs": [],
      "execution_count": null,
      "metadata": {
        "jupyter": {
          "source_hidden": false,
          "outputs_hidden": false
        },
        "nteract": {
          "transient": {
            "deleting": false
          }
        },
        "gather": {
          "logged": 1684090831343
        }
      }
    },
    {
      "cell_type": "code",
      "source": [
        "from datetime import time\n",
        "\n",
        "recurrence = ScheduleRecurrence(frequency=\"Day\", interval=1, time_of_day=\"15:02\")\n",
        "schedule = Schedule.create(\n",
        "    workspace,\n",
        "    name=\"scrapper_nfl_injury_schedule\",\n",
        "    pipeline_id=published_pipeline.id,\n",
        "    experiment_name=\"scrapper_nfl_injury_experiment\",\n",
        "    recurrence=recurrence,\n",
        ")"
      ],
      "outputs": [],
      "execution_count": null,
      "metadata": {
        "jupyter": {
          "source_hidden": false,
          "outputs_hidden": false
        },
        "nteract": {
          "transient": {
            "deleting": false
          }
        },
        "gather": {
          "logged": 1684090843262
        }
      }
    },
    {
      "cell_type": "code",
      "source": [
        "schedules = Schedule.list(workspace)\n",
        "for s in schedules:\n",
        "    print(f\"Schedule name: {s.name}, Status: {s.status}, Pipeline ID: {s.pipeline_id}\")"
      ],
      "outputs": [],
      "execution_count": null,
      "metadata": {
        "jupyter": {
          "source_hidden": false,
          "outputs_hidden": false
        },
        "nteract": {
          "transient": {
            "deleting": false
          }
        },
        "gather": {
          "logged": 1684091197309
        }
      }
    },
    {
      "cell_type": "code",
      "source": [],
      "outputs": [],
      "execution_count": null,
      "metadata": {
        "jupyter": {
          "source_hidden": false,
          "outputs_hidden": false
        },
        "nteract": {
          "transient": {
            "deleting": false
          }
        },
        "gather": {
          "logged": 1684091244716
        }
      }
    },
    {
      "cell_type": "code",
      "source": [
        "published_pipeline.id"
      ],
      "outputs": [
        {
          "output_type": "execute_result",
          "execution_count": 63,
          "data": {
            "text/plain": "'d7e805cc-941e-4477-bff1-c6a4ad480fa6'"
          },
          "metadata": {}
        }
      ],
      "execution_count": 63,
      "metadata": {
        "jupyter": {
          "source_hidden": false,
          "outputs_hidden": false
        },
        "nteract": {
          "transient": {
            "deleting": false
          }
        },
        "gather": {
          "logged": 1684092013772
        }
      }
    },
    {
      "cell_type": "code",
      "source": [
        "from azureml.pipeline.core import PublishedPipeline\n",
        "\n",
        "# Specify the name of the pipeline you are interested in\n",
        "pipeline_name = \"scrapper_nfl_injury_pipeline\"\n",
        "\n",
        "# Get the list of published pipelines in the workspace\n",
        "published_pipelines = PublishedPipeline.list(workspace)\n",
        "published_pipelines"
      ],
      "outputs": [],
      "execution_count": null,
      "metadata": {
        "jupyter": {
          "source_hidden": false,
          "outputs_hidden": false
        },
        "nteract": {
          "transient": {
            "deleting": false
          }
        },
        "gather": {
          "logged": 1684091834407
        }
      }
    },
    {
      "cell_type": "code",
      "source": [
        "from azureml.pipeline.core.run import PipelineRun\n",
        "\n",
        "# Replace with the latest pipeline run ID\n",
        "run_id = \"c090033d-0d4f-4bb6-9bef-94fabbe41107\"\n",
        "\n",
        "# Get the specific pipeline run\n",
        "pipeline_run = PipelineRun.get(workspace=workspace, run_id=run_id)"
      ],
      "outputs": [
        {
          "output_type": "error",
          "ename": "ErrorResponseException",
          "evalue": "(NotFound) Response status code does not indicate success: 404 (Not Found).\nFailed to get item from container: Experiment, id: c090033d-0d4f-4bb6-9bef-94fabbe41107, partition e9d35628-3c1a-4162-87e6-c51253db20bc, error code NotFound",
          "traceback": [
            "\u001b[0;31m---------------------------------------------------------------------------\u001b[0m",
            "\u001b[0;31mErrorResponseException\u001b[0m                    Traceback (most recent call last)",
            "Cell \u001b[0;32mIn[67], line 7\u001b[0m\n\u001b[1;32m      4\u001b[0m run_id \u001b[38;5;241m=\u001b[39m \u001b[38;5;124m\"\u001b[39m\u001b[38;5;124mc090033d-0d4f-4bb6-9bef-94fabbe41107\u001b[39m\u001b[38;5;124m\"\u001b[39m\n\u001b[1;32m      6\u001b[0m \u001b[38;5;66;03m# Get the specific pipeline run\u001b[39;00m\n\u001b[0;32m----> 7\u001b[0m pipeline_run \u001b[38;5;241m=\u001b[39m \u001b[43mPipelineRun\u001b[49m\u001b[38;5;241;43m.\u001b[39;49m\u001b[43mget\u001b[49m\u001b[43m(\u001b[49m\u001b[43mworkspace\u001b[49m\u001b[38;5;241;43m=\u001b[39;49m\u001b[43mworkspace\u001b[49m\u001b[43m,\u001b[49m\u001b[43m \u001b[49m\u001b[43mrun_id\u001b[49m\u001b[38;5;241;43m=\u001b[39;49m\u001b[43mrun_id\u001b[49m\u001b[43m)\u001b[49m\n",
            "File \u001b[0;32m/anaconda/envs/azureml_py38/lib/python3.8/site-packages/azureml/pipeline/core/run.py:458\u001b[0m, in \u001b[0;36mPipelineRun.get\u001b[0;34m(workspace, run_id, _service_endpoint)\u001b[0m\n\u001b[1;32m    455\u001b[0m context \u001b[38;5;241m=\u001b[39m _GraphContext(\u001b[38;5;124m'\u001b[39m\u001b[38;5;124mplaceholder\u001b[39m\u001b[38;5;124m'\u001b[39m, workspace\u001b[38;5;241m=\u001b[39mworkspace, service_endpoint\u001b[38;5;241m=\u001b[39m_service_endpoint)\n\u001b[1;32m    456\u001b[0m pipeline_run_provider \u001b[38;5;241m=\u001b[39m context\u001b[38;5;241m.\u001b[39mworkflow_provider\u001b[38;5;241m.\u001b[39mpipeline_run_provider\n\u001b[0;32m--> 458\u001b[0m experiment_name \u001b[38;5;241m=\u001b[39m \u001b[43mpipeline_run_provider\u001b[49m\u001b[38;5;241;43m.\u001b[39;49m\u001b[43mget_pipeline_experiment_name\u001b[49m\u001b[43m(\u001b[49m\u001b[43mpipeline_run_id\u001b[49m\u001b[38;5;241;43m=\u001b[39;49m\u001b[43mrun_id\u001b[49m\u001b[43m)\u001b[49m\n\u001b[1;32m    459\u001b[0m experiment \u001b[38;5;241m=\u001b[39m Experiment(workspace, experiment_name)\n\u001b[1;32m    461\u001b[0m \u001b[38;5;28;01mreturn\u001b[39;00m PipelineRun(experiment, run_id)\n",
            "File \u001b[0;32m/anaconda/envs/azureml_py38/lib/python3.8/site-packages/azureml/pipeline/core/_aeva_provider.py:1189\u001b[0m, in \u001b[0;36m_AevaPipelineRunProvider.get_pipeline_experiment_name\u001b[0;34m(self, pipeline_run_id)\u001b[0m\n\u001b[1;32m   1184\u001b[0m \u001b[38;5;28;01mdef\u001b[39;00m \u001b[38;5;21mget_pipeline_experiment_name\u001b[39m(\u001b[38;5;28mself\u001b[39m, pipeline_run_id):\n\u001b[1;32m   1185\u001b[0m     \u001b[38;5;124;03m\"\"\"Gets experiment name.\u001b[39;00m\n\u001b[1;32m   1186\u001b[0m \u001b[38;5;124;03m    :param pipeline_run_id: pipeline run id\u001b[39;00m\n\u001b[1;32m   1187\u001b[0m \u001b[38;5;124;03m    :type pipeline_run_id: str\u001b[39;00m\n\u001b[1;32m   1188\u001b[0m \u001b[38;5;124;03m    \"\"\"\u001b[39;00m\n\u001b[0;32m-> 1189\u001b[0m     \u001b[38;5;28;01mreturn\u001b[39;00m \u001b[38;5;28;43mself\u001b[39;49m\u001b[38;5;241;43m.\u001b[39;49m\u001b[43m_service_caller\u001b[49m\u001b[38;5;241;43m.\u001b[39;49m\u001b[43mget_pipeline_run_async\u001b[49m\u001b[43m(\u001b[49m\u001b[43mpipeline_run_id\u001b[49m\u001b[43m)\u001b[49m\u001b[38;5;241m.\u001b[39mrun_history_experiment_name\n",
            "File \u001b[0;32m/anaconda/envs/azureml_py38/lib/python3.8/site-packages/azureml/pipeline/core/_restclients/aeva/service_caller.py:190\u001b[0m, in \u001b[0;36mAE3PServiceCaller.get_pipeline_run_async\u001b[0;34m(self, pipeline_run_id)\u001b[0m\n\u001b[1;32m    179\u001b[0m \u001b[38;5;28;01mdef\u001b[39;00m \u001b[38;5;21mget_pipeline_run_async\u001b[39m(\u001b[38;5;28mself\u001b[39m, pipeline_run_id):\n\u001b[1;32m    180\u001b[0m     \u001b[38;5;124;03m\"\"\"GetPipelineRunAsync.\u001b[39;00m\n\u001b[1;32m    181\u001b[0m \n\u001b[1;32m    182\u001b[0m \u001b[38;5;124;03m    :param pipeline_run_id: The pipeline run id\u001b[39;00m\n\u001b[0;32m   (...)\u001b[0m\n\u001b[1;32m    187\u001b[0m \u001b[38;5;124;03m     :class:`ErrorResponseException`\u001b[39;00m\n\u001b[1;32m    188\u001b[0m \u001b[38;5;124;03m    \"\"\"\u001b[39;00m\n\u001b[0;32m--> 190\u001b[0m     result \u001b[38;5;241m=\u001b[39m \u001b[38;5;28;43mself\u001b[39;49m\u001b[38;5;241;43m.\u001b[39;49m\u001b[43m_caller\u001b[49m\u001b[38;5;241;43m.\u001b[39;49m\u001b[43mapi_v10_subscriptions_by_subscription_id_resource_groups_by_resource_group_name_providers_microsoft_machine_learning_services_workspaces_by_workspace_name_pipeline_runs_by_pipeline_run_id_get\u001b[49m\u001b[43m(\u001b[49m\n\u001b[1;32m    191\u001b[0m \u001b[43m        \u001b[49m\u001b[43msubscription_id\u001b[49m\u001b[38;5;241;43m=\u001b[39;49m\u001b[38;5;28;43mself\u001b[39;49m\u001b[38;5;241;43m.\u001b[39;49m\u001b[43m_subscription_id\u001b[49m\u001b[43m,\u001b[49m\u001b[43m \u001b[49m\u001b[43mresource_group_name\u001b[49m\u001b[38;5;241;43m=\u001b[39;49m\u001b[38;5;28;43mself\u001b[39;49m\u001b[38;5;241;43m.\u001b[39;49m\u001b[43m_resource_group_name\u001b[49m\u001b[43m,\u001b[49m\n\u001b[1;32m    192\u001b[0m \u001b[43m        \u001b[49m\u001b[43mworkspace_name\u001b[49m\u001b[38;5;241;43m=\u001b[39;49m\u001b[38;5;28;43mself\u001b[39;49m\u001b[38;5;241;43m.\u001b[39;49m\u001b[43m_workspace_name\u001b[49m\u001b[43m,\u001b[49m\u001b[43m \u001b[49m\u001b[43mcustom_headers\u001b[49m\u001b[38;5;241;43m=\u001b[39;49m\u001b[38;5;28;43mself\u001b[39;49m\u001b[38;5;241;43m.\u001b[39;49m\u001b[43m_get_custom_headers\u001b[49m\u001b[43m(\u001b[49m\u001b[43m)\u001b[49m\u001b[43m,\u001b[49m\u001b[43m \u001b[49m\u001b[43mpipeline_run_id\u001b[49m\u001b[38;5;241;43m=\u001b[39;49m\u001b[43mpipeline_run_id\u001b[49m\u001b[43m)\u001b[49m\n\u001b[1;32m    194\u001b[0m     \u001b[38;5;28;01mreturn\u001b[39;00m result\n",
            "File \u001b[0;32m/anaconda/envs/azureml_py38/lib/python3.8/site-packages/azureml/pipeline/core/_restclients/aeva/aml_pipelines_api10.py:1784\u001b[0m, in \u001b[0;36mAMLPipelinesAPI10.api_v10_subscriptions_by_subscription_id_resource_groups_by_resource_group_name_providers_microsoft_machine_learning_services_workspaces_by_workspace_name_pipeline_runs_by_pipeline_run_id_get\u001b[0;34m(self, subscription_id, resource_group_name, workspace_name, pipeline_run_id, custom_headers, raw, **operation_config)\u001b[0m\n\u001b[1;32m   1781\u001b[0m response \u001b[38;5;241m=\u001b[39m \u001b[38;5;28mself\u001b[39m\u001b[38;5;241m.\u001b[39m_client\u001b[38;5;241m.\u001b[39msend(request, header_parameters, stream\u001b[38;5;241m=\u001b[39m\u001b[38;5;28;01mFalse\u001b[39;00m, \u001b[38;5;241m*\u001b[39m\u001b[38;5;241m*\u001b[39moperation_config)\n\u001b[1;32m   1783\u001b[0m \u001b[38;5;28;01mif\u001b[39;00m response\u001b[38;5;241m.\u001b[39mstatus_code \u001b[38;5;129;01mnot\u001b[39;00m \u001b[38;5;129;01min\u001b[39;00m [\u001b[38;5;241m200\u001b[39m]:\n\u001b[0;32m-> 1784\u001b[0m     \u001b[38;5;28;01mraise\u001b[39;00m ErrorResponseException(\u001b[38;5;28mself\u001b[39m\u001b[38;5;241m.\u001b[39m_deserialize, response)\n\u001b[1;32m   1786\u001b[0m deserialized \u001b[38;5;241m=\u001b[39m \u001b[38;5;28;01mNone\u001b[39;00m\n\u001b[1;32m   1788\u001b[0m \u001b[38;5;28;01mif\u001b[39;00m response\u001b[38;5;241m.\u001b[39mstatus_code \u001b[38;5;241m==\u001b[39m \u001b[38;5;241m200\u001b[39m:\n",
            "\u001b[0;31mErrorResponseException\u001b[0m: (NotFound) Response status code does not indicate success: 404 (Not Found).\nFailed to get item from container: Experiment, id: c090033d-0d4f-4bb6-9bef-94fabbe41107, partition e9d35628-3c1a-4162-87e6-c51253db20bc, error code NotFound"
          ]
        }
      ],
      "execution_count": 67,
      "metadata": {
        "jupyter": {
          "source_hidden": false,
          "outputs_hidden": false
        },
        "nteract": {
          "transient": {
            "deleting": false
          }
        },
        "gather": {
          "logged": 1684092087108
        }
      }
    },
    {
      "cell_type": "code",
      "source": [
        "\n",
        "\n",
        "# Access and print the details of the run\n",
        "print(f\"Pipeline Run ID: {pipeline_run.id}\")\n",
        "print(f\"Status: {pipeline_run.status}\")\n",
        "print(f\"Start Time: {pipeline_run.start_time}\")\n",
        "print(f\"End Time: {pipeline_run.end_time}\")\n",
        "# Print other relevant details or extract specific metrics or logs\n"
      ],
      "outputs": [],
      "execution_count": null,
      "metadata": {
        "jupyter": {
          "source_hidden": false,
          "outputs_hidden": false
        },
        "nteract": {
          "transient": {
            "deleting": false
          }
        },
        "gather": {
          "logged": 1684091942256
        }
      }
    },
    {
      "cell_type": "code",
      "source": [
        "from azureml.core import Experiment\n",
        "\n",
        "experiments = Experiment.list(workspace)\n",
        "for experiment in experiments:\n",
        "    print(f\"Experiment name: {experiment.name}, ID: {experiment.id}\")"
      ],
      "outputs": [
        {
          "output_type": "stream",
          "name": "stdout",
          "text": "Experiment name: nfl-injury-scraper-exp, ID: c090033d-0d4f-4bb6-9bef-94fabbe41107\nExperiment name: nfl-scraper-exp, ID: dc123887-4794-42d0-8a08-3faea50a89f6\nExperiment name: nfl-injury-scraper, ID: 170bc2ad-69af-43ac-81d5-f421b0b51859\nExperiment name: nfl_injury_scraper_experiment, ID: 52a91862-feff-4e2e-85b5-4a8cb89ea45e\nExperiment name: scrapper_nfl_injury_experiment, ID: 894f86ed-c0dc-49fb-a870-39c729620bd6\nExperiment name: scrapper_nfl_injury_experiment_20230514-185421, ID: 96324f72-4e43-4a93-b1fa-ad72ba304376\n"
        }
      ],
      "execution_count": 66,
      "metadata": {
        "jupyter": {
          "source_hidden": false,
          "outputs_hidden": false
        },
        "nteract": {
          "transient": {
            "deleting": false
          }
        },
        "gather": {
          "logged": 1684092065272
        }
      }
    }
  ],
  "metadata": {
    "kernelspec": {
      "name": "python38-azureml",
      "language": "python",
      "display_name": "Python 3.8 - AzureML"
    },
    "language_info": {
      "name": "python",
      "version": "3.8.10",
      "mimetype": "text/x-python",
      "codemirror_mode": {
        "name": "ipython",
        "version": 3
      },
      "pygments_lexer": "ipython3",
      "nbconvert_exporter": "python",
      "file_extension": ".py"
    },
    "microsoft": {
      "ms_spell_check": {
        "ms_spell_check_language": "en"
      },
      "host": {
        "AzureML": {
          "notebookHasBeenCompleted": true
        }
      }
    },
    "kernel_info": {
      "name": "python38-azureml"
    },
    "nteract": {
      "version": "nteract-front-end@1.0.0"
    }
  },
  "nbformat": 4,
  "nbformat_minor": 2
}