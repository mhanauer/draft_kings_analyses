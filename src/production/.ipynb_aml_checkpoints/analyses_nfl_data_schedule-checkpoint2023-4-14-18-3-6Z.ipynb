{
  "cells": [
    {
      "cell_type": "code",
      "source": [
        "%load_ext lab_black"
      ],
      "outputs": [],
      "execution_count": 1,
      "metadata": {}
    },
    {
      "cell_type": "markdown",
      "source": [
        "Step: Load data"
      ],
      "metadata": {
        "nteract": {
          "transient": {
            "deleting": false
          }
        }
      }
    },
    {
      "cell_type": "code",
      "source": [
        "import csv\n",
        "import pandas as pd\n",
        "import numpy as np\n",
        "import time\n",
        "\n",
        "import os\n",
        "\n",
        "\n",
        "from azureml.core import Workspace, Experiment, Environment, ScriptRunConfig, Dataset\n",
        "from azureml.pipeline.core import Pipeline, ScheduleRecurrence, Schedule\n",
        "from azureml.pipeline.steps import PythonScriptStep\n",
        "\n",
        "from azureml.core import Workspace, Dataset\n",
        "\n",
        "from azureml.core import Workspace, Experiment, Environment, ScriptRunConfig\n",
        "from azureml.core.compute import ComputeTarget, AmlCompute\n",
        "from azureml.core.compute_target import ComputeTargetException\n",
        "from azureml.pipeline.core import Pipeline, PipelineData, PublishedPipeline\n",
        "from azureml.pipeline.steps import PythonScriptStep\n",
        "from azureml.pipeline.core.schedule import ScheduleRecurrence, Schedule\n",
        "\n",
        "from azureml.core import Workspace, Dataset, Datastore\n",
        "\n",
        "workspace = Workspace.from_config()\n",
        "\n",
        "datastore = workspace.get_default_datastore()"
      ],
      "outputs": [],
      "execution_count": 2,
      "metadata": {
        "jupyter": {
          "source_hidden": false,
          "outputs_hidden": false
        },
        "nteract": {
          "transient": {
            "deleting": false
          }
        },
        "gather": {
          "logged": 1684078895878
        }
      }
    },
    {
      "cell_type": "code",
      "source": [
        "environment = Environment.from_conda_specification(\"nfl_env\", \"nfl_env.yaml\")"
      ],
      "outputs": [],
      "execution_count": 3,
      "metadata": {
        "jupyter": {
          "source_hidden": false,
          "outputs_hidden": false
        },
        "nteract": {
          "transient": {
            "deleting": false
          }
        },
        "gather": {
          "logged": 1684078897162
        }
      }
    },
    {
      "cell_type": "code",
      "source": [
        "# Create a compute target\n",
        "compute_name = \"matthewhanauer991\"\n",
        "# Define the environment and dependencies for your script\n",
        "\n",
        "\n",
        "try:\n",
        "    compute_target = ComputeTarget(workspace=workspace, name=compute_name)\n",
        "except ComputeTargetException:\n",
        "    compute_config = AmlCompute.provisioning_configuration(\n",
        "        vm_size=\"STANDARD_D2_V2\", max_nodes=4\n",
        "    )\n",
        "    compute_target = ComputeTarget.create(workspace, compute_name, compute_config)\n",
        "    compute_target.wait_for_completion(show_output=True)"
      ],
      "outputs": [],
      "execution_count": 4,
      "metadata": {
        "jupyter": {
          "source_hidden": false,
          "outputs_hidden": false
        },
        "nteract": {
          "transient": {
            "deleting": false
          }
        },
        "gather": {
          "logged": 1684078899372
        }
      }
    },
    {
      "cell_type": "code",
      "source": [
        "import os\n",
        "\n",
        "script_path = os.path.abspath(\"production_injury_data.py\")\n",
        "\n",
        "src = ScriptRunConfig(source_directory=\".\", script=script_path, environment=environment)"
      ],
      "outputs": [],
      "execution_count": 5,
      "metadata": {
        "jupyter": {
          "source_hidden": false,
          "outputs_hidden": false
        },
        "nteract": {
          "transient": {
            "deleting": false
          }
        },
        "gather": {
          "logged": 1684078901327
        }
      }
    },
    {
      "cell_type": "code",
      "source": [
        "# Create a ScriptRunConfig for your script\n",
        "src = ScriptRunConfig(\n",
        "    source_directory=\".\", script=\"production_injury_data.py\", environment=environment\n",
        ")"
      ],
      "outputs": [],
      "execution_count": 6,
      "metadata": {
        "jupyter": {
          "source_hidden": false,
          "outputs_hidden": false
        },
        "nteract": {
          "transient": {
            "deleting": false
          }
        },
        "gather": {
          "logged": 1684078903146
        }
      }
    },
    {
      "cell_type": "code",
      "source": [
        "# Create a PythonScriptStep\n",
        "step = PythonScriptStep(\n",
        "    name=\"scrapper_nfl_injury\",\n",
        "    script_name=\"production_injury_data.py\",\n",
        "    compute_target=compute_target,\n",
        "    runconfig=src.run_config,\n",
        ")"
      ],
      "outputs": [],
      "execution_count": 7,
      "metadata": {
        "jupyter": {
          "source_hidden": false,
          "outputs_hidden": false
        },
        "nteract": {
          "transient": {
            "deleting": false
          }
        },
        "gather": {
          "logged": 1684078905146
        }
      }
    },
    {
      "cell_type": "code",
      "source": [
        "# Create a Pipeline using the PythonScriptStep\n",
        "pipeline = Pipeline(workspace=workspace, steps=[step])"
      ],
      "outputs": [],
      "execution_count": 8,
      "metadata": {
        "jupyter": {
          "source_hidden": false,
          "outputs_hidden": false
        },
        "nteract": {
          "transient": {
            "deleting": false
          }
        },
        "gather": {
          "logged": 1684078907560
        }
      }
    },
    {
      "cell_type": "code",
      "source": [
        "# Publish the pipeline\n",
        "published_pipeline = pipeline.publish(name=\"scrapper_nfl_injury_pipeline\")"
      ],
      "outputs": [
        {
          "output_type": "stream",
          "name": "stdout",
          "text": "Created step scrapper_nfl_injury [4b55e79c][631dbd59-3801-4862-8a2f-98ef3dd3e0d3], (This step will run and generate new outputs)\n"
        }
      ],
      "execution_count": 9,
      "metadata": {
        "jupyter": {
          "source_hidden": false,
          "outputs_hidden": false
        },
        "nteract": {
          "transient": {
            "deleting": false
          }
        },
        "gather": {
          "logged": 1684078911856
        }
      }
    },
    {
      "cell_type": "code",
      "source": [
        "from datetime import time\n",
        "\n",
        "\n",
        "recurrence = ScheduleRecurrence(frequency=\"Day\", interval=1, time_of_day=\"15:45\")\n",
        "schedule = Schedule.create(\n",
        "    workspace,\n",
        "    name=\"scrapper_nfl_injury_schedule\",\n",
        "    pipeline_id=published_pipeline.id,\n",
        "    experiment_name=\"scrapper_nfl_injury_experiment\",\n",
        "    recurrence=recurrence,\n",
        ")"
      ],
      "outputs": [],
      "execution_count": 10,
      "metadata": {
        "jupyter": {
          "source_hidden": false,
          "outputs_hidden": false
        },
        "nteract": {
          "transient": {
            "deleting": false
          }
        },
        "gather": {
          "logged": 1684078919720
        }
      }
    }
  ],
  "metadata": {
    "kernelspec": {
      "name": "python38-azureml",
      "language": "python",
      "display_name": "Python 3.8 - AzureML"
    },
    "language_info": {
      "name": "python",
      "version": "3.8.10",
      "mimetype": "text/x-python",
      "codemirror_mode": {
        "name": "ipython",
        "version": 3
      },
      "pygments_lexer": "ipython3",
      "nbconvert_exporter": "python",
      "file_extension": ".py"
    },
    "microsoft": {
      "ms_spell_check": {
        "ms_spell_check_language": "en"
      },
      "host": {
        "AzureML": {
          "notebookHasBeenCompleted": true
        }
      }
    },
    "kernel_info": {
      "name": "python38-azureml"
    },
    "nteract": {
      "version": "nteract-front-end@1.0.0"
    }
  },
  "nbformat": 4,
  "nbformat_minor": 2
}