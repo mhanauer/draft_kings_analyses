{
  "cells": [
    {
      "cell_type": "code",
      "source": [
        "%load_ext lab_black"
      ],
      "outputs": [],
      "execution_count": 1,
      "metadata": {}
    },
    {
      "cell_type": "markdown",
      "source": [
        "Step: Load data"
      ],
      "metadata": {
        "nteract": {
          "transient": {
            "deleting": false
          }
        }
      }
    },
    {
      "cell_type": "code",
      "source": [
        "import csv\n",
        "import pandas as pd\n",
        "import numpy as np\n",
        "import time\n",
        "\n",
        "import os\n",
        "\n",
        "\n",
        "from azureml.core import Workspace, Experiment, Environment, ScriptRunConfig, Dataset\n",
        "from azureml.pipeline.core import Pipeline, ScheduleRecurrence, Schedule\n",
        "from azureml.pipeline.steps import PythonScriptStep\n",
        "\n",
        "from azureml.core import Workspace, Dataset\n",
        "\n",
        "workspace = Workspace.from_config()\n",
        "datastore = workspace.get_default_datastore()"
      ],
      "outputs": [],
      "execution_count": 6,
      "metadata": {
        "jupyter": {
          "source_hidden": false,
          "outputs_hidden": false
        },
        "nteract": {
          "transient": {
            "deleting": false
          }
        },
        "gather": {
          "logged": 1684062874189
        }
      }
    },
    {
      "cell_type": "code",
      "source": [
        "# Set up the environment\n",
        "environment = Environment(name=\"nfl_injury_scraper\")\n",
        "environment.docker.enabled = True\n",
        "environment.docker.base_image = None\n",
        "environment.docker.base_dockerfile = \"Dockerfile\""
      ],
      "outputs": [
        {
          "output_type": "stream",
          "name": "stderr",
          "text": "'enabled' is deprecated. Please use the azureml.core.runconfig.DockerConfiguration object with the 'use_docker' param instead.\n"
        }
      ],
      "execution_count": 7,
      "metadata": {
        "jupyter": {
          "source_hidden": false,
          "outputs_hidden": false
        },
        "nteract": {
          "transient": {
            "deleting": false
          }
        },
        "gather": {
          "logged": 1684062877533
        }
      }
    },
    {
      "cell_type": "code",
      "source": [
        "# Create a ScriptRunConfig\n",
        "src = ScriptRunConfig(\n",
        "    source_directory=\".\", script=\"production_injury_data.py\", environment=environment\n",
        ")\n",
        "\n",
        "# Create a PythonScriptStep\n",
        "step = PythonScriptStep(\n",
        "    name=\"nfl_injury_scraper\",\n",
        "    script_name=\"production_injury_data.py\",\n",
        "    compute_target=\"matthewhanauer991\",\n",
        "    runconfig=src.run_config,\n",
        ")\n",
        "\n",
        "# Create a Pipeline\n",
        "pipeline = Pipeline(workspace=workspace, steps=[step])\n",
        "\n",
        "\n",
        "# Create an Experiment\n",
        "experiment = Experiment(workspace=workspace, name=\"nfl-injury-scraper-exp\")"
      ],
      "outputs": [],
      "execution_count": 13,
      "metadata": {
        "jupyter": {
          "source_hidden": false,
          "outputs_hidden": false
        },
        "nteract": {
          "transient": {
            "deleting": false
          }
        },
        "gather": {
          "logged": 1684063031174
        }
      }
    },
    {
      "cell_type": "code",
      "source": [
        "# Publish the Pipeline\n",
        "published_pipeline = pipeline.publish(name=\"nfl_injury_scraper_pipeline\")"
      ],
      "outputs": [
        {
          "output_type": "stream",
          "name": "stdout",
          "text": "Created step nfl_injury_scraper [6eb1f3ed][4ddefb13-4196-4b78-9a01-08fc4902e973], (This step will run and generate new outputs)\n"
        }
      ],
      "execution_count": 14,
      "metadata": {
        "jupyter": {
          "source_hidden": false,
          "outputs_hidden": false
        },
        "nteract": {
          "transient": {
            "deleting": false
          }
        },
        "gather": {
          "logged": 1684063044486
        }
      }
    },
    {
      "cell_type": "code",
      "source": [
        "\n",
        "# Set the schedule recurrence (e.g., every day at 10:00 UTC)\n",
        "recurrence = ScheduleRecurrence(frequency=\"Day\", interval=1, time_of_day=\"10:00\")"
      ],
      "outputs": [],
      "execution_count": null,
      "metadata": {
        "jupyter": {
          "source_hidden": false,
          "outputs_hidden": false
        },
        "nteract": {
          "transient": {
            "deleting": false
          }
        }
      }
    },
    {
      "cell_type": "code",
      "source": [
        "\n",
        "\n",
        "\n",
        "\n",
        "# Create the pipeline schedule\n",
        "schedule = Schedule.create(workspace=workspace,\n",
        "                                   name=\"nfl_injury_scraper_schedule\",\n",
        "                                   pipeline_id=published_pipeline.id,\n",
        "                                   experiment_name=\"nfl-injury-scraper-exp\",\n",
        "                                   recurrence=recurrence)\n"
      ],
      "outputs": [],
      "execution_count": null,
      "metadata": {
        "jupyter": {
          "source_hidden": false,
          "outputs_hidden": false
        },
        "nteract": {
          "transient": {
            "deleting": false
          }
        }
      }
    }
  ],
  "metadata": {
    "kernelspec": {
      "name": "python38-azureml",
      "language": "python",
      "display_name": "Python 3.8 - AzureML"
    },
    "language_info": {
      "name": "python",
      "version": "3.8.10",
      "mimetype": "text/x-python",
      "codemirror_mode": {
        "name": "ipython",
        "version": 3
      },
      "pygments_lexer": "ipython3",
      "nbconvert_exporter": "python",
      "file_extension": ".py"
    },
    "microsoft": {
      "ms_spell_check": {
        "ms_spell_check_language": "en"
      },
      "host": {
        "AzureML": {
          "notebookHasBeenCompleted": true
        }
      }
    },
    "kernel_info": {
      "name": "python38-azureml"
    },
    "nteract": {
      "version": "nteract-front-end@1.0.0"
    }
  },
  "nbformat": 4,
  "nbformat_minor": 2
}