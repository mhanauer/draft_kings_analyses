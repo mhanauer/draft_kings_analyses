{
  "cells": [
    {
      "cell_type": "code",
      "source": [
        "%load_ext lab_black"
      ],
      "outputs": [],
      "execution_count": null,
      "metadata": {}
    },
    {
      "cell_type": "markdown",
      "source": [
        "Step: Load data"
      ],
      "metadata": {
        "nteract": {
          "transient": {
            "deleting": false
          }
        }
      }
    },
    {
      "cell_type": "code",
      "source": [
        "import requests\n",
        "from bs4 import BeautifulSoup\n",
        "import csv\n",
        "import pandas as pd\n",
        "import numpy as np"
      ],
      "outputs": [],
      "execution_count": 14,
      "metadata": {
        "jupyter": {
          "source_hidden": false,
          "outputs_hidden": false
        },
        "nteract": {
          "transient": {
            "deleting": false
          }
        },
        "gather": {
          "logged": 1682768403074
        }
      }
    },
    {
      "cell_type": "code",
      "source": [
        "\n",
        "url = 'https://www.pro-football-reference.com/years/2020/passing.htm'\n",
        "response = requests.get(url)\n",
        "soup = BeautifulSoup(response.text, 'html.parser')\n",
        "\n",
        "# Find the table\n",
        "table = soup.find('table', {'id': 'passing'})\n",
        "\n",
        "# Extract the headers\n",
        "headers = [th.text for th in table.thead.find_all('th') if th.text != 'Rk']\n",
        "\n",
        "# Extract the rows\n",
        "rows = table.tbody.find_all('tr')\n",
        "\n",
        "# Extract the data from each row\n",
        "data = []\n",
        "for row in rows:\n",
        "    if row.get('class') and 'thead' in row['class']:\n",
        "        continue\n",
        "    data_row = [td.text for td in row.find_all('td')]\n",
        "    data.append(data_row)"
      ],
      "outputs": [],
      "execution_count": 11,
      "metadata": {
        "jupyter": {
          "source_hidden": false,
          "outputs_hidden": false
        },
        "nteract": {
          "transient": {
            "deleting": false
          }
        },
        "gather": {
          "logged": 1682768263188
        }
      }
    },
    {
      "cell_type": "code",
      "source": [
        "import requests\n",
        "from bs4 import BeautifulSoup\n",
        "import pandas as pd\n",
        "\n",
        "def scrape_table(url, table_id):\n",
        "    response = requests.get(url)\n",
        "    soup = BeautifulSoup(response.text, 'html.parser')\n",
        "\n",
        "    table = soup.find('table', {'id': table_id})\n",
        "    headers = [th.text for th in table.thead.find_all('th') if th.text != 'Rk']\n",
        "\n",
        "    rows = table.tbody.find_all('tr')\n",
        "    data = []\n",
        "    for row in rows:\n",
        "        if row.get('class') and 'thead' in row['class']:\n",
        "            continue\n",
        "        data_row = [td.text for td in row.find_all('td')]\n",
        "        data.append(data_row)\n",
        "\n",
        "    df = pd.DataFrame(data, columns=headers)\n",
        "    df = df.dropna(axis=1, how='all')  # Remove empty columns\n",
        "    return df\n",
        "\n",
        "\n",
        "year = 2020\n",
        "base_url = 'https://www.pro-football-reference.com/years/{}/'\n",
        "\n",
        "\n"
      ],
      "outputs": [],
      "execution_count": 21,
      "metadata": {
        "jupyter": {
          "source_hidden": false,
          "outputs_hidden": false
        },
        "nteract": {
          "transient": {
            "deleting": false
          }
        },
        "gather": {
          "logged": 1682769561256
        }
      }
    },
    {
      "cell_type": "code",
      "source": [
        "# Scrape passing data\n",
        "passing_url = base_url.format(year) + 'passing.htm'\n",
        "passing_df = scrape_table(passing_url, 'passing')\n",
        "print(\"Passing Data:\")\n",
        "passing_df"
      ],
      "outputs": [
        {
          "output_type": "stream",
          "name": "stdout",
          "text": "Passing Data:\n"
        },
        {
          "output_type": "execute_result",
          "execution_count": 22,
          "data": {
            "text/plain": "               Player   Tm Age Pos   G  GS   QBrec  Cmp  Att  Cmp%  ...  \\\n0     Deshaun Watson*  HOU  25  QB  16  16  4-12-0  382  544  70.2  ...   \n1    Patrick Mahomes*  KAN  25  QB  15  15  14-1-0  390  588  66.3  ...   \n2           Tom Brady  TAM  43  QB  16  16  11-5-0  401  610  65.7  ...   \n3           Matt Ryan  ATL  35  QB  16  16  4-12-0  407  626  65.0  ...   \n4         Josh Allen*  BUF  24  QB  16  16  13-3-0  396  572  69.2  ...   \n..                ...  ...  ..  ..  ..  ..     ...  ...  ...   ...  ...   \n107        Brett Kern  TEN  34   P  13   0            0    1   0.0  ...   \n108        D.J. Moore  CAR  23  WR  15  14            0    1   0.0  ...   \n109       Zach Pascal  IND  26  WR  16  14            0    1   0.0  ...   \n110     Sammy Watkins  KAN  27  WR  10   9            0    1   0.0  ...   \n111     Isaiah Wright  WAS  23  WR  14   6            0    1   0.0  ...   \n\n       Y/G   Rate   QBR  Sk  Yds  Sk%  NY/A   ANY/A 4QC GWD  \n0    301.4  112.4  63.7  49  293  8.3  7.64    8.22          \n1    316.0  108.2  78.1  22  147  3.6  7.53    8.33   3   3  \n2    289.6  102.2  66.0  21  143  3.3  7.12    7.53   3   3  \n3    286.3   93.3  59.8  41  257  6.1  6.48    6.52          \n4    284.0  107.2  76.6  26  159  4.3  7.33    7.82   2   3  \n..     ...    ...   ...  ..  ...  ...   ...     ...  ..  ..  \n107    0.0   39.6   0.0   0    0  0.0  0.00    0.00          \n108    0.0   39.6         0    0  0.0  0.00    0.00          \n109    0.0   39.6   1.8   0    0  0.0  0.00    0.00          \n110    0.0    0.0   0.0   0    0  0.0  0.00  -45.00          \n111    0.0   39.6   2.8   0    0  0.0  0.00    0.00          \n\n[112 rows x 30 columns]",
            "text/html": "<div>\n<style scoped>\n    .dataframe tbody tr th:only-of-type {\n        vertical-align: middle;\n    }\n\n    .dataframe tbody tr th {\n        vertical-align: top;\n    }\n\n    .dataframe thead th {\n        text-align: right;\n    }\n</style>\n<table border=\"1\" class=\"dataframe\">\n  <thead>\n    <tr style=\"text-align: right;\">\n      <th></th>\n      <th>Player</th>\n      <th>Tm</th>\n      <th>Age</th>\n      <th>Pos</th>\n      <th>G</th>\n      <th>GS</th>\n      <th>QBrec</th>\n      <th>Cmp</th>\n      <th>Att</th>\n      <th>Cmp%</th>\n      <th>...</th>\n      <th>Y/G</th>\n      <th>Rate</th>\n      <th>QBR</th>\n      <th>Sk</th>\n      <th>Yds</th>\n      <th>Sk%</th>\n      <th>NY/A</th>\n      <th>ANY/A</th>\n      <th>4QC</th>\n      <th>GWD</th>\n    </tr>\n  </thead>\n  <tbody>\n    <tr>\n      <th>0</th>\n      <td>Deshaun Watson*</td>\n      <td>HOU</td>\n      <td>25</td>\n      <td>QB</td>\n      <td>16</td>\n      <td>16</td>\n      <td>4-12-0</td>\n      <td>382</td>\n      <td>544</td>\n      <td>70.2</td>\n      <td>...</td>\n      <td>301.4</td>\n      <td>112.4</td>\n      <td>63.7</td>\n      <td>49</td>\n      <td>293</td>\n      <td>8.3</td>\n      <td>7.64</td>\n      <td>8.22</td>\n      <td></td>\n      <td></td>\n    </tr>\n    <tr>\n      <th>1</th>\n      <td>Patrick Mahomes*</td>\n      <td>KAN</td>\n      <td>25</td>\n      <td>QB</td>\n      <td>15</td>\n      <td>15</td>\n      <td>14-1-0</td>\n      <td>390</td>\n      <td>588</td>\n      <td>66.3</td>\n      <td>...</td>\n      <td>316.0</td>\n      <td>108.2</td>\n      <td>78.1</td>\n      <td>22</td>\n      <td>147</td>\n      <td>3.6</td>\n      <td>7.53</td>\n      <td>8.33</td>\n      <td>3</td>\n      <td>3</td>\n    </tr>\n    <tr>\n      <th>2</th>\n      <td>Tom Brady</td>\n      <td>TAM</td>\n      <td>43</td>\n      <td>QB</td>\n      <td>16</td>\n      <td>16</td>\n      <td>11-5-0</td>\n      <td>401</td>\n      <td>610</td>\n      <td>65.7</td>\n      <td>...</td>\n      <td>289.6</td>\n      <td>102.2</td>\n      <td>66.0</td>\n      <td>21</td>\n      <td>143</td>\n      <td>3.3</td>\n      <td>7.12</td>\n      <td>7.53</td>\n      <td>3</td>\n      <td>3</td>\n    </tr>\n    <tr>\n      <th>3</th>\n      <td>Matt Ryan</td>\n      <td>ATL</td>\n      <td>35</td>\n      <td>QB</td>\n      <td>16</td>\n      <td>16</td>\n      <td>4-12-0</td>\n      <td>407</td>\n      <td>626</td>\n      <td>65.0</td>\n      <td>...</td>\n      <td>286.3</td>\n      <td>93.3</td>\n      <td>59.8</td>\n      <td>41</td>\n      <td>257</td>\n      <td>6.1</td>\n      <td>6.48</td>\n      <td>6.52</td>\n      <td></td>\n      <td></td>\n    </tr>\n    <tr>\n      <th>4</th>\n      <td>Josh Allen*</td>\n      <td>BUF</td>\n      <td>24</td>\n      <td>QB</td>\n      <td>16</td>\n      <td>16</td>\n      <td>13-3-0</td>\n      <td>396</td>\n      <td>572</td>\n      <td>69.2</td>\n      <td>...</td>\n      <td>284.0</td>\n      <td>107.2</td>\n      <td>76.6</td>\n      <td>26</td>\n      <td>159</td>\n      <td>4.3</td>\n      <td>7.33</td>\n      <td>7.82</td>\n      <td>2</td>\n      <td>3</td>\n    </tr>\n    <tr>\n      <th>...</th>\n      <td>...</td>\n      <td>...</td>\n      <td>...</td>\n      <td>...</td>\n      <td>...</td>\n      <td>...</td>\n      <td>...</td>\n      <td>...</td>\n      <td>...</td>\n      <td>...</td>\n      <td>...</td>\n      <td>...</td>\n      <td>...</td>\n      <td>...</td>\n      <td>...</td>\n      <td>...</td>\n      <td>...</td>\n      <td>...</td>\n      <td>...</td>\n      <td>...</td>\n      <td>...</td>\n    </tr>\n    <tr>\n      <th>107</th>\n      <td>Brett Kern</td>\n      <td>TEN</td>\n      <td>34</td>\n      <td>P</td>\n      <td>13</td>\n      <td>0</td>\n      <td></td>\n      <td>0</td>\n      <td>1</td>\n      <td>0.0</td>\n      <td>...</td>\n      <td>0.0</td>\n      <td>39.6</td>\n      <td>0.0</td>\n      <td>0</td>\n      <td>0</td>\n      <td>0.0</td>\n      <td>0.00</td>\n      <td>0.00</td>\n      <td></td>\n      <td></td>\n    </tr>\n    <tr>\n      <th>108</th>\n      <td>D.J. Moore</td>\n      <td>CAR</td>\n      <td>23</td>\n      <td>WR</td>\n      <td>15</td>\n      <td>14</td>\n      <td></td>\n      <td>0</td>\n      <td>1</td>\n      <td>0.0</td>\n      <td>...</td>\n      <td>0.0</td>\n      <td>39.6</td>\n      <td></td>\n      <td>0</td>\n      <td>0</td>\n      <td>0.0</td>\n      <td>0.00</td>\n      <td>0.00</td>\n      <td></td>\n      <td></td>\n    </tr>\n    <tr>\n      <th>109</th>\n      <td>Zach Pascal</td>\n      <td>IND</td>\n      <td>26</td>\n      <td>WR</td>\n      <td>16</td>\n      <td>14</td>\n      <td></td>\n      <td>0</td>\n      <td>1</td>\n      <td>0.0</td>\n      <td>...</td>\n      <td>0.0</td>\n      <td>39.6</td>\n      <td>1.8</td>\n      <td>0</td>\n      <td>0</td>\n      <td>0.0</td>\n      <td>0.00</td>\n      <td>0.00</td>\n      <td></td>\n      <td></td>\n    </tr>\n    <tr>\n      <th>110</th>\n      <td>Sammy Watkins</td>\n      <td>KAN</td>\n      <td>27</td>\n      <td>WR</td>\n      <td>10</td>\n      <td>9</td>\n      <td></td>\n      <td>0</td>\n      <td>1</td>\n      <td>0.0</td>\n      <td>...</td>\n      <td>0.0</td>\n      <td>0.0</td>\n      <td>0.0</td>\n      <td>0</td>\n      <td>0</td>\n      <td>0.0</td>\n      <td>0.00</td>\n      <td>-45.00</td>\n      <td></td>\n      <td></td>\n    </tr>\n    <tr>\n      <th>111</th>\n      <td>Isaiah Wright</td>\n      <td>WAS</td>\n      <td>23</td>\n      <td>WR</td>\n      <td>14</td>\n      <td>6</td>\n      <td></td>\n      <td>0</td>\n      <td>1</td>\n      <td>0.0</td>\n      <td>...</td>\n      <td>0.0</td>\n      <td>39.6</td>\n      <td>2.8</td>\n      <td>0</td>\n      <td>0</td>\n      <td>0.0</td>\n      <td>0.00</td>\n      <td>0.00</td>\n      <td></td>\n      <td></td>\n    </tr>\n  </tbody>\n</table>\n<p>112 rows × 30 columns</p>\n</div>"
          },
          "metadata": {}
        }
      ],
      "execution_count": 22,
      "metadata": {
        "jupyter": {
          "source_hidden": false,
          "outputs_hidden": false
        },
        "nteract": {
          "transient": {
            "deleting": false
          }
        },
        "gather": {
          "logged": 1682769568047
        }
      }
    },
    {
      "cell_type": "code",
      "source": [
        "# Scrape rushing data\n",
        "rushing_url = base_url.format(year) + 'rushing.htm'\n",
        "rushing_df = scrape_table(rushing_url, 'rushing')\n",
        "rushing_df"
      ],
      "outputs": [
        {
          "output_type": "error",
          "ename": "ValueError",
          "evalue": "18 columns passed, passed data had 14 columns",
          "traceback": [
            "\u001b[0;31m---------------------------------------------------------------------------\u001b[0m",
            "\u001b[0;31mAssertionError\u001b[0m                            Traceback (most recent call last)",
            "File \u001b[0;32m/anaconda/envs/azureml_py38/lib/python3.8/site-packages/pandas/core/internals/construction.py:982\u001b[0m, in \u001b[0;36m_finalize_columns_and_data\u001b[0;34m(content, columns, dtype)\u001b[0m\n\u001b[1;32m    981\u001b[0m \u001b[38;5;28;01mtry\u001b[39;00m:\n\u001b[0;32m--> 982\u001b[0m     columns \u001b[38;5;241m=\u001b[39m \u001b[43m_validate_or_indexify_columns\u001b[49m\u001b[43m(\u001b[49m\u001b[43mcontents\u001b[49m\u001b[43m,\u001b[49m\u001b[43m \u001b[49m\u001b[43mcolumns\u001b[49m\u001b[43m)\u001b[49m\n\u001b[1;32m    983\u001b[0m \u001b[38;5;28;01mexcept\u001b[39;00m \u001b[38;5;167;01mAssertionError\u001b[39;00m \u001b[38;5;28;01mas\u001b[39;00m err:\n\u001b[1;32m    984\u001b[0m     \u001b[38;5;66;03m# GH#26429 do not raise user-facing AssertionError\u001b[39;00m\n",
            "File \u001b[0;32m/anaconda/envs/azureml_py38/lib/python3.8/site-packages/pandas/core/internals/construction.py:1030\u001b[0m, in \u001b[0;36m_validate_or_indexify_columns\u001b[0;34m(content, columns)\u001b[0m\n\u001b[1;32m   1028\u001b[0m \u001b[38;5;28;01mif\u001b[39;00m \u001b[38;5;129;01mnot\u001b[39;00m is_mi_list \u001b[38;5;129;01mand\u001b[39;00m \u001b[38;5;28mlen\u001b[39m(columns) \u001b[38;5;241m!=\u001b[39m \u001b[38;5;28mlen\u001b[39m(content):  \u001b[38;5;66;03m# pragma: no cover\u001b[39;00m\n\u001b[1;32m   1029\u001b[0m     \u001b[38;5;66;03m# caller's responsibility to check for this...\u001b[39;00m\n\u001b[0;32m-> 1030\u001b[0m     \u001b[38;5;28;01mraise\u001b[39;00m \u001b[38;5;167;01mAssertionError\u001b[39;00m(\n\u001b[1;32m   1031\u001b[0m         \u001b[38;5;124mf\u001b[39m\u001b[38;5;124m\"\u001b[39m\u001b[38;5;132;01m{\u001b[39;00m\u001b[38;5;28mlen\u001b[39m(columns)\u001b[38;5;132;01m}\u001b[39;00m\u001b[38;5;124m columns passed, passed data had \u001b[39m\u001b[38;5;124m\"\u001b[39m\n\u001b[1;32m   1032\u001b[0m         \u001b[38;5;124mf\u001b[39m\u001b[38;5;124m\"\u001b[39m\u001b[38;5;132;01m{\u001b[39;00m\u001b[38;5;28mlen\u001b[39m(content)\u001b[38;5;132;01m}\u001b[39;00m\u001b[38;5;124m columns\u001b[39m\u001b[38;5;124m\"\u001b[39m\n\u001b[1;32m   1033\u001b[0m     )\n\u001b[1;32m   1034\u001b[0m \u001b[38;5;28;01melif\u001b[39;00m is_mi_list:\n\u001b[1;32m   1035\u001b[0m \n\u001b[1;32m   1036\u001b[0m     \u001b[38;5;66;03m# check if nested list column, length of each sub-list should be equal\u001b[39;00m\n",
            "\u001b[0;31mAssertionError\u001b[0m: 18 columns passed, passed data had 14 columns",
            "\nThe above exception was the direct cause of the following exception:\n",
            "\u001b[0;31mValueError\u001b[0m                                Traceback (most recent call last)",
            "Cell \u001b[0;32mIn[23], line 3\u001b[0m\n\u001b[1;32m      1\u001b[0m \u001b[38;5;66;03m# Scrape rushing data\u001b[39;00m\n\u001b[1;32m      2\u001b[0m rushing_url \u001b[38;5;241m=\u001b[39m base_url\u001b[38;5;241m.\u001b[39mformat(year) \u001b[38;5;241m+\u001b[39m \u001b[38;5;124m'\u001b[39m\u001b[38;5;124mrushing.htm\u001b[39m\u001b[38;5;124m'\u001b[39m\n\u001b[0;32m----> 3\u001b[0m rushing_df \u001b[38;5;241m=\u001b[39m \u001b[43mscrape_table\u001b[49m\u001b[43m(\u001b[49m\u001b[43mrushing_url\u001b[49m\u001b[43m,\u001b[49m\u001b[43m \u001b[49m\u001b[38;5;124;43m'\u001b[39;49m\u001b[38;5;124;43mrushing\u001b[39;49m\u001b[38;5;124;43m'\u001b[39;49m\u001b[43m)\u001b[49m\n\u001b[1;32m      4\u001b[0m rushing_df\n",
            "Cell \u001b[0;32mIn[21], line 20\u001b[0m, in \u001b[0;36mscrape_table\u001b[0;34m(url, table_id)\u001b[0m\n\u001b[1;32m     17\u001b[0m     data_row \u001b[38;5;241m=\u001b[39m [td\u001b[38;5;241m.\u001b[39mtext \u001b[38;5;28;01mfor\u001b[39;00m td \u001b[38;5;129;01min\u001b[39;00m row\u001b[38;5;241m.\u001b[39mfind_all(\u001b[38;5;124m'\u001b[39m\u001b[38;5;124mtd\u001b[39m\u001b[38;5;124m'\u001b[39m)]\n\u001b[1;32m     18\u001b[0m     data\u001b[38;5;241m.\u001b[39mappend(data_row)\n\u001b[0;32m---> 20\u001b[0m df \u001b[38;5;241m=\u001b[39m \u001b[43mpd\u001b[49m\u001b[38;5;241;43m.\u001b[39;49m\u001b[43mDataFrame\u001b[49m\u001b[43m(\u001b[49m\u001b[43mdata\u001b[49m\u001b[43m,\u001b[49m\u001b[43m \u001b[49m\u001b[43mcolumns\u001b[49m\u001b[38;5;241;43m=\u001b[39;49m\u001b[43mheaders\u001b[49m\u001b[43m)\u001b[49m\n\u001b[1;32m     21\u001b[0m df \u001b[38;5;241m=\u001b[39m df\u001b[38;5;241m.\u001b[39mdropna(axis\u001b[38;5;241m=\u001b[39m\u001b[38;5;241m1\u001b[39m, how\u001b[38;5;241m=\u001b[39m\u001b[38;5;124m'\u001b[39m\u001b[38;5;124mall\u001b[39m\u001b[38;5;124m'\u001b[39m)  \u001b[38;5;66;03m# Remove empty columns\u001b[39;00m\n\u001b[1;32m     22\u001b[0m \u001b[38;5;28;01mreturn\u001b[39;00m df\n",
            "File \u001b[0;32m/anaconda/envs/azureml_py38/lib/python3.8/site-packages/pandas/core/frame.py:721\u001b[0m, in \u001b[0;36mDataFrame.__init__\u001b[0;34m(self, data, index, columns, dtype, copy)\u001b[0m\n\u001b[1;32m    716\u001b[0m     \u001b[38;5;28;01mif\u001b[39;00m columns \u001b[38;5;129;01mis\u001b[39;00m \u001b[38;5;129;01mnot\u001b[39;00m \u001b[38;5;28;01mNone\u001b[39;00m:\n\u001b[1;32m    717\u001b[0m         \u001b[38;5;66;03m# error: Argument 1 to \"ensure_index\" has incompatible type\u001b[39;00m\n\u001b[1;32m    718\u001b[0m         \u001b[38;5;66;03m# \"Collection[Any]\"; expected \"Union[Union[Union[ExtensionArray,\u001b[39;00m\n\u001b[1;32m    719\u001b[0m         \u001b[38;5;66;03m# ndarray], Index, Series], Sequence[Any]]\"\u001b[39;00m\n\u001b[1;32m    720\u001b[0m         columns \u001b[38;5;241m=\u001b[39m ensure_index(columns)  \u001b[38;5;66;03m# type: ignore[arg-type]\u001b[39;00m\n\u001b[0;32m--> 721\u001b[0m     arrays, columns, index \u001b[38;5;241m=\u001b[39m \u001b[43mnested_data_to_arrays\u001b[49m\u001b[43m(\u001b[49m\n\u001b[1;32m    722\u001b[0m \u001b[43m        \u001b[49m\u001b[38;5;66;43;03m# error: Argument 3 to \"nested_data_to_arrays\" has incompatible\u001b[39;49;00m\n\u001b[1;32m    723\u001b[0m \u001b[43m        \u001b[49m\u001b[38;5;66;43;03m# type \"Optional[Collection[Any]]\"; expected \"Optional[Index]\"\u001b[39;49;00m\n\u001b[1;32m    724\u001b[0m \u001b[43m        \u001b[49m\u001b[43mdata\u001b[49m\u001b[43m,\u001b[49m\n\u001b[1;32m    725\u001b[0m \u001b[43m        \u001b[49m\u001b[43mcolumns\u001b[49m\u001b[43m,\u001b[49m\n\u001b[1;32m    726\u001b[0m \u001b[43m        \u001b[49m\u001b[43mindex\u001b[49m\u001b[43m,\u001b[49m\u001b[43m  \u001b[49m\u001b[38;5;66;43;03m# type: ignore[arg-type]\u001b[39;49;00m\n\u001b[1;32m    727\u001b[0m \u001b[43m        \u001b[49m\u001b[43mdtype\u001b[49m\u001b[43m,\u001b[49m\n\u001b[1;32m    728\u001b[0m \u001b[43m    \u001b[49m\u001b[43m)\u001b[49m\n\u001b[1;32m    729\u001b[0m     mgr \u001b[38;5;241m=\u001b[39m arrays_to_mgr(\n\u001b[1;32m    730\u001b[0m         arrays,\n\u001b[1;32m    731\u001b[0m         columns,\n\u001b[0;32m   (...)\u001b[0m\n\u001b[1;32m    734\u001b[0m         typ\u001b[38;5;241m=\u001b[39mmanager,\n\u001b[1;32m    735\u001b[0m     )\n\u001b[1;32m    736\u001b[0m \u001b[38;5;28;01melse\u001b[39;00m:\n",
            "File \u001b[0;32m/anaconda/envs/azureml_py38/lib/python3.8/site-packages/pandas/core/internals/construction.py:519\u001b[0m, in \u001b[0;36mnested_data_to_arrays\u001b[0;34m(data, columns, index, dtype)\u001b[0m\n\u001b[1;32m    516\u001b[0m \u001b[38;5;28;01mif\u001b[39;00m is_named_tuple(data[\u001b[38;5;241m0\u001b[39m]) \u001b[38;5;129;01mand\u001b[39;00m columns \u001b[38;5;129;01mis\u001b[39;00m \u001b[38;5;28;01mNone\u001b[39;00m:\n\u001b[1;32m    517\u001b[0m     columns \u001b[38;5;241m=\u001b[39m ensure_index(data[\u001b[38;5;241m0\u001b[39m]\u001b[38;5;241m.\u001b[39m_fields)\n\u001b[0;32m--> 519\u001b[0m arrays, columns \u001b[38;5;241m=\u001b[39m \u001b[43mto_arrays\u001b[49m\u001b[43m(\u001b[49m\u001b[43mdata\u001b[49m\u001b[43m,\u001b[49m\u001b[43m \u001b[49m\u001b[43mcolumns\u001b[49m\u001b[43m,\u001b[49m\u001b[43m \u001b[49m\u001b[43mdtype\u001b[49m\u001b[38;5;241;43m=\u001b[39;49m\u001b[43mdtype\u001b[49m\u001b[43m)\u001b[49m\n\u001b[1;32m    520\u001b[0m columns \u001b[38;5;241m=\u001b[39m ensure_index(columns)\n\u001b[1;32m    522\u001b[0m \u001b[38;5;28;01mif\u001b[39;00m index \u001b[38;5;129;01mis\u001b[39;00m \u001b[38;5;28;01mNone\u001b[39;00m:\n",
            "File \u001b[0;32m/anaconda/envs/azureml_py38/lib/python3.8/site-packages/pandas/core/internals/construction.py:883\u001b[0m, in \u001b[0;36mto_arrays\u001b[0;34m(data, columns, dtype)\u001b[0m\n\u001b[1;32m    880\u001b[0m     data \u001b[38;5;241m=\u001b[39m [\u001b[38;5;28mtuple\u001b[39m(x) \u001b[38;5;28;01mfor\u001b[39;00m x \u001b[38;5;129;01min\u001b[39;00m data]\n\u001b[1;32m    881\u001b[0m     arr \u001b[38;5;241m=\u001b[39m _list_to_arrays(data)\n\u001b[0;32m--> 883\u001b[0m content, columns \u001b[38;5;241m=\u001b[39m \u001b[43m_finalize_columns_and_data\u001b[49m\u001b[43m(\u001b[49m\u001b[43marr\u001b[49m\u001b[43m,\u001b[49m\u001b[43m \u001b[49m\u001b[43mcolumns\u001b[49m\u001b[43m,\u001b[49m\u001b[43m \u001b[49m\u001b[43mdtype\u001b[49m\u001b[43m)\u001b[49m\n\u001b[1;32m    884\u001b[0m \u001b[38;5;28;01mreturn\u001b[39;00m content, columns\n",
            "File \u001b[0;32m/anaconda/envs/azureml_py38/lib/python3.8/site-packages/pandas/core/internals/construction.py:985\u001b[0m, in \u001b[0;36m_finalize_columns_and_data\u001b[0;34m(content, columns, dtype)\u001b[0m\n\u001b[1;32m    982\u001b[0m     columns \u001b[38;5;241m=\u001b[39m _validate_or_indexify_columns(contents, columns)\n\u001b[1;32m    983\u001b[0m \u001b[38;5;28;01mexcept\u001b[39;00m \u001b[38;5;167;01mAssertionError\u001b[39;00m \u001b[38;5;28;01mas\u001b[39;00m err:\n\u001b[1;32m    984\u001b[0m     \u001b[38;5;66;03m# GH#26429 do not raise user-facing AssertionError\u001b[39;00m\n\u001b[0;32m--> 985\u001b[0m     \u001b[38;5;28;01mraise\u001b[39;00m \u001b[38;5;167;01mValueError\u001b[39;00m(err) \u001b[38;5;28;01mfrom\u001b[39;00m \u001b[38;5;21;01merr\u001b[39;00m\n\u001b[1;32m    987\u001b[0m \u001b[38;5;28;01mif\u001b[39;00m \u001b[38;5;28mlen\u001b[39m(contents) \u001b[38;5;129;01mand\u001b[39;00m contents[\u001b[38;5;241m0\u001b[39m]\u001b[38;5;241m.\u001b[39mdtype \u001b[38;5;241m==\u001b[39m np\u001b[38;5;241m.\u001b[39mobject_:\n\u001b[1;32m    988\u001b[0m     contents \u001b[38;5;241m=\u001b[39m _convert_object_array(contents, dtype\u001b[38;5;241m=\u001b[39mdtype)\n",
            "\u001b[0;31mValueError\u001b[0m: 18 columns passed, passed data had 14 columns"
          ]
        }
      ],
      "execution_count": 23,
      "metadata": {
        "jupyter": {
          "source_hidden": false,
          "outputs_hidden": false
        },
        "nteract": {
          "transient": {
            "deleting": false
          }
        },
        "gather": {
          "logged": 1682769580305
        }
      }
    },
    {
      "cell_type": "code",
      "source": [
        "# Scrape receiving data\n",
        "receiving_url = base_url.format(year) + 'receiving.htm'\n",
        "receiving_df = scrape_table(receiving_url, 'receiving')\n",
        "receiving_df"
      ],
      "outputs": [
        {
          "output_type": "execute_result",
          "execution_count": 24,
          "data": {
            "text/plain": "               Player   Tm Age Pos   G  GS  Tgt  Rec  Ctch%   Yds   Y/R  TD  \\\n0      Stefon Diggs*+  BUF  27  WR  16  15  166  127  76.5%  1535  12.1   8   \n1     Davante Adams*+  GNB  28  WR  14  14  149  115  77.2%  1374  11.9  18   \n2    DeAndre Hopkins*  ARI  28  WR  16  16  160  115  71.9%  1407  12.2   6   \n3      Darren Waller*  LVR  28  TE  16  15  145  107  73.8%  1196  11.2   9   \n4      Travis Kelce*+  KAN  31  TE  15  15  145  105  72.4%  1416  13.5  11   \n..                ...  ...  ..  ..  ..  ..  ...  ...    ...   ...   ...  ..   \n520  Matthew Stafford  DET  32  QB  16  16    1    0   0.0%     0         0   \n521     Taywan Taylor  CLE  25  WR   3   0    1    0   0.0%     0         0   \n522       Noah Togiai  IND  23  TE   4   0    1    0   0.0%     0         0   \n523    Eric Tomlinson  2TM  28  TE   7   2    1    0   0.0%     0         0   \n524       P.J. Walker  CAR  25  QB   4   1    1    0   0.0%     0         0   \n\n     1D Lng Y/Tgt  R/G   Y/G Fmb  \n0    73  55   9.2  7.9  95.9   0  \n1    73  56   9.2  8.2  98.1   1  \n2    75  60   8.8  7.2  87.9   3  \n3    68  38   8.2  6.7  74.8   2  \n4    79  45   9.8  7.0  94.4   1  \n..   ..  ..   ...  ...   ...  ..  \n520   0   0   0.0  0.0   0.0   2  \n521   0   0   0.0  0.0   0.0      \n522   0   0   0.0  0.0   0.0      \n523   0   0   0.0  0.0   0.0      \n524   0   0   0.0  0.0   0.0   1  \n\n[525 rows x 18 columns]",
            "text/html": "<div>\n<style scoped>\n    .dataframe tbody tr th:only-of-type {\n        vertical-align: middle;\n    }\n\n    .dataframe tbody tr th {\n        vertical-align: top;\n    }\n\n    .dataframe thead th {\n        text-align: right;\n    }\n</style>\n<table border=\"1\" class=\"dataframe\">\n  <thead>\n    <tr style=\"text-align: right;\">\n      <th></th>\n      <th>Player</th>\n      <th>Tm</th>\n      <th>Age</th>\n      <th>Pos</th>\n      <th>G</th>\n      <th>GS</th>\n      <th>Tgt</th>\n      <th>Rec</th>\n      <th>Ctch%</th>\n      <th>Yds</th>\n      <th>Y/R</th>\n      <th>TD</th>\n      <th>1D</th>\n      <th>Lng</th>\n      <th>Y/Tgt</th>\n      <th>R/G</th>\n      <th>Y/G</th>\n      <th>Fmb</th>\n    </tr>\n  </thead>\n  <tbody>\n    <tr>\n      <th>0</th>\n      <td>Stefon Diggs*+</td>\n      <td>BUF</td>\n      <td>27</td>\n      <td>WR</td>\n      <td>16</td>\n      <td>15</td>\n      <td>166</td>\n      <td>127</td>\n      <td>76.5%</td>\n      <td>1535</td>\n      <td>12.1</td>\n      <td>8</td>\n      <td>73</td>\n      <td>55</td>\n      <td>9.2</td>\n      <td>7.9</td>\n      <td>95.9</td>\n      <td>0</td>\n    </tr>\n    <tr>\n      <th>1</th>\n      <td>Davante Adams*+</td>\n      <td>GNB</td>\n      <td>28</td>\n      <td>WR</td>\n      <td>14</td>\n      <td>14</td>\n      <td>149</td>\n      <td>115</td>\n      <td>77.2%</td>\n      <td>1374</td>\n      <td>11.9</td>\n      <td>18</td>\n      <td>73</td>\n      <td>56</td>\n      <td>9.2</td>\n      <td>8.2</td>\n      <td>98.1</td>\n      <td>1</td>\n    </tr>\n    <tr>\n      <th>2</th>\n      <td>DeAndre Hopkins*</td>\n      <td>ARI</td>\n      <td>28</td>\n      <td>WR</td>\n      <td>16</td>\n      <td>16</td>\n      <td>160</td>\n      <td>115</td>\n      <td>71.9%</td>\n      <td>1407</td>\n      <td>12.2</td>\n      <td>6</td>\n      <td>75</td>\n      <td>60</td>\n      <td>8.8</td>\n      <td>7.2</td>\n      <td>87.9</td>\n      <td>3</td>\n    </tr>\n    <tr>\n      <th>3</th>\n      <td>Darren Waller*</td>\n      <td>LVR</td>\n      <td>28</td>\n      <td>TE</td>\n      <td>16</td>\n      <td>15</td>\n      <td>145</td>\n      <td>107</td>\n      <td>73.8%</td>\n      <td>1196</td>\n      <td>11.2</td>\n      <td>9</td>\n      <td>68</td>\n      <td>38</td>\n      <td>8.2</td>\n      <td>6.7</td>\n      <td>74.8</td>\n      <td>2</td>\n    </tr>\n    <tr>\n      <th>4</th>\n      <td>Travis Kelce*+</td>\n      <td>KAN</td>\n      <td>31</td>\n      <td>TE</td>\n      <td>15</td>\n      <td>15</td>\n      <td>145</td>\n      <td>105</td>\n      <td>72.4%</td>\n      <td>1416</td>\n      <td>13.5</td>\n      <td>11</td>\n      <td>79</td>\n      <td>45</td>\n      <td>9.8</td>\n      <td>7.0</td>\n      <td>94.4</td>\n      <td>1</td>\n    </tr>\n    <tr>\n      <th>...</th>\n      <td>...</td>\n      <td>...</td>\n      <td>...</td>\n      <td>...</td>\n      <td>...</td>\n      <td>...</td>\n      <td>...</td>\n      <td>...</td>\n      <td>...</td>\n      <td>...</td>\n      <td>...</td>\n      <td>...</td>\n      <td>...</td>\n      <td>...</td>\n      <td>...</td>\n      <td>...</td>\n      <td>...</td>\n      <td>...</td>\n    </tr>\n    <tr>\n      <th>520</th>\n      <td>Matthew Stafford</td>\n      <td>DET</td>\n      <td>32</td>\n      <td>QB</td>\n      <td>16</td>\n      <td>16</td>\n      <td>1</td>\n      <td>0</td>\n      <td>0.0%</td>\n      <td>0</td>\n      <td></td>\n      <td>0</td>\n      <td>0</td>\n      <td>0</td>\n      <td>0.0</td>\n      <td>0.0</td>\n      <td>0.0</td>\n      <td>2</td>\n    </tr>\n    <tr>\n      <th>521</th>\n      <td>Taywan Taylor</td>\n      <td>CLE</td>\n      <td>25</td>\n      <td>WR</td>\n      <td>3</td>\n      <td>0</td>\n      <td>1</td>\n      <td>0</td>\n      <td>0.0%</td>\n      <td>0</td>\n      <td></td>\n      <td>0</td>\n      <td>0</td>\n      <td>0</td>\n      <td>0.0</td>\n      <td>0.0</td>\n      <td>0.0</td>\n      <td></td>\n    </tr>\n    <tr>\n      <th>522</th>\n      <td>Noah Togiai</td>\n      <td>IND</td>\n      <td>23</td>\n      <td>TE</td>\n      <td>4</td>\n      <td>0</td>\n      <td>1</td>\n      <td>0</td>\n      <td>0.0%</td>\n      <td>0</td>\n      <td></td>\n      <td>0</td>\n      <td>0</td>\n      <td>0</td>\n      <td>0.0</td>\n      <td>0.0</td>\n      <td>0.0</td>\n      <td></td>\n    </tr>\n    <tr>\n      <th>523</th>\n      <td>Eric Tomlinson</td>\n      <td>2TM</td>\n      <td>28</td>\n      <td>TE</td>\n      <td>7</td>\n      <td>2</td>\n      <td>1</td>\n      <td>0</td>\n      <td>0.0%</td>\n      <td>0</td>\n      <td></td>\n      <td>0</td>\n      <td>0</td>\n      <td>0</td>\n      <td>0.0</td>\n      <td>0.0</td>\n      <td>0.0</td>\n      <td></td>\n    </tr>\n    <tr>\n      <th>524</th>\n      <td>P.J. Walker</td>\n      <td>CAR</td>\n      <td>25</td>\n      <td>QB</td>\n      <td>4</td>\n      <td>1</td>\n      <td>1</td>\n      <td>0</td>\n      <td>0.0%</td>\n      <td>0</td>\n      <td></td>\n      <td>0</td>\n      <td>0</td>\n      <td>0</td>\n      <td>0.0</td>\n      <td>0.0</td>\n      <td>0.0</td>\n      <td>1</td>\n    </tr>\n  </tbody>\n</table>\n<p>525 rows × 18 columns</p>\n</div>"
          },
          "metadata": {}
        }
      ],
      "execution_count": 24,
      "metadata": {
        "jupyter": {
          "source_hidden": false,
          "outputs_hidden": false
        },
        "nteract": {
          "transient": {
            "deleting": false
          }
        },
        "gather": {
          "logged": 1682769606877
        }
      }
    },
    {
      "cell_type": "code",
      "source": [
        "# Scrape defense data\n",
        "defense_url = base_url.format(year) + 'defense.htm'\n",
        "defense_df = scrape_table(defense_url, 'defense')\n",
        "defense_df"
      ],
      "outputs": [
        {
          "output_type": "error",
          "ename": "ValueError",
          "evalue": "30 columns passed, passed data had 23 columns",
          "traceback": [
            "\u001b[0;31m---------------------------------------------------------------------------\u001b[0m",
            "\u001b[0;31mAssertionError\u001b[0m                            Traceback (most recent call last)",
            "File \u001b[0;32m/anaconda/envs/azureml_py38/lib/python3.8/site-packages/pandas/core/internals/construction.py:982\u001b[0m, in \u001b[0;36m_finalize_columns_and_data\u001b[0;34m(content, columns, dtype)\u001b[0m\n\u001b[1;32m    981\u001b[0m \u001b[38;5;28;01mtry\u001b[39;00m:\n\u001b[0;32m--> 982\u001b[0m     columns \u001b[38;5;241m=\u001b[39m \u001b[43m_validate_or_indexify_columns\u001b[49m\u001b[43m(\u001b[49m\u001b[43mcontents\u001b[49m\u001b[43m,\u001b[49m\u001b[43m \u001b[49m\u001b[43mcolumns\u001b[49m\u001b[43m)\u001b[49m\n\u001b[1;32m    983\u001b[0m \u001b[38;5;28;01mexcept\u001b[39;00m \u001b[38;5;167;01mAssertionError\u001b[39;00m \u001b[38;5;28;01mas\u001b[39;00m err:\n\u001b[1;32m    984\u001b[0m     \u001b[38;5;66;03m# GH#26429 do not raise user-facing AssertionError\u001b[39;00m\n",
            "File \u001b[0;32m/anaconda/envs/azureml_py38/lib/python3.8/site-packages/pandas/core/internals/construction.py:1030\u001b[0m, in \u001b[0;36m_validate_or_indexify_columns\u001b[0;34m(content, columns)\u001b[0m\n\u001b[1;32m   1028\u001b[0m \u001b[38;5;28;01mif\u001b[39;00m \u001b[38;5;129;01mnot\u001b[39;00m is_mi_list \u001b[38;5;129;01mand\u001b[39;00m \u001b[38;5;28mlen\u001b[39m(columns) \u001b[38;5;241m!=\u001b[39m \u001b[38;5;28mlen\u001b[39m(content):  \u001b[38;5;66;03m# pragma: no cover\u001b[39;00m\n\u001b[1;32m   1029\u001b[0m     \u001b[38;5;66;03m# caller's responsibility to check for this...\u001b[39;00m\n\u001b[0;32m-> 1030\u001b[0m     \u001b[38;5;28;01mraise\u001b[39;00m \u001b[38;5;167;01mAssertionError\u001b[39;00m(\n\u001b[1;32m   1031\u001b[0m         \u001b[38;5;124mf\u001b[39m\u001b[38;5;124m\"\u001b[39m\u001b[38;5;132;01m{\u001b[39;00m\u001b[38;5;28mlen\u001b[39m(columns)\u001b[38;5;132;01m}\u001b[39;00m\u001b[38;5;124m columns passed, passed data had \u001b[39m\u001b[38;5;124m\"\u001b[39m\n\u001b[1;32m   1032\u001b[0m         \u001b[38;5;124mf\u001b[39m\u001b[38;5;124m\"\u001b[39m\u001b[38;5;132;01m{\u001b[39;00m\u001b[38;5;28mlen\u001b[39m(content)\u001b[38;5;132;01m}\u001b[39;00m\u001b[38;5;124m columns\u001b[39m\u001b[38;5;124m\"\u001b[39m\n\u001b[1;32m   1033\u001b[0m     )\n\u001b[1;32m   1034\u001b[0m \u001b[38;5;28;01melif\u001b[39;00m is_mi_list:\n\u001b[1;32m   1035\u001b[0m \n\u001b[1;32m   1036\u001b[0m     \u001b[38;5;66;03m# check if nested list column, length of each sub-list should be equal\u001b[39;00m\n",
            "\u001b[0;31mAssertionError\u001b[0m: 30 columns passed, passed data had 23 columns",
            "\nThe above exception was the direct cause of the following exception:\n",
            "\u001b[0;31mValueError\u001b[0m                                Traceback (most recent call last)",
            "Cell \u001b[0;32mIn[25], line 3\u001b[0m\n\u001b[1;32m      1\u001b[0m \u001b[38;5;66;03m# Scrape defense data\u001b[39;00m\n\u001b[1;32m      2\u001b[0m defense_url \u001b[38;5;241m=\u001b[39m base_url\u001b[38;5;241m.\u001b[39mformat(year) \u001b[38;5;241m+\u001b[39m \u001b[38;5;124m'\u001b[39m\u001b[38;5;124mdefense.htm\u001b[39m\u001b[38;5;124m'\u001b[39m\n\u001b[0;32m----> 3\u001b[0m defense_df \u001b[38;5;241m=\u001b[39m \u001b[43mscrape_table\u001b[49m\u001b[43m(\u001b[49m\u001b[43mdefense_url\u001b[49m\u001b[43m,\u001b[49m\u001b[43m \u001b[49m\u001b[38;5;124;43m'\u001b[39;49m\u001b[38;5;124;43mdefense\u001b[39;49m\u001b[38;5;124;43m'\u001b[39;49m\u001b[43m)\u001b[49m\n\u001b[1;32m      4\u001b[0m defense_df\n",
            "Cell \u001b[0;32mIn[21], line 20\u001b[0m, in \u001b[0;36mscrape_table\u001b[0;34m(url, table_id)\u001b[0m\n\u001b[1;32m     17\u001b[0m     data_row \u001b[38;5;241m=\u001b[39m [td\u001b[38;5;241m.\u001b[39mtext \u001b[38;5;28;01mfor\u001b[39;00m td \u001b[38;5;129;01min\u001b[39;00m row\u001b[38;5;241m.\u001b[39mfind_all(\u001b[38;5;124m'\u001b[39m\u001b[38;5;124mtd\u001b[39m\u001b[38;5;124m'\u001b[39m)]\n\u001b[1;32m     18\u001b[0m     data\u001b[38;5;241m.\u001b[39mappend(data_row)\n\u001b[0;32m---> 20\u001b[0m df \u001b[38;5;241m=\u001b[39m \u001b[43mpd\u001b[49m\u001b[38;5;241;43m.\u001b[39;49m\u001b[43mDataFrame\u001b[49m\u001b[43m(\u001b[49m\u001b[43mdata\u001b[49m\u001b[43m,\u001b[49m\u001b[43m \u001b[49m\u001b[43mcolumns\u001b[49m\u001b[38;5;241;43m=\u001b[39;49m\u001b[43mheaders\u001b[49m\u001b[43m)\u001b[49m\n\u001b[1;32m     21\u001b[0m df \u001b[38;5;241m=\u001b[39m df\u001b[38;5;241m.\u001b[39mdropna(axis\u001b[38;5;241m=\u001b[39m\u001b[38;5;241m1\u001b[39m, how\u001b[38;5;241m=\u001b[39m\u001b[38;5;124m'\u001b[39m\u001b[38;5;124mall\u001b[39m\u001b[38;5;124m'\u001b[39m)  \u001b[38;5;66;03m# Remove empty columns\u001b[39;00m\n\u001b[1;32m     22\u001b[0m \u001b[38;5;28;01mreturn\u001b[39;00m df\n",
            "File \u001b[0;32m/anaconda/envs/azureml_py38/lib/python3.8/site-packages/pandas/core/frame.py:721\u001b[0m, in \u001b[0;36mDataFrame.__init__\u001b[0;34m(self, data, index, columns, dtype, copy)\u001b[0m\n\u001b[1;32m    716\u001b[0m     \u001b[38;5;28;01mif\u001b[39;00m columns \u001b[38;5;129;01mis\u001b[39;00m \u001b[38;5;129;01mnot\u001b[39;00m \u001b[38;5;28;01mNone\u001b[39;00m:\n\u001b[1;32m    717\u001b[0m         \u001b[38;5;66;03m# error: Argument 1 to \"ensure_index\" has incompatible type\u001b[39;00m\n\u001b[1;32m    718\u001b[0m         \u001b[38;5;66;03m# \"Collection[Any]\"; expected \"Union[Union[Union[ExtensionArray,\u001b[39;00m\n\u001b[1;32m    719\u001b[0m         \u001b[38;5;66;03m# ndarray], Index, Series], Sequence[Any]]\"\u001b[39;00m\n\u001b[1;32m    720\u001b[0m         columns \u001b[38;5;241m=\u001b[39m ensure_index(columns)  \u001b[38;5;66;03m# type: ignore[arg-type]\u001b[39;00m\n\u001b[0;32m--> 721\u001b[0m     arrays, columns, index \u001b[38;5;241m=\u001b[39m \u001b[43mnested_data_to_arrays\u001b[49m\u001b[43m(\u001b[49m\n\u001b[1;32m    722\u001b[0m \u001b[43m        \u001b[49m\u001b[38;5;66;43;03m# error: Argument 3 to \"nested_data_to_arrays\" has incompatible\u001b[39;49;00m\n\u001b[1;32m    723\u001b[0m \u001b[43m        \u001b[49m\u001b[38;5;66;43;03m# type \"Optional[Collection[Any]]\"; expected \"Optional[Index]\"\u001b[39;49;00m\n\u001b[1;32m    724\u001b[0m \u001b[43m        \u001b[49m\u001b[43mdata\u001b[49m\u001b[43m,\u001b[49m\n\u001b[1;32m    725\u001b[0m \u001b[43m        \u001b[49m\u001b[43mcolumns\u001b[49m\u001b[43m,\u001b[49m\n\u001b[1;32m    726\u001b[0m \u001b[43m        \u001b[49m\u001b[43mindex\u001b[49m\u001b[43m,\u001b[49m\u001b[43m  \u001b[49m\u001b[38;5;66;43;03m# type: ignore[arg-type]\u001b[39;49;00m\n\u001b[1;32m    727\u001b[0m \u001b[43m        \u001b[49m\u001b[43mdtype\u001b[49m\u001b[43m,\u001b[49m\n\u001b[1;32m    728\u001b[0m \u001b[43m    \u001b[49m\u001b[43m)\u001b[49m\n\u001b[1;32m    729\u001b[0m     mgr \u001b[38;5;241m=\u001b[39m arrays_to_mgr(\n\u001b[1;32m    730\u001b[0m         arrays,\n\u001b[1;32m    731\u001b[0m         columns,\n\u001b[0;32m   (...)\u001b[0m\n\u001b[1;32m    734\u001b[0m         typ\u001b[38;5;241m=\u001b[39mmanager,\n\u001b[1;32m    735\u001b[0m     )\n\u001b[1;32m    736\u001b[0m \u001b[38;5;28;01melse\u001b[39;00m:\n",
            "File \u001b[0;32m/anaconda/envs/azureml_py38/lib/python3.8/site-packages/pandas/core/internals/construction.py:519\u001b[0m, in \u001b[0;36mnested_data_to_arrays\u001b[0;34m(data, columns, index, dtype)\u001b[0m\n\u001b[1;32m    516\u001b[0m \u001b[38;5;28;01mif\u001b[39;00m is_named_tuple(data[\u001b[38;5;241m0\u001b[39m]) \u001b[38;5;129;01mand\u001b[39;00m columns \u001b[38;5;129;01mis\u001b[39;00m \u001b[38;5;28;01mNone\u001b[39;00m:\n\u001b[1;32m    517\u001b[0m     columns \u001b[38;5;241m=\u001b[39m ensure_index(data[\u001b[38;5;241m0\u001b[39m]\u001b[38;5;241m.\u001b[39m_fields)\n\u001b[0;32m--> 519\u001b[0m arrays, columns \u001b[38;5;241m=\u001b[39m \u001b[43mto_arrays\u001b[49m\u001b[43m(\u001b[49m\u001b[43mdata\u001b[49m\u001b[43m,\u001b[49m\u001b[43m \u001b[49m\u001b[43mcolumns\u001b[49m\u001b[43m,\u001b[49m\u001b[43m \u001b[49m\u001b[43mdtype\u001b[49m\u001b[38;5;241;43m=\u001b[39;49m\u001b[43mdtype\u001b[49m\u001b[43m)\u001b[49m\n\u001b[1;32m    520\u001b[0m columns \u001b[38;5;241m=\u001b[39m ensure_index(columns)\n\u001b[1;32m    522\u001b[0m \u001b[38;5;28;01mif\u001b[39;00m index \u001b[38;5;129;01mis\u001b[39;00m \u001b[38;5;28;01mNone\u001b[39;00m:\n",
            "File \u001b[0;32m/anaconda/envs/azureml_py38/lib/python3.8/site-packages/pandas/core/internals/construction.py:883\u001b[0m, in \u001b[0;36mto_arrays\u001b[0;34m(data, columns, dtype)\u001b[0m\n\u001b[1;32m    880\u001b[0m     data \u001b[38;5;241m=\u001b[39m [\u001b[38;5;28mtuple\u001b[39m(x) \u001b[38;5;28;01mfor\u001b[39;00m x \u001b[38;5;129;01min\u001b[39;00m data]\n\u001b[1;32m    881\u001b[0m     arr \u001b[38;5;241m=\u001b[39m _list_to_arrays(data)\n\u001b[0;32m--> 883\u001b[0m content, columns \u001b[38;5;241m=\u001b[39m \u001b[43m_finalize_columns_and_data\u001b[49m\u001b[43m(\u001b[49m\u001b[43marr\u001b[49m\u001b[43m,\u001b[49m\u001b[43m \u001b[49m\u001b[43mcolumns\u001b[49m\u001b[43m,\u001b[49m\u001b[43m \u001b[49m\u001b[43mdtype\u001b[49m\u001b[43m)\u001b[49m\n\u001b[1;32m    884\u001b[0m \u001b[38;5;28;01mreturn\u001b[39;00m content, columns\n",
            "File \u001b[0;32m/anaconda/envs/azureml_py38/lib/python3.8/site-packages/pandas/core/internals/construction.py:985\u001b[0m, in \u001b[0;36m_finalize_columns_and_data\u001b[0;34m(content, columns, dtype)\u001b[0m\n\u001b[1;32m    982\u001b[0m     columns \u001b[38;5;241m=\u001b[39m _validate_or_indexify_columns(contents, columns)\n\u001b[1;32m    983\u001b[0m \u001b[38;5;28;01mexcept\u001b[39;00m \u001b[38;5;167;01mAssertionError\u001b[39;00m \u001b[38;5;28;01mas\u001b[39;00m err:\n\u001b[1;32m    984\u001b[0m     \u001b[38;5;66;03m# GH#26429 do not raise user-facing AssertionError\u001b[39;00m\n\u001b[0;32m--> 985\u001b[0m     \u001b[38;5;28;01mraise\u001b[39;00m \u001b[38;5;167;01mValueError\u001b[39;00m(err) \u001b[38;5;28;01mfrom\u001b[39;00m \u001b[38;5;21;01merr\u001b[39;00m\n\u001b[1;32m    987\u001b[0m \u001b[38;5;28;01mif\u001b[39;00m \u001b[38;5;28mlen\u001b[39m(contents) \u001b[38;5;129;01mand\u001b[39;00m contents[\u001b[38;5;241m0\u001b[39m]\u001b[38;5;241m.\u001b[39mdtype \u001b[38;5;241m==\u001b[39m np\u001b[38;5;241m.\u001b[39mobject_:\n\u001b[1;32m    988\u001b[0m     contents \u001b[38;5;241m=\u001b[39m _convert_object_array(contents, dtype\u001b[38;5;241m=\u001b[39mdtype)\n",
            "\u001b[0;31mValueError\u001b[0m: 30 columns passed, passed data had 23 columns"
          ]
        }
      ],
      "execution_count": 25,
      "metadata": {
        "jupyter": {
          "source_hidden": false,
          "outputs_hidden": false
        },
        "nteract": {
          "transient": {
            "deleting": false
          }
        },
        "gather": {
          "logged": 1682769639869
        }
      }
    },
    {
      "cell_type": "markdown",
      "source": [
        "Step: Change % to actual number"
      ],
      "metadata": {
        "nteract": {
          "transient": {
            "deleting": false
          }
        }
      }
    }
  ],
  "metadata": {
    "kernelspec": {
      "name": "python38-azureml",
      "language": "python",
      "display_name": "Python 3.8 - AzureML"
    },
    "language_info": {
      "name": "python",
      "version": "3.8.10",
      "mimetype": "text/x-python",
      "codemirror_mode": {
        "name": "ipython",
        "version": 3
      },
      "pygments_lexer": "ipython3",
      "nbconvert_exporter": "python",
      "file_extension": ".py"
    },
    "microsoft": {
      "ms_spell_check": {
        "ms_spell_check_language": "en"
      },
      "host": {
        "AzureML": {
          "notebookHasBeenCompleted": true
        }
      }
    },
    "kernel_info": {
      "name": "python38-azureml"
    },
    "nteract": {
      "version": "nteract-front-end@1.0.0"
    }
  },
  "nbformat": 4,
  "nbformat_minor": 2
}