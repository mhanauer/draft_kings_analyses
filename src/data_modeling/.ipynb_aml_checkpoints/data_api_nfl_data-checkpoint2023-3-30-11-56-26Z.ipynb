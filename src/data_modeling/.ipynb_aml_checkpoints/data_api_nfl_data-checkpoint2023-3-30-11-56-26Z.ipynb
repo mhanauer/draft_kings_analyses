{
  "cells": [
    {
      "cell_type": "code",
      "source": [
        "%load_ext lab_black"
      ],
      "outputs": [],
      "execution_count": null,
      "metadata": {}
    },
    {
      "cell_type": "markdown",
      "source": [
        "Step: Load data"
      ],
      "metadata": {
        "nteract": {
          "transient": {
            "deleting": false
          }
        }
      }
    },
    {
      "cell_type": "code",
      "source": [
        "import requests\n",
        "from bs4 import BeautifulSoup\n",
        "import csv\n",
        "import pandas as pd\n",
        "import numpy as np"
      ],
      "outputs": [],
      "execution_count": 61,
      "metadata": {
        "jupyter": {
          "source_hidden": false,
          "outputs_hidden": false
        },
        "nteract": {
          "transient": {
            "deleting": false
          }
        },
        "gather": {
          "logged": 1682771873822
        }
      }
    },
    {
      "cell_type": "code",
      "source": [
        "def scrape_table(url, table_id):\n",
        "    response = requests.get(url)\n",
        "    soup = BeautifulSoup(response.text, 'html.parser')\n",
        "\n",
        "    table = soup.find('table', {'id': table_id})\n",
        "    header_rows = table.thead.find_all('tr')\n",
        "    header_row = header_rows[-1]  # Use the last header row to get the correct headers\n",
        "    headers = [th.text for th in header_row.find_all('th') if th.text != 'Rk']\n",
        "\n",
        "    rows = table.tbody.find_all('tr')\n",
        "    data = []\n",
        "    for row in rows:\n",
        "        if row.get('class') and 'thead' in row['class']:\n",
        "            continue\n",
        "        data_row = [td.text for td in row.find_all('td') if td.get('data-stat') != 'ranker']\n",
        "        data.append(data_row)\n",
        "\n",
        "    return pd.DataFrame(data, columns=headers)\n",
        "\n",
        "\n",
        "year = 2020\n",
        "base_url = 'https://www.pro-football-reference.com/years/{}/'"
      ],
      "outputs": [],
      "execution_count": 62,
      "metadata": {
        "jupyter": {
          "source_hidden": false,
          "outputs_hidden": false
        },
        "nteract": {
          "transient": {
            "deleting": false
          }
        },
        "gather": {
          "logged": 1682771875817
        }
      }
    },
    {
      "cell_type": "code",
      "source": [
        "# Scrape passing data\n",
        "passing_url = base_url.format(year) + 'passing.htm'\n",
        "passing_df = scrape_table(passing_url, 'passing')\n",
        "passing_df"
      ],
      "outputs": [
        {
          "output_type": "error",
          "ename": "AttributeError",
          "evalue": "'NoneType' object has no attribute 'thead'",
          "traceback": [
            "\u001b[0;31m---------------------------------------------------------------------------\u001b[0m",
            "\u001b[0;31mAttributeError\u001b[0m                            Traceback (most recent call last)",
            "Cell \u001b[0;32mIn[66], line 3\u001b[0m\n\u001b[1;32m      1\u001b[0m \u001b[38;5;66;03m# Scrape passing data\u001b[39;00m\n\u001b[1;32m      2\u001b[0m passing_url \u001b[38;5;241m=\u001b[39m base_url\u001b[38;5;241m.\u001b[39mformat(year) \u001b[38;5;241m+\u001b[39m \u001b[38;5;124m'\u001b[39m\u001b[38;5;124mpassing.htm\u001b[39m\u001b[38;5;124m'\u001b[39m\n\u001b[0;32m----> 3\u001b[0m passing_df \u001b[38;5;241m=\u001b[39m \u001b[43mscrape_table\u001b[49m\u001b[43m(\u001b[49m\u001b[43mpassing_url\u001b[49m\u001b[43m,\u001b[49m\u001b[43m \u001b[49m\u001b[38;5;124;43m'\u001b[39;49m\u001b[38;5;124;43mpassing\u001b[39;49m\u001b[38;5;124;43m'\u001b[39;49m\u001b[43m)\u001b[49m\n\u001b[1;32m      4\u001b[0m passing_df\n",
            "Cell \u001b[0;32mIn[65], line 9\u001b[0m, in \u001b[0;36mscrape_table\u001b[0;34m(url, table_id)\u001b[0m\n\u001b[1;32m      6\u001b[0m soup \u001b[38;5;241m=\u001b[39m BeautifulSoup(response\u001b[38;5;241m.\u001b[39mtext, \u001b[38;5;124m'\u001b[39m\u001b[38;5;124mhtml.parser\u001b[39m\u001b[38;5;124m'\u001b[39m)\n\u001b[1;32m      8\u001b[0m table \u001b[38;5;241m=\u001b[39m soup\u001b[38;5;241m.\u001b[39mfind(\u001b[38;5;124m'\u001b[39m\u001b[38;5;124mtable\u001b[39m\u001b[38;5;124m'\u001b[39m, {\u001b[38;5;124m'\u001b[39m\u001b[38;5;124mid\u001b[39m\u001b[38;5;124m'\u001b[39m: table_id})\n\u001b[0;32m----> 9\u001b[0m header_rows \u001b[38;5;241m=\u001b[39m \u001b[43mtable\u001b[49m\u001b[38;5;241;43m.\u001b[39;49m\u001b[43mthead\u001b[49m\u001b[38;5;241m.\u001b[39mfind_all(\u001b[38;5;124m'\u001b[39m\u001b[38;5;124mtr\u001b[39m\u001b[38;5;124m'\u001b[39m)\n\u001b[1;32m     10\u001b[0m header_row \u001b[38;5;241m=\u001b[39m header_rows[\u001b[38;5;241m-\u001b[39m\u001b[38;5;241m1\u001b[39m]  \u001b[38;5;66;03m# Use the last header row to get the correct headers\u001b[39;00m\n\u001b[1;32m     11\u001b[0m headers \u001b[38;5;241m=\u001b[39m [th\u001b[38;5;241m.\u001b[39mtext \u001b[38;5;28;01mfor\u001b[39;00m th \u001b[38;5;129;01min\u001b[39;00m header_row\u001b[38;5;241m.\u001b[39mfind_all(\u001b[38;5;124m'\u001b[39m\u001b[38;5;124mth\u001b[39m\u001b[38;5;124m'\u001b[39m) \u001b[38;5;28;01mif\u001b[39;00m th\u001b[38;5;241m.\u001b[39mtext \u001b[38;5;241m!=\u001b[39m \u001b[38;5;124m'\u001b[39m\u001b[38;5;124mRk\u001b[39m\u001b[38;5;124m'\u001b[39m]\n",
            "\u001b[0;31mAttributeError\u001b[0m: 'NoneType' object has no attribute 'thead'"
          ]
        }
      ],
      "execution_count": 66,
      "metadata": {
        "jupyter": {
          "source_hidden": false,
          "outputs_hidden": false
        },
        "nteract": {
          "transient": {
            "deleting": false
          }
        },
        "gather": {
          "logged": 1682771926981
        }
      }
    },
    {
      "cell_type": "code",
      "source": [
        "# Scrape rushing data\n",
        "rushing_url = base_url.format(year) + 'rushing.htm'\n",
        "rushing_df = scrape_table(rushing_url, 'rushing')\n",
        "rushing_df"
      ],
      "outputs": [
        {
          "output_type": "error",
          "ename": "AttributeError",
          "evalue": "'NoneType' object has no attribute 'thead'",
          "traceback": [
            "\u001b[0;31m---------------------------------------------------------------------------\u001b[0m",
            "\u001b[0;31mAttributeError\u001b[0m                            Traceback (most recent call last)",
            "Cell \u001b[0;32mIn[64], line 3\u001b[0m\n\u001b[1;32m      1\u001b[0m \u001b[38;5;66;03m# Scrape rushing data\u001b[39;00m\n\u001b[1;32m      2\u001b[0m rushing_url \u001b[38;5;241m=\u001b[39m base_url\u001b[38;5;241m.\u001b[39mformat(year) \u001b[38;5;241m+\u001b[39m \u001b[38;5;124m'\u001b[39m\u001b[38;5;124mrushing.htm\u001b[39m\u001b[38;5;124m'\u001b[39m\n\u001b[0;32m----> 3\u001b[0m rushing_df \u001b[38;5;241m=\u001b[39m \u001b[43mscrape_table\u001b[49m\u001b[43m(\u001b[49m\u001b[43mrushing_url\u001b[49m\u001b[43m,\u001b[49m\u001b[43m \u001b[49m\u001b[38;5;124;43m'\u001b[39;49m\u001b[38;5;124;43mrushing\u001b[39;49m\u001b[38;5;124;43m'\u001b[39;49m\u001b[43m)\u001b[49m\n\u001b[1;32m      4\u001b[0m rushing_df\n",
            "Cell \u001b[0;32mIn[62], line 6\u001b[0m, in \u001b[0;36mscrape_table\u001b[0;34m(url, table_id)\u001b[0m\n\u001b[1;32m      3\u001b[0m soup \u001b[38;5;241m=\u001b[39m BeautifulSoup(response\u001b[38;5;241m.\u001b[39mtext, \u001b[38;5;124m'\u001b[39m\u001b[38;5;124mhtml.parser\u001b[39m\u001b[38;5;124m'\u001b[39m)\n\u001b[1;32m      5\u001b[0m table \u001b[38;5;241m=\u001b[39m soup\u001b[38;5;241m.\u001b[39mfind(\u001b[38;5;124m'\u001b[39m\u001b[38;5;124mtable\u001b[39m\u001b[38;5;124m'\u001b[39m, {\u001b[38;5;124m'\u001b[39m\u001b[38;5;124mid\u001b[39m\u001b[38;5;124m'\u001b[39m: table_id})\n\u001b[0;32m----> 6\u001b[0m header_rows \u001b[38;5;241m=\u001b[39m \u001b[43mtable\u001b[49m\u001b[38;5;241;43m.\u001b[39;49m\u001b[43mthead\u001b[49m\u001b[38;5;241m.\u001b[39mfind_all(\u001b[38;5;124m'\u001b[39m\u001b[38;5;124mtr\u001b[39m\u001b[38;5;124m'\u001b[39m)\n\u001b[1;32m      7\u001b[0m header_row \u001b[38;5;241m=\u001b[39m header_rows[\u001b[38;5;241m-\u001b[39m\u001b[38;5;241m1\u001b[39m]  \u001b[38;5;66;03m# Use the last header row to get the correct headers\u001b[39;00m\n\u001b[1;32m      8\u001b[0m headers \u001b[38;5;241m=\u001b[39m [th\u001b[38;5;241m.\u001b[39mtext \u001b[38;5;28;01mfor\u001b[39;00m th \u001b[38;5;129;01min\u001b[39;00m header_row\u001b[38;5;241m.\u001b[39mfind_all(\u001b[38;5;124m'\u001b[39m\u001b[38;5;124mth\u001b[39m\u001b[38;5;124m'\u001b[39m) \u001b[38;5;28;01mif\u001b[39;00m th\u001b[38;5;241m.\u001b[39mtext \u001b[38;5;241m!=\u001b[39m \u001b[38;5;124m'\u001b[39m\u001b[38;5;124mRk\u001b[39m\u001b[38;5;124m'\u001b[39m]\n",
            "\u001b[0;31mAttributeError\u001b[0m: 'NoneType' object has no attribute 'thead'"
          ]
        }
      ],
      "execution_count": 64,
      "metadata": {
        "jupyter": {
          "source_hidden": false,
          "outputs_hidden": false
        },
        "nteract": {
          "transient": {
            "deleting": false
          }
        },
        "gather": {
          "logged": 1682771881866
        }
      }
    },
    {
      "cell_type": "code",
      "source": [
        "# Scrape receiving data\n",
        "receiving_url = base_url.format(year) + 'receiving.htm'\n",
        "receiving_df = scrape_table(receiving_url, 'receiving')\n",
        "receiving_df"
      ],
      "outputs": [
        {
          "output_type": "execute_result",
          "execution_count": 35,
          "data": {
            "text/plain": "               Player   Tm Age Pos   G  GS  Tgt  Rec  Ctch%   Yds   Y/R  TD  \\\n0      Stefon Diggs*+  BUF  27  WR  16  15  166  127  76.5%  1535  12.1   8   \n1     Davante Adams*+  GNB  28  WR  14  14  149  115  77.2%  1374  11.9  18   \n2    DeAndre Hopkins*  ARI  28  WR  16  16  160  115  71.9%  1407  12.2   6   \n3      Darren Waller*  LVR  28  TE  16  15  145  107  73.8%  1196  11.2   9   \n4      Travis Kelce*+  KAN  31  TE  15  15  145  105  72.4%  1416  13.5  11   \n..                ...  ...  ..  ..  ..  ..  ...  ...    ...   ...   ...  ..   \n520  Matthew Stafford  DET  32  QB  16  16    1    0   0.0%     0         0   \n521     Taywan Taylor  CLE  25  WR   3   0    1    0   0.0%     0         0   \n522       Noah Togiai  IND  23  TE   4   0    1    0   0.0%     0         0   \n523    Eric Tomlinson  2TM  28  TE   7   2    1    0   0.0%     0         0   \n524       P.J. Walker  CAR  25  QB   4   1    1    0   0.0%     0         0   \n\n     1D Lng Y/Tgt  R/G   Y/G Fmb  \n0    73  55   9.2  7.9  95.9   0  \n1    73  56   9.2  8.2  98.1   1  \n2    75  60   8.8  7.2  87.9   3  \n3    68  38   8.2  6.7  74.8   2  \n4    79  45   9.8  7.0  94.4   1  \n..   ..  ..   ...  ...   ...  ..  \n520   0   0   0.0  0.0   0.0   2  \n521   0   0   0.0  0.0   0.0      \n522   0   0   0.0  0.0   0.0      \n523   0   0   0.0  0.0   0.0      \n524   0   0   0.0  0.0   0.0   1  \n\n[525 rows x 18 columns]",
            "text/html": "<div>\n<style scoped>\n    .dataframe tbody tr th:only-of-type {\n        vertical-align: middle;\n    }\n\n    .dataframe tbody tr th {\n        vertical-align: top;\n    }\n\n    .dataframe thead th {\n        text-align: right;\n    }\n</style>\n<table border=\"1\" class=\"dataframe\">\n  <thead>\n    <tr style=\"text-align: right;\">\n      <th></th>\n      <th>Player</th>\n      <th>Tm</th>\n      <th>Age</th>\n      <th>Pos</th>\n      <th>G</th>\n      <th>GS</th>\n      <th>Tgt</th>\n      <th>Rec</th>\n      <th>Ctch%</th>\n      <th>Yds</th>\n      <th>Y/R</th>\n      <th>TD</th>\n      <th>1D</th>\n      <th>Lng</th>\n      <th>Y/Tgt</th>\n      <th>R/G</th>\n      <th>Y/G</th>\n      <th>Fmb</th>\n    </tr>\n  </thead>\n  <tbody>\n    <tr>\n      <th>0</th>\n      <td>Stefon Diggs*+</td>\n      <td>BUF</td>\n      <td>27</td>\n      <td>WR</td>\n      <td>16</td>\n      <td>15</td>\n      <td>166</td>\n      <td>127</td>\n      <td>76.5%</td>\n      <td>1535</td>\n      <td>12.1</td>\n      <td>8</td>\n      <td>73</td>\n      <td>55</td>\n      <td>9.2</td>\n      <td>7.9</td>\n      <td>95.9</td>\n      <td>0</td>\n    </tr>\n    <tr>\n      <th>1</th>\n      <td>Davante Adams*+</td>\n      <td>GNB</td>\n      <td>28</td>\n      <td>WR</td>\n      <td>14</td>\n      <td>14</td>\n      <td>149</td>\n      <td>115</td>\n      <td>77.2%</td>\n      <td>1374</td>\n      <td>11.9</td>\n      <td>18</td>\n      <td>73</td>\n      <td>56</td>\n      <td>9.2</td>\n      <td>8.2</td>\n      <td>98.1</td>\n      <td>1</td>\n    </tr>\n    <tr>\n      <th>2</th>\n      <td>DeAndre Hopkins*</td>\n      <td>ARI</td>\n      <td>28</td>\n      <td>WR</td>\n      <td>16</td>\n      <td>16</td>\n      <td>160</td>\n      <td>115</td>\n      <td>71.9%</td>\n      <td>1407</td>\n      <td>12.2</td>\n      <td>6</td>\n      <td>75</td>\n      <td>60</td>\n      <td>8.8</td>\n      <td>7.2</td>\n      <td>87.9</td>\n      <td>3</td>\n    </tr>\n    <tr>\n      <th>3</th>\n      <td>Darren Waller*</td>\n      <td>LVR</td>\n      <td>28</td>\n      <td>TE</td>\n      <td>16</td>\n      <td>15</td>\n      <td>145</td>\n      <td>107</td>\n      <td>73.8%</td>\n      <td>1196</td>\n      <td>11.2</td>\n      <td>9</td>\n      <td>68</td>\n      <td>38</td>\n      <td>8.2</td>\n      <td>6.7</td>\n      <td>74.8</td>\n      <td>2</td>\n    </tr>\n    <tr>\n      <th>4</th>\n      <td>Travis Kelce*+</td>\n      <td>KAN</td>\n      <td>31</td>\n      <td>TE</td>\n      <td>15</td>\n      <td>15</td>\n      <td>145</td>\n      <td>105</td>\n      <td>72.4%</td>\n      <td>1416</td>\n      <td>13.5</td>\n      <td>11</td>\n      <td>79</td>\n      <td>45</td>\n      <td>9.8</td>\n      <td>7.0</td>\n      <td>94.4</td>\n      <td>1</td>\n    </tr>\n    <tr>\n      <th>...</th>\n      <td>...</td>\n      <td>...</td>\n      <td>...</td>\n      <td>...</td>\n      <td>...</td>\n      <td>...</td>\n      <td>...</td>\n      <td>...</td>\n      <td>...</td>\n      <td>...</td>\n      <td>...</td>\n      <td>...</td>\n      <td>...</td>\n      <td>...</td>\n      <td>...</td>\n      <td>...</td>\n      <td>...</td>\n      <td>...</td>\n    </tr>\n    <tr>\n      <th>520</th>\n      <td>Matthew Stafford</td>\n      <td>DET</td>\n      <td>32</td>\n      <td>QB</td>\n      <td>16</td>\n      <td>16</td>\n      <td>1</td>\n      <td>0</td>\n      <td>0.0%</td>\n      <td>0</td>\n      <td></td>\n      <td>0</td>\n      <td>0</td>\n      <td>0</td>\n      <td>0.0</td>\n      <td>0.0</td>\n      <td>0.0</td>\n      <td>2</td>\n    </tr>\n    <tr>\n      <th>521</th>\n      <td>Taywan Taylor</td>\n      <td>CLE</td>\n      <td>25</td>\n      <td>WR</td>\n      <td>3</td>\n      <td>0</td>\n      <td>1</td>\n      <td>0</td>\n      <td>0.0%</td>\n      <td>0</td>\n      <td></td>\n      <td>0</td>\n      <td>0</td>\n      <td>0</td>\n      <td>0.0</td>\n      <td>0.0</td>\n      <td>0.0</td>\n      <td></td>\n    </tr>\n    <tr>\n      <th>522</th>\n      <td>Noah Togiai</td>\n      <td>IND</td>\n      <td>23</td>\n      <td>TE</td>\n      <td>4</td>\n      <td>0</td>\n      <td>1</td>\n      <td>0</td>\n      <td>0.0%</td>\n      <td>0</td>\n      <td></td>\n      <td>0</td>\n      <td>0</td>\n      <td>0</td>\n      <td>0.0</td>\n      <td>0.0</td>\n      <td>0.0</td>\n      <td></td>\n    </tr>\n    <tr>\n      <th>523</th>\n      <td>Eric Tomlinson</td>\n      <td>2TM</td>\n      <td>28</td>\n      <td>TE</td>\n      <td>7</td>\n      <td>2</td>\n      <td>1</td>\n      <td>0</td>\n      <td>0.0%</td>\n      <td>0</td>\n      <td></td>\n      <td>0</td>\n      <td>0</td>\n      <td>0</td>\n      <td>0.0</td>\n      <td>0.0</td>\n      <td>0.0</td>\n      <td></td>\n    </tr>\n    <tr>\n      <th>524</th>\n      <td>P.J. Walker</td>\n      <td>CAR</td>\n      <td>25</td>\n      <td>QB</td>\n      <td>4</td>\n      <td>1</td>\n      <td>1</td>\n      <td>0</td>\n      <td>0.0%</td>\n      <td>0</td>\n      <td></td>\n      <td>0</td>\n      <td>0</td>\n      <td>0</td>\n      <td>0.0</td>\n      <td>0.0</td>\n      <td>0.0</td>\n      <td>1</td>\n    </tr>\n  </tbody>\n</table>\n<p>525 rows × 18 columns</p>\n</div>"
          },
          "metadata": {}
        }
      ],
      "execution_count": 35,
      "metadata": {
        "jupyter": {
          "source_hidden": false,
          "outputs_hidden": false
        },
        "nteract": {
          "transient": {
            "deleting": false
          }
        },
        "gather": {
          "logged": 1682770560711
        }
      }
    },
    {
      "cell_type": "code",
      "source": [
        "# Scrape defense data\n",
        "defense_url = base_url.format(year) + 'defense.htm'\n",
        "defense_df = scrape_table(defense_url, 'defense')\n",
        "defense_df"
      ],
      "outputs": [
        {
          "output_type": "execute_result",
          "execution_count": 36,
          "data": {
            "text/plain": "               Player   Tm Age   Pos   G  GS Int Yds TD Lng  ... FR Yds TD  \\\n0     Zach Cunningham  HOU  26  LILB  16  16   0   0  0   0  ...  0   0  0   \n1        Roquan Smith  CHI  23  LILB  16  16   2  16  0  11  ...  1   0  0   \n2         Devin White  TAM  22  LILB  15  15   0   0  0   0  ...  1   2  0   \n3      Neville Hewitt  NYJ  27  RILB  16  16   0   0  0   0  ...  1  17  0   \n4        Jordan Poyer  BUF  29    SS  16  16   2  14  0  14  ...  0   0  0   \n...               ...  ...  ..   ...  ..  ..  ..  .. ..  ..  ... ..  .. ..   \n1358      Jeff Wilson  SFO  25    RB  12   3          0      ...  1   0  0   \n1359       Javon Wims  CHI  26    WR  13   1          0      ...         0   \n1360      Isaiah Wynn  NWE  25    LT  10  10          0      ...  1   0  0   \n1361      T.J. Yeldon  BUF  27    RB   3   0          0      ...  1   0  0   \n1362  Brandon Zylstra  CAR  27    WR  16   2          0      ...  1   0  1   \n\n       Sk Comb Solo Ast TFL QBHits Sfty  \n0     3.0  164  106  58   7      4       \n1     4.0  139   98  41  18      6       \n2     9.0  140   97  43  15     16       \n3     2.0  134   91  43   6      4       \n4     2.0  124   91  33   4      4       \n...   ...  ...  ...  ..  ..    ...  ...  \n1358  0.0                                \n1359  0.0    1    0   1   0      0       \n1360  0.0                                \n1361  0.0                                \n1362  0.0                                \n\n[1363 rows x 23 columns]",
            "text/html": "<div>\n<style scoped>\n    .dataframe tbody tr th:only-of-type {\n        vertical-align: middle;\n    }\n\n    .dataframe tbody tr th {\n        vertical-align: top;\n    }\n\n    .dataframe thead th {\n        text-align: right;\n    }\n</style>\n<table border=\"1\" class=\"dataframe\">\n  <thead>\n    <tr style=\"text-align: right;\">\n      <th></th>\n      <th>Player</th>\n      <th>Tm</th>\n      <th>Age</th>\n      <th>Pos</th>\n      <th>G</th>\n      <th>GS</th>\n      <th>Int</th>\n      <th>Yds</th>\n      <th>TD</th>\n      <th>Lng</th>\n      <th>...</th>\n      <th>FR</th>\n      <th>Yds</th>\n      <th>TD</th>\n      <th>Sk</th>\n      <th>Comb</th>\n      <th>Solo</th>\n      <th>Ast</th>\n      <th>TFL</th>\n      <th>QBHits</th>\n      <th>Sfty</th>\n    </tr>\n  </thead>\n  <tbody>\n    <tr>\n      <th>0</th>\n      <td>Zach Cunningham</td>\n      <td>HOU</td>\n      <td>26</td>\n      <td>LILB</td>\n      <td>16</td>\n      <td>16</td>\n      <td>0</td>\n      <td>0</td>\n      <td>0</td>\n      <td>0</td>\n      <td>...</td>\n      <td>0</td>\n      <td>0</td>\n      <td>0</td>\n      <td>3.0</td>\n      <td>164</td>\n      <td>106</td>\n      <td>58</td>\n      <td>7</td>\n      <td>4</td>\n      <td></td>\n    </tr>\n    <tr>\n      <th>1</th>\n      <td>Roquan Smith</td>\n      <td>CHI</td>\n      <td>23</td>\n      <td>LILB</td>\n      <td>16</td>\n      <td>16</td>\n      <td>2</td>\n      <td>16</td>\n      <td>0</td>\n      <td>11</td>\n      <td>...</td>\n      <td>1</td>\n      <td>0</td>\n      <td>0</td>\n      <td>4.0</td>\n      <td>139</td>\n      <td>98</td>\n      <td>41</td>\n      <td>18</td>\n      <td>6</td>\n      <td></td>\n    </tr>\n    <tr>\n      <th>2</th>\n      <td>Devin White</td>\n      <td>TAM</td>\n      <td>22</td>\n      <td>LILB</td>\n      <td>15</td>\n      <td>15</td>\n      <td>0</td>\n      <td>0</td>\n      <td>0</td>\n      <td>0</td>\n      <td>...</td>\n      <td>1</td>\n      <td>2</td>\n      <td>0</td>\n      <td>9.0</td>\n      <td>140</td>\n      <td>97</td>\n      <td>43</td>\n      <td>15</td>\n      <td>16</td>\n      <td></td>\n    </tr>\n    <tr>\n      <th>3</th>\n      <td>Neville Hewitt</td>\n      <td>NYJ</td>\n      <td>27</td>\n      <td>RILB</td>\n      <td>16</td>\n      <td>16</td>\n      <td>0</td>\n      <td>0</td>\n      <td>0</td>\n      <td>0</td>\n      <td>...</td>\n      <td>1</td>\n      <td>17</td>\n      <td>0</td>\n      <td>2.0</td>\n      <td>134</td>\n      <td>91</td>\n      <td>43</td>\n      <td>6</td>\n      <td>4</td>\n      <td></td>\n    </tr>\n    <tr>\n      <th>4</th>\n      <td>Jordan Poyer</td>\n      <td>BUF</td>\n      <td>29</td>\n      <td>SS</td>\n      <td>16</td>\n      <td>16</td>\n      <td>2</td>\n      <td>14</td>\n      <td>0</td>\n      <td>14</td>\n      <td>...</td>\n      <td>0</td>\n      <td>0</td>\n      <td>0</td>\n      <td>2.0</td>\n      <td>124</td>\n      <td>91</td>\n      <td>33</td>\n      <td>4</td>\n      <td>4</td>\n      <td></td>\n    </tr>\n    <tr>\n      <th>...</th>\n      <td>...</td>\n      <td>...</td>\n      <td>...</td>\n      <td>...</td>\n      <td>...</td>\n      <td>...</td>\n      <td>...</td>\n      <td>...</td>\n      <td>...</td>\n      <td>...</td>\n      <td>...</td>\n      <td>...</td>\n      <td>...</td>\n      <td>...</td>\n      <td>...</td>\n      <td>...</td>\n      <td>...</td>\n      <td>...</td>\n      <td>...</td>\n      <td>...</td>\n      <td>...</td>\n    </tr>\n    <tr>\n      <th>1358</th>\n      <td>Jeff Wilson</td>\n      <td>SFO</td>\n      <td>25</td>\n      <td>RB</td>\n      <td>12</td>\n      <td>3</td>\n      <td></td>\n      <td></td>\n      <td>0</td>\n      <td></td>\n      <td>...</td>\n      <td>1</td>\n      <td>0</td>\n      <td>0</td>\n      <td>0.0</td>\n      <td></td>\n      <td></td>\n      <td></td>\n      <td></td>\n      <td></td>\n      <td></td>\n    </tr>\n    <tr>\n      <th>1359</th>\n      <td>Javon Wims</td>\n      <td>CHI</td>\n      <td>26</td>\n      <td>WR</td>\n      <td>13</td>\n      <td>1</td>\n      <td></td>\n      <td></td>\n      <td>0</td>\n      <td></td>\n      <td>...</td>\n      <td></td>\n      <td></td>\n      <td>0</td>\n      <td>0.0</td>\n      <td>1</td>\n      <td>0</td>\n      <td>1</td>\n      <td>0</td>\n      <td>0</td>\n      <td></td>\n    </tr>\n    <tr>\n      <th>1360</th>\n      <td>Isaiah Wynn</td>\n      <td>NWE</td>\n      <td>25</td>\n      <td>LT</td>\n      <td>10</td>\n      <td>10</td>\n      <td></td>\n      <td></td>\n      <td>0</td>\n      <td></td>\n      <td>...</td>\n      <td>1</td>\n      <td>0</td>\n      <td>0</td>\n      <td>0.0</td>\n      <td></td>\n      <td></td>\n      <td></td>\n      <td></td>\n      <td></td>\n      <td></td>\n    </tr>\n    <tr>\n      <th>1361</th>\n      <td>T.J. Yeldon</td>\n      <td>BUF</td>\n      <td>27</td>\n      <td>RB</td>\n      <td>3</td>\n      <td>0</td>\n      <td></td>\n      <td></td>\n      <td>0</td>\n      <td></td>\n      <td>...</td>\n      <td>1</td>\n      <td>0</td>\n      <td>0</td>\n      <td>0.0</td>\n      <td></td>\n      <td></td>\n      <td></td>\n      <td></td>\n      <td></td>\n      <td></td>\n    </tr>\n    <tr>\n      <th>1362</th>\n      <td>Brandon Zylstra</td>\n      <td>CAR</td>\n      <td>27</td>\n      <td>WR</td>\n      <td>16</td>\n      <td>2</td>\n      <td></td>\n      <td></td>\n      <td>0</td>\n      <td></td>\n      <td>...</td>\n      <td>1</td>\n      <td>0</td>\n      <td>1</td>\n      <td>0.0</td>\n      <td></td>\n      <td></td>\n      <td></td>\n      <td></td>\n      <td></td>\n      <td></td>\n    </tr>\n  </tbody>\n</table>\n<p>1363 rows × 23 columns</p>\n</div>"
          },
          "metadata": {}
        }
      ],
      "execution_count": 36,
      "metadata": {
        "jupyter": {
          "source_hidden": false,
          "outputs_hidden": false
        },
        "nteract": {
          "transient": {
            "deleting": false
          }
        },
        "gather": {
          "logged": 1682770566125
        }
      }
    },
    {
      "cell_type": "code",
      "source": [
        "import requests\n",
        "from bs4 import BeautifulSoup\n",
        "import pandas as pd\n",
        "\n",
        "def scrape_table(url, table_id):\n",
        "    response = requests.get(url)\n",
        "    soup = BeautifulSoup(response.text, 'html.parser')\n",
        "\n",
        "    table = soup.find('table', {'id': table_id})\n",
        "    header_rows = table.thead.find_all('tr')\n",
        "    header_row = header_rows[-1]  # Use the last header row to get the correct headers\n",
        "    headers = [th.text for th in header_row.find_all('th') if th.text != 'Rk']\n",
        "\n",
        "    rows = table.tbody.find_all('tr')\n",
        "    data = []\n",
        "    for row in rows:\n",
        "        if row.get('class') and 'thead' in row['class']:\n",
        "            continue\n",
        "        data_row = [td.text for td in row.find_all('td') if td.get('data-stat') != 'ranker']\n",
        "        data.append(data_row)\n",
        "\n",
        "    return pd.DataFrame(data, columns=headers)\n",
        "\n",
        "base_url = 'https://www.pro-football-reference.com/years/{}/'\n",
        "\n",
        "# Initialize empty DataFrames for each category\n",
        "passing_data = pd.DataFrame()\n",
        "rushing_data = pd.DataFrame()\n",
        "receiving_data = pd.DataFrame()\n",
        "defense_data = pd.DataFrame()\n",
        "\n",
        "# Iterate through the years and append the data\n",
        "for year in range(2011, 2022):\n",
        "    print(f\"Processing data for {year}\")\n",
        "\n",
        "    # Scrape passing data\n",
        "    passing_url = base_url.format(year) + 'passing.htm'\n",
        "    passing_df = scrape_table(passing_url, 'passing')\n",
        "    passing_df['Year'] = year\n",
        "    passing_data = passing_data.append(passing_df, ignore_index=True)\n",
        "\n",
        "    # Scrape rushing data\n",
        "    rushing_url = base_url.format(year) + 'rushing.htm'\n",
        "    rushing_df = scrape_table(rushing_url, 'rushing')\n",
        "    rushing_df['Year'] = year\n",
        "    rushing_data = rushing_data.append(rushing_df, ignore_index=True)\n",
        "\n",
        "    # Scrape receiving data\n",
        "    receiving_url = base_url.format(year) + 'receiving.htm'\n",
        "    receiving_df = scrape_table(receiving_url, 'receiving')\n",
        "    receiving_df['Year'] = year\n",
        "    receiving_data = receiving_data.append(receiving_df, ignore_index=True)\n",
        "\n",
        "    # Scrape defense data\n",
        "    defense_url = base_url.format(year) + 'defense.htm'\n",
        "    defense_df = scrape_table(defense_url, 'defense')\n",
        "    defense_df['Year'] = year\n",
        "    defense_data = defense_data.append(defense_df, ignore_index=True)\n",
        "\n",
        "print(\"Data processing completed!\")\n"
      ],
      "outputs": [
        {
          "output_type": "stream",
          "name": "stdout",
          "text": "Data processing completed!\n"
        }
      ],
      "execution_count": 57,
      "metadata": {
        "jupyter": {
          "source_hidden": false,
          "outputs_hidden": false
        },
        "nteract": {
          "transient": {
            "deleting": false
          }
        },
        "gather": {
          "logged": 1682771771255
        }
      }
    },
    {
      "cell_type": "code",
      "source": [
        "def scrape_table(url, table_id):\n",
        "    headers = {\n",
        "        'User-Agent': 'Mozilla/5.0 (Windows NT 10.0; Win64; x64) AppleWebKit/537.36 (KHTML, like Gecko) Chrome/89.0.4389.82 Safari/537.36'\n",
        "    }\n",
        "    response = requests.get(url, headers=headers)\n",
        "    soup = BeautifulSoup(response.text, 'html.parser')\n",
        "\n",
        "    table = soup.find('table', {'id': table_id})\n",
        "    header_rows = table.thead.find_all('tr')\n",
        "    header_row = header_rows[-1]  # Use the last header row to get the correct headers\n",
        "    headers = [th.text for th in header_row.find_all('th') if th.text != 'Rk']\n",
        "\n",
        "    rows = table.tbody.find_all('tr')\n",
        "    data = []\n",
        "    for row in rows:\n",
        "        if row.get('class') and 'thead' in row['class']:\n",
        "            continue\n",
        "        data_row = [td.text for td in row.find_all('td') if td.get('data-stat') != 'ranker']\n",
        "        data.append(data_row)\n",
        "\n",
        "    return pd.DataFrame(data, columns=headers)\n"
      ],
      "outputs": [],
      "execution_count": 65,
      "metadata": {
        "jupyter": {
          "source_hidden": false,
          "outputs_hidden": false
        },
        "nteract": {
          "transient": {
            "deleting": false
          }
        },
        "gather": {
          "logged": 1682771917858
        }
      }
    }
  ],
  "metadata": {
    "kernelspec": {
      "name": "python38-azureml",
      "language": "python",
      "display_name": "Python 3.8 - AzureML"
    },
    "language_info": {
      "name": "python",
      "version": "3.8.10",
      "mimetype": "text/x-python",
      "codemirror_mode": {
        "name": "ipython",
        "version": 3
      },
      "pygments_lexer": "ipython3",
      "nbconvert_exporter": "python",
      "file_extension": ".py"
    },
    "microsoft": {
      "ms_spell_check": {
        "ms_spell_check_language": "en"
      },
      "host": {
        "AzureML": {
          "notebookHasBeenCompleted": true
        }
      }
    },
    "kernel_info": {
      "name": "python38-azureml"
    },
    "nteract": {
      "version": "nteract-front-end@1.0.0"
    }
  },
  "nbformat": 4,
  "nbformat_minor": 2
}