{
  "cells": [
    {
      "cell_type": "code",
      "source": [
        "%load_ext lab_black"
      ],
      "outputs": [],
      "execution_count": 1,
      "metadata": {}
    },
    {
      "cell_type": "markdown",
      "source": [
        "Step: Load data"
      ],
      "metadata": {
        "nteract": {
          "transient": {
            "deleting": false
          }
        }
      }
    },
    {
      "cell_type": "code",
      "source": [
        "import pandas as pd\n",
        "import os\n",
        "from pyprojroot import here\n",
        "import numpy as np\n",
        "from skimpy import clean_columns\n",
        "from data_cleaning.fun_hot_encode_limit import fun_hot_encode_limit\n",
        "\n",
        "path_data = here(\"./data\")\n",
        "os.chdir(path_data)\n",
        "data_draft_kings = pd.read_csv(\"draft_kings_2021_2022.csv\")\n",
        "data_draft_kings = clean_columns(data_draft_kings)"
      ],
      "outputs": [
        {
          "output_type": "display_data",
          "data": {
            "text/plain": "\u001b[1;36m8\u001b[0m column names have been cleaned\n",
            "text/html": "<pre style=\"white-space:pre;overflow-x:auto;line-height:normal;font-family:Menlo,'DejaVu Sans Mono',consolas,'Courier New',monospace\"><span style=\"color: #008080; text-decoration-color: #008080; font-weight: bold\">8</span> column names have been cleaned\n</pre>\n"
          },
          "metadata": {}
        }
      ],
      "execution_count": 2,
      "metadata": {
        "jupyter": {
          "source_hidden": false,
          "outputs_hidden": false
        },
        "nteract": {
          "transient": {
            "deleting": false
          }
        },
        "gather": {
          "logged": 1682461906998
        }
      }
    },
    {
      "cell_type": "markdown",
      "source": [
        "Step: Change % to actual number"
      ],
      "metadata": {
        "nteract": {
          "transient": {
            "deleting": false
          }
        }
      }
    },
    {
      "cell_type": "code",
      "source": [
        "import pandas as pd\n",
        "\n",
        "# Create example DataFrame\n",
        "df = pd.DataFrame({\"percentage\": [\"8.20%\", \"15.50%\", \"23.00%\"]})\n",
        "\n",
        "# Strip percent symbol and convert to float\n",
        "df[\"decimal\"] = df[\"percentage\"].str.strip(\"%\").astype(float) / 100\n",
        "\n",
        "# Display DataFrame\n",
        "df"
      ],
      "outputs": [
        {
          "output_type": "execute_result",
          "execution_count": 4,
          "data": {
            "text/plain": "  percentage  decimal\n0      8.20%    0.082\n1     15.50%    0.155\n2     23.00%    0.230",
            "text/html": "<div>\n<style scoped>\n    .dataframe tbody tr th:only-of-type {\n        vertical-align: middle;\n    }\n\n    .dataframe tbody tr th {\n        vertical-align: top;\n    }\n\n    .dataframe thead th {\n        text-align: right;\n    }\n</style>\n<table border=\"1\" class=\"dataframe\">\n  <thead>\n    <tr style=\"text-align: right;\">\n      <th></th>\n      <th>percentage</th>\n      <th>decimal</th>\n    </tr>\n  </thead>\n  <tbody>\n    <tr>\n      <th>0</th>\n      <td>8.20%</td>\n      <td>0.082</td>\n    </tr>\n    <tr>\n      <th>1</th>\n      <td>15.50%</td>\n      <td>0.155</td>\n    </tr>\n    <tr>\n      <th>2</th>\n      <td>23.00%</td>\n      <td>0.230</td>\n    </tr>\n  </tbody>\n</table>\n</div>"
          },
          "metadata": {}
        }
      ],
      "execution_count": 4,
      "metadata": {
        "jupyter": {
          "source_hidden": false,
          "outputs_hidden": false
        },
        "nteract": {
          "transient": {
            "deleting": false
          }
        },
        "gather": {
          "logged": 1682461995346
        }
      }
    },
    {
      "cell_type": "code",
      "source": [
        "data_draft_kings[\"ownership_%\"] = (\n",
        "    data_draft_kings[\"ownership_%\"].str.strip(\"%\").astype(float) / 100\n",
        ")"
      ],
      "outputs": [],
      "execution_count": 5,
      "metadata": {
        "jupyter": {
          "source_hidden": false,
          "outputs_hidden": false
        },
        "nteract": {
          "transient": {
            "deleting": false
          }
        },
        "gather": {
          "logged": 1682462015298
        }
      }
    },
    {
      "cell_type": "code",
      "source": [
        "data_position = fun_hot_encode_limit(data=data_draft_kings, column_name=\"position\")\n",
        "data_name = clean_columns(\n",
        "    fun_hot_encode_limit(data=data_draft_kings, column_name=\"name\", threshold=0.001)\n",
        ")\n",
        "\n",
        "\n",
        "data_draft_kings_encoded = pd.concat(\n",
        "    [data_draft_kings, data_position, data_name], axis=1\n",
        ")"
      ],
      "outputs": [
        {
          "output_type": "display_data",
          "data": {
            "text/plain": "\u001b[1;36m204\u001b[0m column names have been cleaned\n",
            "text/html": "<pre style=\"white-space:pre;overflow-x:auto;line-height:normal;font-family:Menlo,'DejaVu Sans Mono',consolas,'Courier New',monospace\"><span style=\"color: #008080; text-decoration-color: #008080; font-weight: bold\">204</span> column names have been cleaned\n</pre>\n"
          },
          "metadata": {}
        }
      ],
      "execution_count": 7,
      "metadata": {
        "jupyter": {
          "source_hidden": false,
          "outputs_hidden": false
        },
        "nteract": {
          "transient": {
            "deleting": false
          }
        },
        "gather": {
          "logged": 1682462027546
        }
      }
    },
    {
      "cell_type": "code",
      "source": [
        "data_draft_kings_analysis = data_draft_kings_encoded.drop(columns=[\"position\", \"name\"])"
      ],
      "outputs": [],
      "execution_count": 8,
      "metadata": {
        "jupyter": {
          "source_hidden": false,
          "outputs_hidden": false
        },
        "nteract": {
          "transient": {
            "deleting": false
          }
        },
        "gather": {
          "logged": 1682462030005
        }
      }
    },
    {
      "cell_type": "markdown",
      "source": [
        "Step: Save "
      ],
      "metadata": {
        "nteract": {
          "transient": {
            "deleting": false
          }
        }
      }
    },
    {
      "cell_type": "code",
      "source": [
        "data_draft_kings_analysis.to_parquet(\"data_draft_kings_analysis.parquet\")"
      ],
      "outputs": [],
      "execution_count": 9,
      "metadata": {
        "jupyter": {
          "source_hidden": false,
          "outputs_hidden": false
        },
        "nteract": {
          "transient": {
            "deleting": false
          }
        },
        "gather": {
          "logged": 1682462033167
        }
      }
    }
  ],
  "metadata": {
    "kernelspec": {
      "name": "python38-azureml",
      "language": "python",
      "display_name": "Python 3.8 - AzureML"
    },
    "language_info": {
      "name": "python",
      "version": "3.8.10",
      "mimetype": "text/x-python",
      "codemirror_mode": {
        "name": "ipython",
        "version": 3
      },
      "pygments_lexer": "ipython3",
      "nbconvert_exporter": "python",
      "file_extension": ".py"
    },
    "microsoft": {
      "ms_spell_check": {
        "ms_spell_check_language": "en"
      },
      "host": {
        "AzureML": {
          "notebookHasBeenCompleted": true
        }
      }
    },
    "kernel_info": {
      "name": "python38-azureml"
    },
    "nteract": {
      "version": "nteract-front-end@1.0.0"
    }
  },
  "nbformat": 4,
  "nbformat_minor": 2
}