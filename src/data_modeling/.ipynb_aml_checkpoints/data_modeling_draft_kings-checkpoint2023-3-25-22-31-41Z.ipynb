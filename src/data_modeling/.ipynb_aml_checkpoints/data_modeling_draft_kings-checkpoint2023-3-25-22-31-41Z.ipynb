{
  "cells": [
    {
      "cell_type": "code",
      "source": [
        "%load_ext lab_black"
      ],
      "outputs": [
        {
          "output_type": "stream",
          "name": "stdout",
          "text": "The lab_black extension is already loaded. To reload it, use:\n  %reload_ext lab_black\n"
        }
      ],
      "execution_count": 19,
      "metadata": {}
    },
    {
      "cell_type": "markdown",
      "source": [
        "Step: Load data"
      ],
      "metadata": {
        "nteract": {
          "transient": {
            "deleting": false
          }
        }
      }
    },
    {
      "cell_type": "code",
      "source": [
        "import pandas as pd\n",
        "import os\n",
        "from pyprojroot import here\n",
        "import numpy as np\n",
        "from skimpy import clean_columns\n",
        "from data_cleaning.fun_hot_encode_limit import fun_hot_encode_limit\n",
        "\n",
        "path_data = here(\"./data\")\n",
        "os.chdir(path_data)\n",
        "data_draft_kings = pd.read_csv(\"draft_kings_2021_2022.csv\")\n",
        "data_draft_kings = clean_columns(data_draft_kings)"
      ],
      "outputs": [
        {
          "output_type": "display_data",
          "data": {
            "text/plain": "\u001b[1;36m8\u001b[0m column names have been cleaned\n",
            "text/html": "<pre style=\"white-space:pre;overflow-x:auto;line-height:normal;font-family:Menlo,'DejaVu Sans Mono',consolas,'Courier New',monospace\"><span style=\"color: #008080; text-decoration-color: #008080; font-weight: bold\">8</span> column names have been cleaned\n</pre>\n"
          },
          "metadata": {}
        }
      ],
      "execution_count": 4,
      "metadata": {
        "jupyter": {
          "source_hidden": false,
          "outputs_hidden": false
        },
        "nteract": {
          "transient": {
            "deleting": false
          }
        },
        "gather": {
          "logged": 1682438886933
        }
      }
    },
    {
      "cell_type": "code",
      "source": [
        "data_draft_kings"
      ],
      "outputs": [
        {
          "output_type": "execute_result",
          "execution_count": 5,
          "data": {
            "text/plain": "    position               name  points  salary  reduction  value ownership_%  \\\n0         QB    Patrick Mahomes   36.28    8100        8.1   4.48       8.20%   \n1         RB      Melvin Gordon   23.80    5300        5.3   4.49       2.00%   \n2         RB          Joe Mixon   28.00    6200        6.2   4.52      16.00%   \n3         WR        Tyreke Hill   40.10    8200        8.2   4.89      10.80%   \n4         WR        Corey Davis   26.70    4900        4.9   5.45      12.20%   \n..       ...                ...     ...     ...        ...    ...         ...   \n562       WR         Mike Evans   29.70    7000        7.0   4.24       32.5%   \n563       WR        Tyreke Hill   16.70    7300        7.3   2.29       33.3%   \n564       TE       Travis Kelce   28.88    6700        6.7   4.31       29.1%   \n565     FLEX  Demarcus Robinson   11.60    3300        3.3   3.52        1.2%   \n566      DEF           Steelers    9.00    2400        2.4   3.75        7.8%   \n\n     place  week  \n0        1     1  \n1        1     1  \n2        1     1  \n3        1     1  \n4        1     1  \n..     ...   ...  \n562      3    20  \n563      3    20  \n564      3    20  \n565      3    20  \n566      3    20  \n\n[567 rows x 9 columns]",
            "text/html": "<div>\n<style scoped>\n    .dataframe tbody tr th:only-of-type {\n        vertical-align: middle;\n    }\n\n    .dataframe tbody tr th {\n        vertical-align: top;\n    }\n\n    .dataframe thead th {\n        text-align: right;\n    }\n</style>\n<table border=\"1\" class=\"dataframe\">\n  <thead>\n    <tr style=\"text-align: right;\">\n      <th></th>\n      <th>position</th>\n      <th>name</th>\n      <th>points</th>\n      <th>salary</th>\n      <th>reduction</th>\n      <th>value</th>\n      <th>ownership_%</th>\n      <th>place</th>\n      <th>week</th>\n    </tr>\n  </thead>\n  <tbody>\n    <tr>\n      <th>0</th>\n      <td>QB</td>\n      <td>Patrick Mahomes</td>\n      <td>36.28</td>\n      <td>8100</td>\n      <td>8.1</td>\n      <td>4.48</td>\n      <td>8.20%</td>\n      <td>1</td>\n      <td>1</td>\n    </tr>\n    <tr>\n      <th>1</th>\n      <td>RB</td>\n      <td>Melvin Gordon</td>\n      <td>23.80</td>\n      <td>5300</td>\n      <td>5.3</td>\n      <td>4.49</td>\n      <td>2.00%</td>\n      <td>1</td>\n      <td>1</td>\n    </tr>\n    <tr>\n      <th>2</th>\n      <td>RB</td>\n      <td>Joe Mixon</td>\n      <td>28.00</td>\n      <td>6200</td>\n      <td>6.2</td>\n      <td>4.52</td>\n      <td>16.00%</td>\n      <td>1</td>\n      <td>1</td>\n    </tr>\n    <tr>\n      <th>3</th>\n      <td>WR</td>\n      <td>Tyreke Hill</td>\n      <td>40.10</td>\n      <td>8200</td>\n      <td>8.2</td>\n      <td>4.89</td>\n      <td>10.80%</td>\n      <td>1</td>\n      <td>1</td>\n    </tr>\n    <tr>\n      <th>4</th>\n      <td>WR</td>\n      <td>Corey Davis</td>\n      <td>26.70</td>\n      <td>4900</td>\n      <td>4.9</td>\n      <td>5.45</td>\n      <td>12.20%</td>\n      <td>1</td>\n      <td>1</td>\n    </tr>\n    <tr>\n      <th>...</th>\n      <td>...</td>\n      <td>...</td>\n      <td>...</td>\n      <td>...</td>\n      <td>...</td>\n      <td>...</td>\n      <td>...</td>\n      <td>...</td>\n      <td>...</td>\n    </tr>\n    <tr>\n      <th>562</th>\n      <td>WR</td>\n      <td>Mike Evans</td>\n      <td>29.70</td>\n      <td>7000</td>\n      <td>7.0</td>\n      <td>4.24</td>\n      <td>32.5%</td>\n      <td>3</td>\n      <td>20</td>\n    </tr>\n    <tr>\n      <th>563</th>\n      <td>WR</td>\n      <td>Tyreke Hill</td>\n      <td>16.70</td>\n      <td>7300</td>\n      <td>7.3</td>\n      <td>2.29</td>\n      <td>33.3%</td>\n      <td>3</td>\n      <td>20</td>\n    </tr>\n    <tr>\n      <th>564</th>\n      <td>TE</td>\n      <td>Travis Kelce</td>\n      <td>28.88</td>\n      <td>6700</td>\n      <td>6.7</td>\n      <td>4.31</td>\n      <td>29.1%</td>\n      <td>3</td>\n      <td>20</td>\n    </tr>\n    <tr>\n      <th>565</th>\n      <td>FLEX</td>\n      <td>Demarcus Robinson</td>\n      <td>11.60</td>\n      <td>3300</td>\n      <td>3.3</td>\n      <td>3.52</td>\n      <td>1.2%</td>\n      <td>3</td>\n      <td>20</td>\n    </tr>\n    <tr>\n      <th>566</th>\n      <td>DEF</td>\n      <td>Steelers</td>\n      <td>9.00</td>\n      <td>2400</td>\n      <td>2.4</td>\n      <td>3.75</td>\n      <td>7.8%</td>\n      <td>3</td>\n      <td>20</td>\n    </tr>\n  </tbody>\n</table>\n<p>567 rows × 9 columns</p>\n</div>"
          },
          "metadata": {}
        }
      ],
      "execution_count": 5,
      "metadata": {
        "jupyter": {
          "source_hidden": false,
          "outputs_hidden": false
        },
        "nteract": {
          "transient": {
            "deleting": false
          }
        },
        "gather": {
          "logged": 1682438888728
        }
      }
    },
    {
      "cell_type": "code",
      "source": [
        "data_position = fun_hot_encode_limit(data=data_draft_kings, column_name=\"position\")\n",
        "data_name = clean_columns(\n",
        "    fun_hot_encode_limit(data=data_draft_kings, column_name=\"name\", threshold=0.001)\n",
        ")\n",
        "\n",
        "\n",
        "data_draft_kings_encoded = pd.concat(\n",
        "    [data_draft_kings, data_position, data_name], axis=1\n",
        ")"
      ],
      "outputs": [
        {
          "output_type": "display_data",
          "data": {
            "text/plain": "\u001b[1;36m204\u001b[0m column names have been cleaned\n",
            "text/html": "<pre style=\"white-space:pre;overflow-x:auto;line-height:normal;font-family:Menlo,'DejaVu Sans Mono',consolas,'Courier New',monospace\"><span style=\"color: #008080; text-decoration-color: #008080; font-weight: bold\">204</span> column names have been cleaned\n</pre>\n"
          },
          "metadata": {}
        }
      ],
      "execution_count": 15,
      "metadata": {
        "jupyter": {
          "source_hidden": false,
          "outputs_hidden": false
        },
        "nteract": {
          "transient": {
            "deleting": false
          }
        },
        "gather": {
          "logged": 1682439256907
        }
      }
    },
    {
      "cell_type": "code",
      "source": [
        "data_draft_kings_analysis = data_draft_kings_encoded.drop(columns=[\"position\", \"name\"])"
      ],
      "outputs": [],
      "execution_count": 20,
      "metadata": {
        "jupyter": {
          "source_hidden": false,
          "outputs_hidden": false
        },
        "nteract": {
          "transient": {
            "deleting": false
          }
        },
        "gather": {
          "logged": 1682439297657
        }
      }
    },
    {
      "cell_type": "markdown",
      "source": [
        "Step: Save "
      ],
      "metadata": {
        "nteract": {
          "transient": {
            "deleting": false
          }
        }
      }
    },
    {
      "cell_type": "code",
      "source": [
        "data_draft_kings_analysis.to_parquet(\"data_draft_kings_analysis.parquet\")"
      ],
      "outputs": [],
      "execution_count": 21,
      "metadata": {
        "jupyter": {
          "source_hidden": false,
          "outputs_hidden": false
        },
        "nteract": {
          "transient": {
            "deleting": false
          }
        },
        "gather": {
          "logged": 1682439307174
        }
      }
    }
  ],
  "metadata": {
    "kernelspec": {
      "name": "python38-azureml",
      "language": "python",
      "display_name": "Python 3.8 - AzureML"
    },
    "language_info": {
      "name": "python",
      "version": "3.8.10",
      "mimetype": "text/x-python",
      "codemirror_mode": {
        "name": "ipython",
        "version": 3
      },
      "pygments_lexer": "ipython3",
      "nbconvert_exporter": "python",
      "file_extension": ".py"
    },
    "microsoft": {
      "ms_spell_check": {
        "ms_spell_check_language": "en"
      },
      "host": {
        "AzureML": {
          "notebookHasBeenCompleted": true
        }
      }
    },
    "kernel_info": {
      "name": "python38-azureml"
    },
    "nteract": {
      "version": "nteract-front-end@1.0.0"
    }
  },
  "nbformat": 4,
  "nbformat_minor": 2
}