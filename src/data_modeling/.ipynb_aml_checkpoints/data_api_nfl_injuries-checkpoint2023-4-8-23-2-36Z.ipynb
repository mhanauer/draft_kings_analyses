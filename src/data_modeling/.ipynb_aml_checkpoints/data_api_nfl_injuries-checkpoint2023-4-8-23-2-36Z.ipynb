{
  "cells": [
    {
      "cell_type": "code",
      "source": [
        "%load_ext lab_black"
      ],
      "outputs": [
        {
          "output_type": "stream",
          "name": "stdout",
          "text": "The lab_black extension is already loaded. To reload it, use:\n  %reload_ext lab_black\n"
        }
      ],
      "execution_count": 3,
      "metadata": {}
    },
    {
      "cell_type": "code",
      "source": [
        "def run_docker_container():\n",
        "    print(f\"Current working directory: {os.getcwd()}\")  # Add this line\n",
        "    cmd = f'docker run -v \"{os.getcwd()}/data:/app/data\" --name nfl-injury-scraper-container nfl-injury-scraper'\n",
        "    print(f\"Running Docker command: {cmd}\")  # Add this line\n",
        "    # ..."
      ],
      "outputs": [],
      "execution_count": 4,
      "metadata": {
        "jupyter": {
          "source_hidden": false,
          "outputs_hidden": false
        },
        "nteract": {
          "transient": {
            "deleting": false
          }
        },
        "gather": {
          "logged": 1683586846330
        }
      }
    },
    {
      "cell_type": "code",
      "source": [
        "run_docker_container()"
      ],
      "outputs": [
        {
          "output_type": "stream",
          "name": "stdout",
          "text": "Current working directory: /mnt/batch/tasks/shared/LS_root/mounts/clusters/matthewhanauer991/code/Users/matthewhanauer99/draft_kings_analyses/src\nRunning Docker command: docker run -v \"/mnt/batch/tasks/shared/LS_root/mounts/clusters/matthewhanauer991/code/Users/matthewhanauer99/draft_kings_analyses/src/data:/app/data\" --name nfl-injury-scraper-container nfl-injury-scraper\n"
        }
      ],
      "execution_count": 5,
      "metadata": {
        "jupyter": {
          "source_hidden": false,
          "outputs_hidden": false
        },
        "nteract": {
          "transient": {
            "deleting": false
          }
        },
        "gather": {
          "logged": 1683586867413
        }
      }
    },
    {
      "cell_type": "markdown",
      "source": [
        "Step: Load data"
      ],
      "metadata": {
        "nteract": {
          "transient": {
            "deleting": false
          }
        }
      }
    },
    {
      "cell_type": "code",
      "source": [
        "import requests\n",
        "from bs4 import BeautifulSoup\n",
        "import csv\n",
        "import pandas as pd\n",
        "import numpy as np\n",
        "from pyprojroot import here\n",
        "from skimpy import clean_columns\n",
        "import os\n",
        "\n",
        "path_data = here(\"./data\")\n",
        "os.chdir(path_data)"
      ],
      "outputs": [],
      "execution_count": 1,
      "metadata": {
        "jupyter": {
          "source_hidden": false,
          "outputs_hidden": false
        },
        "nteract": {
          "transient": {
            "deleting": false
          }
        },
        "gather": {
          "logged": 1683470743707
        }
      }
    },
    {
      "cell_type": "code",
      "source": [
        "import requests\n",
        "from bs4 import BeautifulSoup\n",
        "import pandas as pd\n",
        "import datetime\n",
        "\n",
        "url = \"https://www.espn.com/nfl/injuries\"\n",
        "response = requests.get(url)\n",
        "soup = BeautifulSoup(response.text, \"html.parser\")\n",
        "\n",
        "# Find all tables containing injury data\n",
        "injury_tables = soup.find_all(\"table\", class_=\"Table\")\n",
        "\n",
        "# Define the columns for the DataFrame\n",
        "columns = [\"Name\", \"POS\", \"Date\", \"Status\"]\n",
        "\n",
        "# Prepare an empty list to store the data\n",
        "injury_data = []\n",
        "\n",
        "# Get the current year\n",
        "current_year = datetime.datetime.now().year\n",
        "\n",
        "# Iterate over each table\n",
        "for injury_table in injury_tables:\n",
        "    # Get all rows in the table\n",
        "    rows = injury_table.find_all(\"tr\")\n",
        "\n",
        "    # Iterate over the rows, excluding the header row\n",
        "    for row in rows[1:]:\n",
        "        cells = row.find_all(\"td\")\n",
        "\n",
        "        # Extract data from the cells\n",
        "        name = cells[0].text.strip()\n",
        "        pos = cells[1].text.strip()\n",
        "        date = cells[2].text.strip() + f\" {current_year}\"\n",
        "        status = cells[3].text.strip()\n",
        "\n",
        "        # Append the data as a tuple to the injury_data list\n",
        "        injury_data.append((name, pos, date, status))\n",
        "\n",
        "# Create the DataFrame\n",
        "injury_df = pd.DataFrame(injury_data, columns=columns)\n",
        "\n",
        "print(injury_df)"
      ],
      "outputs": [
        {
          "output_type": "stream",
          "name": "stdout",
          "text": "                     Name POS         Date        Status\n0        Garrett Williams  CB  Apr 28 2023  Questionable\n1            Kyler Murray  QB   Apr 7 2023  Questionable\n2          D.J. Humphries  OT  Mar 10 2023  Questionable\n3              Colt McCoy  QB  Feb 24 2023  Questionable\n4               Zach Ertz  TE  Feb 18 2023  Questionable\n..                    ...  ..          ...           ...\n276  James Smith-Williams  DE  Jan 10 2023  Questionable\n277    Brian Robinson Jr.  RB  Jan 10 2023  Questionable\n278        Andrew Norwell   G  Jan 10 2023  Questionable\n279       Cornelius Lucas  OT  Jan 10 2023  Questionable\n280         John Ridgeway  DT   Jan 9 2023  Questionable\n\n[281 rows x 4 columns]\n"
        }
      ],
      "execution_count": 34,
      "metadata": {
        "jupyter": {
          "source_hidden": false,
          "outputs_hidden": false
        },
        "nteract": {
          "transient": {
            "deleting": false
          }
        },
        "gather": {
          "logged": 1683381056713
        }
      }
    },
    {
      "cell_type": "code",
      "source": [
        "data_nfl_injury = clean_columns(injury_df)"
      ],
      "outputs": [
        {
          "output_type": "display_data",
          "data": {
            "text/plain": "\u001b[1;36m4\u001b[0m column names have been cleaned\n",
            "text/html": "<pre style=\"white-space:pre;overflow-x:auto;line-height:normal;font-family:Menlo,'DejaVu Sans Mono',consolas,'Courier New',monospace\"><span style=\"color: #008080; text-decoration-color: #008080; font-weight: bold\">4</span> column names have been cleaned\n</pre>\n"
          },
          "metadata": {}
        }
      ],
      "execution_count": 35,
      "metadata": {
        "jupyter": {
          "source_hidden": false,
          "outputs_hidden": false
        },
        "nteract": {
          "transient": {
            "deleting": false
          }
        },
        "gather": {
          "logged": 1683381060959
        }
      }
    },
    {
      "cell_type": "code",
      "source": [
        "data_nfl_injury[\"date\"] = pd.to_datetime(data_nfl_injury[\"date\"])\n",
        "\n",
        "data_nfl_injury"
      ],
      "outputs": [
        {
          "output_type": "execute_result",
          "execution_count": 36,
          "data": {
            "text/plain": "                     name pos       date        status\n0        Garrett Williams  CB 2023-04-28  Questionable\n1            Kyler Murray  QB 2023-04-07  Questionable\n2          D.J. Humphries  OT 2023-03-10  Questionable\n3              Colt McCoy  QB 2023-02-24  Questionable\n4               Zach Ertz  TE 2023-02-18  Questionable\n..                    ...  ..        ...           ...\n276  James Smith-Williams  DE 2023-01-10  Questionable\n277    Brian Robinson Jr.  RB 2023-01-10  Questionable\n278        Andrew Norwell   G 2023-01-10  Questionable\n279       Cornelius Lucas  OT 2023-01-10  Questionable\n280         John Ridgeway  DT 2023-01-09  Questionable\n\n[281 rows x 4 columns]",
            "text/html": "<div>\n<style scoped>\n    .dataframe tbody tr th:only-of-type {\n        vertical-align: middle;\n    }\n\n    .dataframe tbody tr th {\n        vertical-align: top;\n    }\n\n    .dataframe thead th {\n        text-align: right;\n    }\n</style>\n<table border=\"1\" class=\"dataframe\">\n  <thead>\n    <tr style=\"text-align: right;\">\n      <th></th>\n      <th>name</th>\n      <th>pos</th>\n      <th>date</th>\n      <th>status</th>\n    </tr>\n  </thead>\n  <tbody>\n    <tr>\n      <th>0</th>\n      <td>Garrett Williams</td>\n      <td>CB</td>\n      <td>2023-04-28</td>\n      <td>Questionable</td>\n    </tr>\n    <tr>\n      <th>1</th>\n      <td>Kyler Murray</td>\n      <td>QB</td>\n      <td>2023-04-07</td>\n      <td>Questionable</td>\n    </tr>\n    <tr>\n      <th>2</th>\n      <td>D.J. Humphries</td>\n      <td>OT</td>\n      <td>2023-03-10</td>\n      <td>Questionable</td>\n    </tr>\n    <tr>\n      <th>3</th>\n      <td>Colt McCoy</td>\n      <td>QB</td>\n      <td>2023-02-24</td>\n      <td>Questionable</td>\n    </tr>\n    <tr>\n      <th>4</th>\n      <td>Zach Ertz</td>\n      <td>TE</td>\n      <td>2023-02-18</td>\n      <td>Questionable</td>\n    </tr>\n    <tr>\n      <th>...</th>\n      <td>...</td>\n      <td>...</td>\n      <td>...</td>\n      <td>...</td>\n    </tr>\n    <tr>\n      <th>276</th>\n      <td>James Smith-Williams</td>\n      <td>DE</td>\n      <td>2023-01-10</td>\n      <td>Questionable</td>\n    </tr>\n    <tr>\n      <th>277</th>\n      <td>Brian Robinson Jr.</td>\n      <td>RB</td>\n      <td>2023-01-10</td>\n      <td>Questionable</td>\n    </tr>\n    <tr>\n      <th>278</th>\n      <td>Andrew Norwell</td>\n      <td>G</td>\n      <td>2023-01-10</td>\n      <td>Questionable</td>\n    </tr>\n    <tr>\n      <th>279</th>\n      <td>Cornelius Lucas</td>\n      <td>OT</td>\n      <td>2023-01-10</td>\n      <td>Questionable</td>\n    </tr>\n    <tr>\n      <th>280</th>\n      <td>John Ridgeway</td>\n      <td>DT</td>\n      <td>2023-01-09</td>\n      <td>Questionable</td>\n    </tr>\n  </tbody>\n</table>\n<p>281 rows × 4 columns</p>\n</div>"
          },
          "metadata": {}
        }
      ],
      "execution_count": 36,
      "metadata": {
        "jupyter": {
          "source_hidden": false,
          "outputs_hidden": false
        },
        "nteract": {
          "transient": {
            "deleting": false
          }
        },
        "gather": {
          "logged": 1683381064134
        }
      }
    },
    {
      "cell_type": "code",
      "source": [
        "data_nfl_injury.to_parquet(\"data_nfl_injury.parquet\")"
      ],
      "outputs": [],
      "execution_count": 37,
      "metadata": {
        "jupyter": {
          "source_hidden": false,
          "outputs_hidden": false
        },
        "nteract": {
          "transient": {
            "deleting": false
          }
        },
        "gather": {
          "logged": 1683381072205
        }
      }
    }
  ],
  "metadata": {
    "kernelspec": {
      "name": "python38-azureml",
      "language": "python",
      "display_name": "Python 3.8 - AzureML"
    },
    "language_info": {
      "name": "python",
      "version": "3.8.10",
      "mimetype": "text/x-python",
      "codemirror_mode": {
        "name": "ipython",
        "version": 3
      },
      "pygments_lexer": "ipython3",
      "nbconvert_exporter": "python",
      "file_extension": ".py"
    },
    "microsoft": {
      "ms_spell_check": {
        "ms_spell_check_language": "en"
      },
      "host": {
        "AzureML": {
          "notebookHasBeenCompleted": true
        }
      }
    },
    "kernel_info": {
      "name": "python38-azureml"
    },
    "nteract": {
      "version": "nteract-front-end@1.0.0"
    }
  },
  "nbformat": 4,
  "nbformat_minor": 2
}