{
  "cells": [
    {
      "cell_type": "code",
      "source": [
        "%load_ext lab_black"
      ],
      "outputs": [],
      "execution_count": 1,
      "metadata": {}
    },
    {
      "cell_type": "markdown",
      "source": [
        "Step: Load data"
      ],
      "metadata": {
        "nteract": {
          "transient": {
            "deleting": false
          }
        }
      }
    },
    {
      "cell_type": "code",
      "source": [
        "import pandas as pd\n",
        "import os\n",
        "from pyprojroot import here\n",
        "import numpy as np\n",
        "from skimpy import clean_columns\n",
        "from data_cleaning.fun_hot_encode_limit import fun_hot_encode_limit\n",
        "import numpy as np\n",
        "import pandas as pd\n",
        "import gower\n",
        "from sklearn.cluster import AgglomerativeClustering\n",
        "from scipy.cluster.hierarchy import dendrogram\n",
        "import matplotlib.pyplot as plt\n",
        "from sklearn.metrics import (\n",
        "    silhouette_score,\n",
        "    calinski_harabasz_score,\n",
        "    davies_bouldin_score,\n",
        ")\n",
        "\n",
        "\n",
        "path_data = here(\"./data\")\n",
        "os.chdir(path_data)\n",
        "data_draft_kings = pd.read_parquet(\"data_draft_kings_analysis.parquet\")\n",
        "data_draft_kings_analysis = data_draft_kings.drop(columns=[\"week\"])"
      ],
      "outputs": [],
      "execution_count": 2,
      "metadata": {
        "jupyter": {
          "source_hidden": false,
          "outputs_hidden": false
        },
        "nteract": {
          "transient": {
            "deleting": false
          }
        },
        "gather": {
          "logged": 1682509585586
        }
      }
    },
    {
      "cell_type": "code",
      "source": [
        "# Compute Gower distance matrix\n",
        "distance_matrix = gower.gower_matrix(data_draft_kings_analysis)"
      ],
      "outputs": [],
      "execution_count": 3,
      "metadata": {
        "jupyter": {
          "source_hidden": false,
          "outputs_hidden": false
        },
        "nteract": {
          "transient": {
            "deleting": false
          }
        },
        "gather": {
          "logged": 1682509585757
        }
      }
    },
    {
      "cell_type": "code",
      "source": [
        "data_clusters = [2, 3, 4, 5, 6]"
      ],
      "outputs": [],
      "execution_count": 4,
      "metadata": {
        "jupyter": {
          "source_hidden": false,
          "outputs_hidden": false
        },
        "nteract": {
          "transient": {
            "deleting": false
          }
        },
        "gather": {
          "logged": 1682509585884
        }
      }
    },
    {
      "cell_type": "code",
      "source": [
        "labels_out = []\n",
        "\n",
        "for x in range(len(data_clusters)):\n",
        "    # Create the hierarchical agglomerative clustering model\n",
        "    clustering_in = AgglomerativeClustering(\n",
        "        n_clusters=data_clusters[x], affinity=\"precomputed\", linkage=\"complete\"\n",
        "    )\n",
        "\n",
        "    clustering_in.fit(distance_matrix)\n",
        "    labels = clustering_in.labels_\n",
        "\n",
        "    labels_out.append(labels)"
      ],
      "outputs": [],
      "execution_count": 5,
      "metadata": {
        "jupyter": {
          "source_hidden": false,
          "outputs_hidden": false
        },
        "nteract": {
          "transient": {
            "deleting": false
          }
        },
        "gather": {
          "logged": 1682509598032
        }
      }
    },
    {
      "cell_type": "code",
      "source": [
        "accuracy_out = []\n",
        "for x in range(len(labels_out)):\n",
        "    accuracy_in = silhouette_score(data_draft_kings_analysis, labels_out[x])\n",
        "    accuracy_out.append(accuracy_in)"
      ],
      "outputs": [],
      "execution_count": 6,
      "metadata": {
        "jupyter": {
          "source_hidden": false,
          "outputs_hidden": false
        },
        "nteract": {
          "transient": {
            "deleting": false
          }
        },
        "gather": {
          "logged": 1682509601937
        }
      }
    },
    {
      "cell_type": "code",
      "source": [
        "accuracy_out"
      ],
      "outputs": [
        {
          "output_type": "execute_result",
          "execution_count": 7,
          "data": {
            "text/plain": "[0.288035499192513,\n 0.04312217895576275,\n -0.030924717001696758,\n -0.08095817523341031,\n -0.18009020473223336]"
          },
          "metadata": {}
        }
      ],
      "execution_count": 7,
      "metadata": {
        "jupyter": {
          "source_hidden": false,
          "outputs_hidden": false
        },
        "nteract": {
          "transient": {
            "deleting": false
          }
        },
        "gather": {
          "logged": 1682509605281
        }
      }
    },
    {
      "cell_type": "markdown",
      "source": [
        "Step: Save "
      ],
      "metadata": {
        "nteract": {
          "transient": {
            "deleting": false
          }
        }
      }
    },
    {
      "cell_type": "code",
      "source": [
        "labels = pd.DataFrame(labels_out[1]).rename(columns={0: \"labels\"})"
      ],
      "outputs": [],
      "execution_count": 8,
      "metadata": {
        "jupyter": {
          "source_hidden": false,
          "outputs_hidden": false
        },
        "nteract": {
          "transient": {
            "deleting": false
          }
        },
        "gather": {
          "logged": 1682509612833
        }
      }
    },
    {
      "cell_type": "code",
      "source": [
        "data_draft_kings_analysis_labels = pd.concat(\n",
        "    [data_draft_kings_analysis, labels], axis=1\n",
        ")"
      ],
      "outputs": [],
      "execution_count": 9,
      "metadata": {
        "jupyter": {
          "source_hidden": false,
          "outputs_hidden": false
        },
        "nteract": {
          "transient": {
            "deleting": false
          }
        },
        "gather": {
          "logged": 1682509615162
        }
      }
    },
    {
      "cell_type": "code",
      "source": [
        "data_draft_kings_analysis_labels.columns"
      ],
      "outputs": [
        {
          "output_type": "execute_result",
          "execution_count": 10,
          "data": {
            "text/plain": "Index(['points', 'salary', 'reduction', 'value', 'ownership_%', 'WR', 'RB',\n       'QB', 'TE', 'FLEX',\n       ...\n       'buccaneers', 'henry_ruggs', 'ricky_seals_jones', 'noah_fant',\n       'donovan_jones', 'steelers', '1', '2', '3', 'labels'],\n      dtype='object', length=220)"
          },
          "metadata": {}
        }
      ],
      "execution_count": 10,
      "metadata": {
        "jupyter": {
          "source_hidden": false,
          "outputs_hidden": false
        },
        "nteract": {
          "transient": {
            "deleting": false
          }
        },
        "gather": {
          "logged": 1682509687344
        }
      }
    },
    {
      "cell_type": "code",
      "source": [
        "data_draft_kings_cluster = (\n",
        "    data_draft_kings_analysis_labels.groupby(\"labels\").mean().reset_index().round(2)\n",
        ")\n",
        "\n",
        "data_draft_kings_cluster.to_csv(\"data_draft_kings_cluster.csv\")"
      ],
      "outputs": [],
      "execution_count": 11,
      "metadata": {
        "jupyter": {
          "source_hidden": false,
          "outputs_hidden": false
        },
        "nteract": {
          "transient": {
            "deleting": false
          }
        },
        "gather": {
          "logged": 1682509691156
        }
      }
    }
  ],
  "metadata": {
    "kernelspec": {
      "name": "python38-azureml",
      "language": "python",
      "display_name": "Python 3.8 - AzureML"
    },
    "language_info": {
      "name": "python",
      "version": "3.8.10",
      "mimetype": "text/x-python",
      "codemirror_mode": {
        "name": "ipython",
        "version": 3
      },
      "pygments_lexer": "ipython3",
      "nbconvert_exporter": "python",
      "file_extension": ".py"
    },
    "microsoft": {
      "ms_spell_check": {
        "ms_spell_check_language": "en"
      },
      "host": {
        "AzureML": {
          "notebookHasBeenCompleted": true
        }
      }
    },
    "kernel_info": {
      "name": "python38-azureml"
    },
    "nteract": {
      "version": "nteract-front-end@1.0.0"
    }
  },
  "nbformat": 4,
  "nbformat_minor": 2
}