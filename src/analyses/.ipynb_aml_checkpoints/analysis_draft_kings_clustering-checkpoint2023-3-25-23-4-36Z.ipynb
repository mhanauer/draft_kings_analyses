{
  "cells": [
    {
      "cell_type": "code",
      "source": [
        "%load_ext lab_black"
      ],
      "outputs": [
        {
          "output_type": "stream",
          "name": "stdout",
          "text": "The lab_black extension is already loaded. To reload it, use:\n  %reload_ext lab_black\n"
        }
      ],
      "execution_count": 14,
      "metadata": {}
    },
    {
      "cell_type": "markdown",
      "source": [
        "Step: Load data"
      ],
      "metadata": {
        "nteract": {
          "transient": {
            "deleting": false
          }
        }
      }
    },
    {
      "cell_type": "code",
      "source": [
        "import pandas as pd\n",
        "import os\n",
        "from pyprojroot import here\n",
        "import numpy as np\n",
        "from skimpy import clean_columns\n",
        "from data_cleaning.fun_hot_encode_limit import fun_hot_encode_limit\n",
        "import numpy as np\n",
        "import pandas as pd\n",
        "import gower\n",
        "from sklearn.cluster import AgglomerativeClustering\n",
        "from scipy.cluster.hierarchy import dendrogram\n",
        "import matplotlib.pyplot as plt\n",
        "from sklearn.metrics import (\n",
        "    silhouette_score,\n",
        "    calinski_harabasz_score,\n",
        "    davies_bouldin_score,\n",
        ")\n",
        "\n",
        "\n",
        "path_data = here(\"./data\")\n",
        "os.chdir(path_data)\n",
        "data_draft_kings = pd.read_parquet(\"data_draft_kings_analysis.parquet\")\n",
        "data_draft_kings_analysis = data_draft_kings.drop(columns=[\"week\", \"place\"])"
      ],
      "outputs": [],
      "execution_count": 16,
      "metadata": {
        "jupyter": {
          "source_hidden": false,
          "outputs_hidden": false
        },
        "nteract": {
          "transient": {
            "deleting": false
          }
        },
        "gather": {
          "logged": 1682462052218
        }
      }
    },
    {
      "cell_type": "code",
      "source": [
        "# Compute Gower distance matrix\n",
        "distance_matrix = gower.gower_matrix(data_draft_kings_analysis)"
      ],
      "outputs": [],
      "execution_count": 17,
      "metadata": {
        "jupyter": {
          "source_hidden": false,
          "outputs_hidden": false
        },
        "nteract": {
          "transient": {
            "deleting": false
          }
        },
        "gather": {
          "logged": 1682462059156
        }
      }
    },
    {
      "cell_type": "code",
      "source": [
        "data_clusters = [2, 3, 4, 5, 6]"
      ],
      "outputs": [],
      "execution_count": 30,
      "metadata": {
        "jupyter": {
          "source_hidden": false,
          "outputs_hidden": false
        },
        "nteract": {
          "transient": {
            "deleting": false
          }
        },
        "gather": {
          "logged": 1682463088437
        }
      }
    },
    {
      "cell_type": "code",
      "source": [
        "labels_out = []\n",
        "\n",
        "for x in range(len(data_clusters)):\n",
        "    # Create the hierarchical agglomerative clustering model\n",
        "    clustering_in = AgglomerativeClustering(\n",
        "        n_clusters=data_clusters[x], affinity=\"precomputed\", linkage=\"complete\"\n",
        "    )\n",
        "\n",
        "    clustering_in.fit(distance_matrix)\n",
        "    labels = clustering_in.labels_\n",
        "\n",
        "    labels_out.append(labels)"
      ],
      "outputs": [],
      "execution_count": 32,
      "metadata": {
        "jupyter": {
          "source_hidden": false,
          "outputs_hidden": false
        },
        "nteract": {
          "transient": {
            "deleting": false
          }
        },
        "gather": {
          "logged": 1682463096514
        }
      }
    },
    {
      "cell_type": "code",
      "source": [
        "accuracy_out = []\n",
        "for x in range(len(labels_out)):\n",
        "    accuracy_in = silhouette_score(data_draft_kings_analysis, labels_out[x])\n",
        "    accuracy_out.append(accuracy_in)"
      ],
      "outputs": [],
      "execution_count": 33,
      "metadata": {
        "jupyter": {
          "source_hidden": false,
          "outputs_hidden": false
        },
        "nteract": {
          "transient": {
            "deleting": false
          }
        },
        "gather": {
          "logged": 1682463098174
        }
      }
    },
    {
      "cell_type": "code",
      "source": [
        "accuracy_out"
      ],
      "outputs": [
        {
          "output_type": "execute_result",
          "execution_count": 34,
          "data": {
            "text/plain": "[0.2942827439738276,\n 0.04851566520202016,\n -0.026784305210821764,\n -0.07263774875264702,\n -0.16552166597373308]"
          },
          "metadata": {}
        }
      ],
      "execution_count": 34,
      "metadata": {
        "jupyter": {
          "source_hidden": false,
          "outputs_hidden": false
        },
        "nteract": {
          "transient": {
            "deleting": false
          }
        },
        "gather": {
          "logged": 1682463099580
        }
      }
    },
    {
      "cell_type": "markdown",
      "source": [
        "Step: Save "
      ],
      "metadata": {
        "nteract": {
          "transient": {
            "deleting": false
          }
        }
      }
    },
    {
      "cell_type": "code",
      "source": [
        "labels = pd.DataFrame(labels_out[0]).rename(columns={0: \"labels\"})\n"
      ],
      "outputs": [
        {
          "output_type": "execute_result",
          "execution_count": 38,
          "data": {
            "text/plain": "     labels\n0         0\n1         0\n2         0\n3         0\n4         0\n..      ...\n562       0\n563       0\n564       1\n565       1\n566       1\n\n[567 rows x 1 columns]",
            "text/html": "<div>\n<style scoped>\n    .dataframe tbody tr th:only-of-type {\n        vertical-align: middle;\n    }\n\n    .dataframe tbody tr th {\n        vertical-align: top;\n    }\n\n    .dataframe thead th {\n        text-align: right;\n    }\n</style>\n<table border=\"1\" class=\"dataframe\">\n  <thead>\n    <tr style=\"text-align: right;\">\n      <th></th>\n      <th>labels</th>\n    </tr>\n  </thead>\n  <tbody>\n    <tr>\n      <th>0</th>\n      <td>0</td>\n    </tr>\n    <tr>\n      <th>1</th>\n      <td>0</td>\n    </tr>\n    <tr>\n      <th>2</th>\n      <td>0</td>\n    </tr>\n    <tr>\n      <th>3</th>\n      <td>0</td>\n    </tr>\n    <tr>\n      <th>4</th>\n      <td>0</td>\n    </tr>\n    <tr>\n      <th>...</th>\n      <td>...</td>\n    </tr>\n    <tr>\n      <th>562</th>\n      <td>0</td>\n    </tr>\n    <tr>\n      <th>563</th>\n      <td>0</td>\n    </tr>\n    <tr>\n      <th>564</th>\n      <td>1</td>\n    </tr>\n    <tr>\n      <th>565</th>\n      <td>1</td>\n    </tr>\n    <tr>\n      <th>566</th>\n      <td>1</td>\n    </tr>\n  </tbody>\n</table>\n<p>567 rows × 1 columns</p>\n</div>"
          },
          "metadata": {}
        }
      ],
      "execution_count": 38,
      "metadata": {
        "jupyter": {
          "source_hidden": false,
          "outputs_hidden": false
        },
        "nteract": {
          "transient": {
            "deleting": false
          }
        },
        "gather": {
          "logged": 1682463261396
        }
      }
    },
    {
      "cell_type": "code",
      "source": [
        "data_draft_kings_analysis_labels = pd.concat(\n",
        "    [data_draft_kings_analysis, labels], axis=1\n",
        ")"
      ],
      "outputs": [],
      "execution_count": 39,
      "metadata": {
        "jupyter": {
          "source_hidden": false,
          "outputs_hidden": false
        },
        "nteract": {
          "transient": {
            "deleting": false
          }
        },
        "gather": {
          "logged": 1682463269047
        }
      }
    }
  ],
  "metadata": {
    "kernelspec": {
      "name": "python38-azureml",
      "language": "python",
      "display_name": "Python 3.8 - AzureML"
    },
    "language_info": {
      "name": "python",
      "version": "3.8.10",
      "mimetype": "text/x-python",
      "codemirror_mode": {
        "name": "ipython",
        "version": 3
      },
      "pygments_lexer": "ipython3",
      "nbconvert_exporter": "python",
      "file_extension": ".py"
    },
    "microsoft": {
      "ms_spell_check": {
        "ms_spell_check_language": "en"
      },
      "host": {
        "AzureML": {
          "notebookHasBeenCompleted": true
        }
      }
    },
    "kernel_info": {
      "name": "python38-azureml"
    },
    "nteract": {
      "version": "nteract-front-end@1.0.0"
    }
  },
  "nbformat": 4,
  "nbformat_minor": 2
}