{
  "cells": [
    {
      "cell_type": "code",
      "source": [
        "%load_ext lab_black"
      ],
      "outputs": [],
      "execution_count": null,
      "metadata": {}
    },
    {
      "cell_type": "markdown",
      "source": [
        "Step: Load data"
      ],
      "metadata": {
        "nteract": {
          "transient": {
            "deleting": false
          }
        }
      }
    },
    {
      "cell_type": "code",
      "source": [
        "import csv\n",
        "import pandas as pd\n",
        "import numpy as np\n",
        "import time\n",
        "import os\n",
        "from pyprojroot import here\n",
        "from skimpy import clean_columns\n",
        "from data_cleaning.fun_hot_encode_limit import fun_hot_encode_limit\n",
        "\n",
        "path_data = here(\"./data\")\n",
        "os.chdir(path_data)"
      ],
      "outputs": [],
      "execution_count": null,
      "metadata": {
        "jupyter": {
          "source_hidden": false,
          "outputs_hidden": false
        },
        "nteract": {
          "transient": {
            "deleting": false
          }
        },
        "gather": {
          "logged": 1682872509921
        }
      }
    },
    {
      "cell_type": "code",
      "source": [
        "passing_data = clean_columns(pd.read_parquet(\"passing_data.parquet\"))\n",
        "rushing_data = clean_columns(pd.read_parquet(\"rushing_data.parquet\"))\n",
        "receiving_data = clean_columns(pd.read_parquet(\"receiving_data.parquet\"))\n",
        "defense_data = clean_columns(pd.read_parquet(\"defense_data.parquet\"))"
      ],
      "outputs": [],
      "execution_count": null,
      "metadata": {
        "jupyter": {
          "source_hidden": false,
          "outputs_hidden": false
        },
        "nteract": {
          "transient": {
            "deleting": false
          }
        },
        "gather": {
          "logged": 1682872511233
        }
      }
    },
    {
      "cell_type": "markdown",
      "source": [
        "Step: Calculate draft kings points"
      ],
      "metadata": {
        "nteract": {
          "transient": {
            "deleting": false
          }
        }
      }
    },
    {
      "cell_type": "markdown",
      "source": [
        "Passing TD: +4 points\n",
        "Rushing/Receiving TD: +6 points\n",
        "Passing yards: +0.04 points per yard\n",
        "Rushing/Receiving yards: +0.1 points per yard\n",
        "Interception: -1 point\n",
        "Fumble lost: -2 points"
      ],
      "metadata": {
        "nteract": {
          "transient": {
            "deleting": false
          }
        }
      }
    },
    {
      "cell_type": "code",
      "source": [
        "receiving_data[\"yds_points\"] = receiving_data[\"yds\"].astype(int) * 0.1"
      ],
      "outputs": [],
      "execution_count": 13,
      "metadata": {
        "jupyter": {
          "source_hidden": false,
          "outputs_hidden": false
        },
        "nteract": {
          "transient": {
            "deleting": false
          }
        },
        "gather": {
          "logged": 1682873949267
        }
      }
    },
    {
      "cell_type": "code",
      "source": [
        "rushing_data['yds_points'] = rushing_data['yds']*0.1\n",
        "rushing_data['fmb_points'] = rushing_data['fmb']*-2"
      ],
      "outputs": [
        {
          "output_type": "execute_result",
          "execution_count": 8,
          "data": {
            "text/plain": "Index(['player', 'tm', 'age', 'pos', 'g', 'gs', 'tgt', 'rec', 'ctch_%', 'yds',\n       'y_r', 'td', '1_d', 'lng', 'y_tgt', 'r_g', 'y_g', 'fmb', 'year'],\n      dtype='object')"
          },
          "metadata": {}
        }
      ],
      "execution_count": 8,
      "metadata": {
        "jupyter": {
          "source_hidden": false,
          "outputs_hidden": false
        },
        "nteract": {
          "transient": {
            "deleting": false
          }
        },
        "gather": {
          "logged": 1682873568586
        }
      }
    },
    {
      "cell_type": "code",
      "source": [
        "passing_data[\"td_points\"]=  passing_data[\"td\"]*4\n",
        "passing_data['yds_points'] = passing_data['yds']*.04\n",
        "passing_data['int_points'] = passing_data['int']*-1"
      ],
      "outputs": [
        {
          "output_type": "execute_result",
          "execution_count": 6,
          "data": {
            "text/plain": "0       30\n1       33\n2       33\n3       24\n4       31\n        ..\n1280     0\n1281     0\n1282     0\n1283     0\n1284     0\nName: td, Length: 1285, dtype: object"
          },
          "metadata": {}
        }
      ],
      "execution_count": 6,
      "metadata": {
        "jupyter": {
          "source_hidden": false,
          "outputs_hidden": false
        },
        "nteract": {
          "transient": {
            "deleting": false
          }
        },
        "gather": {
          "logged": 1682873118894
        }
      }
    },
    {
      "cell_type": "code",
      "source": [
        "passing_data_points = passing_data.to_parquet(\"passing_data_points.parquet\")\n",
        "rushing_data_points = passing_data.to_parquet(\"rushing_data_points.parquet\")\n",
        "receiving_data_points = passing_data.to_parquet(\"receiving_data_points.parquet\")"
      ],
      "outputs": [],
      "execution_count": 16,
      "metadata": {
        "jupyter": {
          "source_hidden": false,
          "outputs_hidden": false
        },
        "nteract": {
          "transient": {
            "deleting": false
          }
        },
        "gather": {
          "logged": 1682874268521
        }
      }
    }
  ],
  "metadata": {
    "kernelspec": {
      "name": "python38-azureml",
      "language": "python",
      "display_name": "Python 3.8 - AzureML"
    },
    "language_info": {
      "name": "python",
      "version": "3.8.10",
      "mimetype": "text/x-python",
      "codemirror_mode": {
        "name": "ipython",
        "version": 3
      },
      "pygments_lexer": "ipython3",
      "nbconvert_exporter": "python",
      "file_extension": ".py"
    },
    "microsoft": {
      "ms_spell_check": {
        "ms_spell_check_language": "en"
      },
      "host": {
        "AzureML": {
          "notebookHasBeenCompleted": true
        }
      }
    },
    "kernel_info": {
      "name": "python38-azureml"
    },
    "nteract": {
      "version": "nteract-front-end@1.0.0"
    }
  },
  "nbformat": 4,
  "nbformat_minor": 2
}