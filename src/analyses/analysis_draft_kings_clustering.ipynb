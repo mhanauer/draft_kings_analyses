{
  "cells": [
    {
      "cell_type": "code",
      "source": [
        "%load_ext lab_black"
      ],
      "outputs": [],
      "execution_count": 1,
      "metadata": {}
    },
    {
      "cell_type": "markdown",
      "source": [
        "Step: Load data"
      ],
      "metadata": {
        "nteract": {
          "transient": {
            "deleting": false
          }
        }
      }
    },
    {
      "cell_type": "code",
      "source": [
        "import pandas as pd\n",
        "import os\n",
        "from pyprojroot import here\n",
        "import numpy as np\n",
        "from skimpy import clean_columns\n",
        "from data_cleaning.fun_hot_encode_limit import fun_hot_encode_limit\n",
        "import numpy as np\n",
        "import pandas as pd\n",
        "import gower\n",
        "from sklearn.cluster import AgglomerativeClustering\n",
        "from scipy.cluster.hierarchy import dendrogram\n",
        "import matplotlib.pyplot as plt\n",
        "from sklearn.metrics import (\n",
        "    silhouette_score,\n",
        "    calinski_harabasz_score,\n",
        "    davies_bouldin_score,\n",
        ")\n",
        "\n",
        "\n",
        "path_data = here(\"./data\")\n",
        "os.chdir(path_data)\n",
        "\n",
        "data_draft_kings_original = pd.read_csv(\"draft_kings_2021_2022.csv\")\n",
        "data_draft_kings = pd.read_parquet(\"data_draft_kings_analysis.parquet\")\n",
        "data_draft_kings_analysis = data_draft_kings.drop(columns=[\"week\"])"
      ],
      "outputs": [],
      "execution_count": 2,
      "metadata": {
        "jupyter": {
          "source_hidden": false,
          "outputs_hidden": false
        },
        "nteract": {
          "transient": {
            "deleting": false
          }
        },
        "gather": {
          "logged": 1682885633145
        }
      }
    },
    {
      "cell_type": "code",
      "source": [
        "data_draft_kings_analysis.head()"
      ],
      "outputs": [
        {
          "output_type": "execute_result",
          "execution_count": 5,
          "data": {
            "text/plain": "   points  salary  reduction  value  ownership_%  WR  RB  QB  TE  FLEX  ...  \\\n0   36.28    8100        8.1   4.48        0.082   0   0   1   0     0  ...   \n1   23.80    5300        5.3   4.49        0.020   0   1   0   0     0  ...   \n2   28.00    6200        6.2   4.52        0.160   0   1   0   0     0  ...   \n3   40.10    8200        8.2   4.89        0.108   1   0   0   0     0  ...   \n4   26.70    4900        4.9   5.45        0.122   1   0   0   0     0  ...   \n\n   rashod_bateman  buccaneers  henry_ruggs  ricky_seals_jones  noah_fant  \\\n0               0           0            0                  0          0   \n1               0           0            0                  0          0   \n2               0           0            0                  0          0   \n3               0           0            0                  0          0   \n4               0           0            0                  0          0   \n\n   donovan_jones  steelers  1  2  3  \n0              0         0  1  0  0  \n1              0         0  1  0  0  \n2              0         0  1  0  0  \n3              0         0  1  0  0  \n4              0         0  1  0  0  \n\n[5 rows x 219 columns]",
            "text/html": "<div>\n<style scoped>\n    .dataframe tbody tr th:only-of-type {\n        vertical-align: middle;\n    }\n\n    .dataframe tbody tr th {\n        vertical-align: top;\n    }\n\n    .dataframe thead th {\n        text-align: right;\n    }\n</style>\n<table border=\"1\" class=\"dataframe\">\n  <thead>\n    <tr style=\"text-align: right;\">\n      <th></th>\n      <th>points</th>\n      <th>salary</th>\n      <th>reduction</th>\n      <th>value</th>\n      <th>ownership_%</th>\n      <th>WR</th>\n      <th>RB</th>\n      <th>QB</th>\n      <th>TE</th>\n      <th>FLEX</th>\n      <th>...</th>\n      <th>rashod_bateman</th>\n      <th>buccaneers</th>\n      <th>henry_ruggs</th>\n      <th>ricky_seals_jones</th>\n      <th>noah_fant</th>\n      <th>donovan_jones</th>\n      <th>steelers</th>\n      <th>1</th>\n      <th>2</th>\n      <th>3</th>\n    </tr>\n  </thead>\n  <tbody>\n    <tr>\n      <th>0</th>\n      <td>36.28</td>\n      <td>8100</td>\n      <td>8.1</td>\n      <td>4.48</td>\n      <td>0.082</td>\n      <td>0</td>\n      <td>0</td>\n      <td>1</td>\n      <td>0</td>\n      <td>0</td>\n      <td>...</td>\n      <td>0</td>\n      <td>0</td>\n      <td>0</td>\n      <td>0</td>\n      <td>0</td>\n      <td>0</td>\n      <td>0</td>\n      <td>1</td>\n      <td>0</td>\n      <td>0</td>\n    </tr>\n    <tr>\n      <th>1</th>\n      <td>23.80</td>\n      <td>5300</td>\n      <td>5.3</td>\n      <td>4.49</td>\n      <td>0.020</td>\n      <td>0</td>\n      <td>1</td>\n      <td>0</td>\n      <td>0</td>\n      <td>0</td>\n      <td>...</td>\n      <td>0</td>\n      <td>0</td>\n      <td>0</td>\n      <td>0</td>\n      <td>0</td>\n      <td>0</td>\n      <td>0</td>\n      <td>1</td>\n      <td>0</td>\n      <td>0</td>\n    </tr>\n    <tr>\n      <th>2</th>\n      <td>28.00</td>\n      <td>6200</td>\n      <td>6.2</td>\n      <td>4.52</td>\n      <td>0.160</td>\n      <td>0</td>\n      <td>1</td>\n      <td>0</td>\n      <td>0</td>\n      <td>0</td>\n      <td>...</td>\n      <td>0</td>\n      <td>0</td>\n      <td>0</td>\n      <td>0</td>\n      <td>0</td>\n      <td>0</td>\n      <td>0</td>\n      <td>1</td>\n      <td>0</td>\n      <td>0</td>\n    </tr>\n    <tr>\n      <th>3</th>\n      <td>40.10</td>\n      <td>8200</td>\n      <td>8.2</td>\n      <td>4.89</td>\n      <td>0.108</td>\n      <td>1</td>\n      <td>0</td>\n      <td>0</td>\n      <td>0</td>\n      <td>0</td>\n      <td>...</td>\n      <td>0</td>\n      <td>0</td>\n      <td>0</td>\n      <td>0</td>\n      <td>0</td>\n      <td>0</td>\n      <td>0</td>\n      <td>1</td>\n      <td>0</td>\n      <td>0</td>\n    </tr>\n    <tr>\n      <th>4</th>\n      <td>26.70</td>\n      <td>4900</td>\n      <td>4.9</td>\n      <td>5.45</td>\n      <td>0.122</td>\n      <td>1</td>\n      <td>0</td>\n      <td>0</td>\n      <td>0</td>\n      <td>0</td>\n      <td>...</td>\n      <td>0</td>\n      <td>0</td>\n      <td>0</td>\n      <td>0</td>\n      <td>0</td>\n      <td>0</td>\n      <td>0</td>\n      <td>1</td>\n      <td>0</td>\n      <td>0</td>\n    </tr>\n  </tbody>\n</table>\n<p>5 rows × 219 columns</p>\n</div>"
          },
          "metadata": {}
        }
      ],
      "execution_count": 5,
      "metadata": {
        "jupyter": {
          "source_hidden": false,
          "outputs_hidden": false
        },
        "nteract": {
          "transient": {
            "deleting": false
          }
        },
        "gather": {
          "logged": 1682885820975
        }
      }
    },
    {
      "cell_type": "code",
      "source": [
        "data_draft_kings_mean = (\n",
        "    data_draft_kings_analysis.mean()\n",
        "    .reset_index()\n",
        "    .rename(columns={\"index\": \"attribute\", 0: \"mean\"})\n",
        "    .round(2)\n",
        ")"
      ],
      "outputs": [],
      "execution_count": 13,
      "metadata": {
        "jupyter": {
          "source_hidden": false,
          "outputs_hidden": false
        },
        "nteract": {
          "transient": {
            "deleting": false
          }
        },
        "gather": {
          "logged": 1682886515519
        }
      }
    },
    {
      "cell_type": "code",
      "source": [
        "data_draft_kings_analysis"
      ],
      "outputs": [
        {
          "output_type": "execute_result",
          "execution_count": 12,
          "data": {
            "text/plain": "     points  salary  reduction  value  ownership_%  WR  RB  QB  TE  FLEX  ...  \\\n0     36.28    8100        8.1   4.48        0.082   0   0   1   0     0  ...   \n1     23.80    5300        5.3   4.49        0.020   0   1   0   0     0  ...   \n2     28.00    6200        6.2   4.52        0.160   0   1   0   0     0  ...   \n3     40.10    8200        8.2   4.89        0.108   1   0   0   0     0  ...   \n4     26.70    4900        4.9   5.45        0.122   1   0   0   0     0  ...   \n..      ...     ...        ...    ...          ...  ..  ..  ..  ..   ...  ...   \n562   29.70    7000        7.0   4.24        0.325   1   0   0   0     0  ...   \n563   16.70    7300        7.3   2.29        0.333   1   0   0   0     0  ...   \n564   28.88    6700        6.7   4.31        0.291   0   0   0   1     0  ...   \n565   11.60    3300        3.3   3.52        0.012   0   0   0   0     1  ...   \n566    9.00    2400        2.4   3.75        0.078   0   0   0   0     0  ...   \n\n     rashod_bateman  buccaneers  henry_ruggs  ricky_seals_jones  noah_fant  \\\n0                 0           0            0                  0          0   \n1                 0           0            0                  0          0   \n2                 0           0            0                  0          0   \n3                 0           0            0                  0          0   \n4                 0           0            0                  0          0   \n..              ...         ...          ...                ...        ...   \n562               0           0            0                  0          0   \n563               0           0            0                  0          0   \n564               0           0            0                  0          0   \n565               0           0            0                  0          0   \n566               0           0            0                  0          0   \n\n     donovan_jones  steelers  1  2  3  \n0                0         0  1  0  0  \n1                0         0  1  0  0  \n2                0         0  1  0  0  \n3                0         0  1  0  0  \n4                0         0  1  0  0  \n..             ...       ... .. .. ..  \n562              0         0  0  0  1  \n563              0         0  0  0  1  \n564              0         0  0  0  1  \n565              0         0  0  0  1  \n566              0         1  0  0  1  \n\n[567 rows x 219 columns]",
            "text/html": "<div>\n<style scoped>\n    .dataframe tbody tr th:only-of-type {\n        vertical-align: middle;\n    }\n\n    .dataframe tbody tr th {\n        vertical-align: top;\n    }\n\n    .dataframe thead th {\n        text-align: right;\n    }\n</style>\n<table border=\"1\" class=\"dataframe\">\n  <thead>\n    <tr style=\"text-align: right;\">\n      <th></th>\n      <th>points</th>\n      <th>salary</th>\n      <th>reduction</th>\n      <th>value</th>\n      <th>ownership_%</th>\n      <th>WR</th>\n      <th>RB</th>\n      <th>QB</th>\n      <th>TE</th>\n      <th>FLEX</th>\n      <th>...</th>\n      <th>rashod_bateman</th>\n      <th>buccaneers</th>\n      <th>henry_ruggs</th>\n      <th>ricky_seals_jones</th>\n      <th>noah_fant</th>\n      <th>donovan_jones</th>\n      <th>steelers</th>\n      <th>1</th>\n      <th>2</th>\n      <th>3</th>\n    </tr>\n  </thead>\n  <tbody>\n    <tr>\n      <th>0</th>\n      <td>36.28</td>\n      <td>8100</td>\n      <td>8.1</td>\n      <td>4.48</td>\n      <td>0.082</td>\n      <td>0</td>\n      <td>0</td>\n      <td>1</td>\n      <td>0</td>\n      <td>0</td>\n      <td>...</td>\n      <td>0</td>\n      <td>0</td>\n      <td>0</td>\n      <td>0</td>\n      <td>0</td>\n      <td>0</td>\n      <td>0</td>\n      <td>1</td>\n      <td>0</td>\n      <td>0</td>\n    </tr>\n    <tr>\n      <th>1</th>\n      <td>23.80</td>\n      <td>5300</td>\n      <td>5.3</td>\n      <td>4.49</td>\n      <td>0.020</td>\n      <td>0</td>\n      <td>1</td>\n      <td>0</td>\n      <td>0</td>\n      <td>0</td>\n      <td>...</td>\n      <td>0</td>\n      <td>0</td>\n      <td>0</td>\n      <td>0</td>\n      <td>0</td>\n      <td>0</td>\n      <td>0</td>\n      <td>1</td>\n      <td>0</td>\n      <td>0</td>\n    </tr>\n    <tr>\n      <th>2</th>\n      <td>28.00</td>\n      <td>6200</td>\n      <td>6.2</td>\n      <td>4.52</td>\n      <td>0.160</td>\n      <td>0</td>\n      <td>1</td>\n      <td>0</td>\n      <td>0</td>\n      <td>0</td>\n      <td>...</td>\n      <td>0</td>\n      <td>0</td>\n      <td>0</td>\n      <td>0</td>\n      <td>0</td>\n      <td>0</td>\n      <td>0</td>\n      <td>1</td>\n      <td>0</td>\n      <td>0</td>\n    </tr>\n    <tr>\n      <th>3</th>\n      <td>40.10</td>\n      <td>8200</td>\n      <td>8.2</td>\n      <td>4.89</td>\n      <td>0.108</td>\n      <td>1</td>\n      <td>0</td>\n      <td>0</td>\n      <td>0</td>\n      <td>0</td>\n      <td>...</td>\n      <td>0</td>\n      <td>0</td>\n      <td>0</td>\n      <td>0</td>\n      <td>0</td>\n      <td>0</td>\n      <td>0</td>\n      <td>1</td>\n      <td>0</td>\n      <td>0</td>\n    </tr>\n    <tr>\n      <th>4</th>\n      <td>26.70</td>\n      <td>4900</td>\n      <td>4.9</td>\n      <td>5.45</td>\n      <td>0.122</td>\n      <td>1</td>\n      <td>0</td>\n      <td>0</td>\n      <td>0</td>\n      <td>0</td>\n      <td>...</td>\n      <td>0</td>\n      <td>0</td>\n      <td>0</td>\n      <td>0</td>\n      <td>0</td>\n      <td>0</td>\n      <td>0</td>\n      <td>1</td>\n      <td>0</td>\n      <td>0</td>\n    </tr>\n    <tr>\n      <th>...</th>\n      <td>...</td>\n      <td>...</td>\n      <td>...</td>\n      <td>...</td>\n      <td>...</td>\n      <td>...</td>\n      <td>...</td>\n      <td>...</td>\n      <td>...</td>\n      <td>...</td>\n      <td>...</td>\n      <td>...</td>\n      <td>...</td>\n      <td>...</td>\n      <td>...</td>\n      <td>...</td>\n      <td>...</td>\n      <td>...</td>\n      <td>...</td>\n      <td>...</td>\n      <td>...</td>\n    </tr>\n    <tr>\n      <th>562</th>\n      <td>29.70</td>\n      <td>7000</td>\n      <td>7.0</td>\n      <td>4.24</td>\n      <td>0.325</td>\n      <td>1</td>\n      <td>0</td>\n      <td>0</td>\n      <td>0</td>\n      <td>0</td>\n      <td>...</td>\n      <td>0</td>\n      <td>0</td>\n      <td>0</td>\n      <td>0</td>\n      <td>0</td>\n      <td>0</td>\n      <td>0</td>\n      <td>0</td>\n      <td>0</td>\n      <td>1</td>\n    </tr>\n    <tr>\n      <th>563</th>\n      <td>16.70</td>\n      <td>7300</td>\n      <td>7.3</td>\n      <td>2.29</td>\n      <td>0.333</td>\n      <td>1</td>\n      <td>0</td>\n      <td>0</td>\n      <td>0</td>\n      <td>0</td>\n      <td>...</td>\n      <td>0</td>\n      <td>0</td>\n      <td>0</td>\n      <td>0</td>\n      <td>0</td>\n      <td>0</td>\n      <td>0</td>\n      <td>0</td>\n      <td>0</td>\n      <td>1</td>\n    </tr>\n    <tr>\n      <th>564</th>\n      <td>28.88</td>\n      <td>6700</td>\n      <td>6.7</td>\n      <td>4.31</td>\n      <td>0.291</td>\n      <td>0</td>\n      <td>0</td>\n      <td>0</td>\n      <td>1</td>\n      <td>0</td>\n      <td>...</td>\n      <td>0</td>\n      <td>0</td>\n      <td>0</td>\n      <td>0</td>\n      <td>0</td>\n      <td>0</td>\n      <td>0</td>\n      <td>0</td>\n      <td>0</td>\n      <td>1</td>\n    </tr>\n    <tr>\n      <th>565</th>\n      <td>11.60</td>\n      <td>3300</td>\n      <td>3.3</td>\n      <td>3.52</td>\n      <td>0.012</td>\n      <td>0</td>\n      <td>0</td>\n      <td>0</td>\n      <td>0</td>\n      <td>1</td>\n      <td>...</td>\n      <td>0</td>\n      <td>0</td>\n      <td>0</td>\n      <td>0</td>\n      <td>0</td>\n      <td>0</td>\n      <td>0</td>\n      <td>0</td>\n      <td>0</td>\n      <td>1</td>\n    </tr>\n    <tr>\n      <th>566</th>\n      <td>9.00</td>\n      <td>2400</td>\n      <td>2.4</td>\n      <td>3.75</td>\n      <td>0.078</td>\n      <td>0</td>\n      <td>0</td>\n      <td>0</td>\n      <td>0</td>\n      <td>0</td>\n      <td>...</td>\n      <td>0</td>\n      <td>0</td>\n      <td>0</td>\n      <td>0</td>\n      <td>0</td>\n      <td>0</td>\n      <td>1</td>\n      <td>0</td>\n      <td>0</td>\n      <td>1</td>\n    </tr>\n  </tbody>\n</table>\n<p>567 rows × 219 columns</p>\n</div>"
          },
          "metadata": {}
        }
      ],
      "execution_count": 12,
      "metadata": {
        "jupyter": {
          "source_hidden": false,
          "outputs_hidden": false
        },
        "nteract": {
          "transient": {
            "deleting": false
          }
        },
        "gather": {
          "logged": 1682886503567
        }
      }
    },
    {
      "cell_type": "code",
      "source": [
        "data_draft_kings_mean.to_csv(\"data_draft_kings_mean.csv\")"
      ],
      "outputs": [],
      "execution_count": 14,
      "metadata": {
        "jupyter": {
          "source_hidden": false,
          "outputs_hidden": false
        },
        "nteract": {
          "transient": {
            "deleting": false
          }
        },
        "gather": {
          "logged": 1682886524769
        }
      }
    },
    {
      "cell_type": "code",
      "source": [],
      "outputs": [],
      "execution_count": null,
      "metadata": {
        "jupyter": {
          "source_hidden": false,
          "outputs_hidden": false
        },
        "nteract": {
          "transient": {
            "deleting": false
          }
        }
      }
    },
    {
      "cell_type": "code",
      "source": [
        "data_draft_kings_analysis.head()"
      ],
      "outputs": [
        {
          "output_type": "execute_result",
          "execution_count": 8,
          "data": {
            "text/plain": "   points  salary  reduction  value  ownership_%  WR  RB  QB  TE  FLEX  ...  \\\n0   36.28    8100        8.1   4.48        0.082   0   0   1   0     0  ...   \n1   23.80    5300        5.3   4.49        0.020   0   1   0   0     0  ...   \n2   28.00    6200        6.2   4.52        0.160   0   1   0   0     0  ...   \n3   40.10    8200        8.2   4.89        0.108   1   0   0   0     0  ...   \n4   26.70    4900        4.9   5.45        0.122   1   0   0   0     0  ...   \n\n   rashod_bateman  buccaneers  henry_ruggs  ricky_seals_jones  noah_fant  \\\n0               0           0            0                  0          0   \n1               0           0            0                  0          0   \n2               0           0            0                  0          0   \n3               0           0            0                  0          0   \n4               0           0            0                  0          0   \n\n   donovan_jones  steelers  1  2  3  \n0              0         0  1  0  0  \n1              0         0  1  0  0  \n2              0         0  1  0  0  \n3              0         0  1  0  0  \n4              0         0  1  0  0  \n\n[5 rows x 219 columns]",
            "text/html": "<div>\n<style scoped>\n    .dataframe tbody tr th:only-of-type {\n        vertical-align: middle;\n    }\n\n    .dataframe tbody tr th {\n        vertical-align: top;\n    }\n\n    .dataframe thead th {\n        text-align: right;\n    }\n</style>\n<table border=\"1\" class=\"dataframe\">\n  <thead>\n    <tr style=\"text-align: right;\">\n      <th></th>\n      <th>points</th>\n      <th>salary</th>\n      <th>reduction</th>\n      <th>value</th>\n      <th>ownership_%</th>\n      <th>WR</th>\n      <th>RB</th>\n      <th>QB</th>\n      <th>TE</th>\n      <th>FLEX</th>\n      <th>...</th>\n      <th>rashod_bateman</th>\n      <th>buccaneers</th>\n      <th>henry_ruggs</th>\n      <th>ricky_seals_jones</th>\n      <th>noah_fant</th>\n      <th>donovan_jones</th>\n      <th>steelers</th>\n      <th>1</th>\n      <th>2</th>\n      <th>3</th>\n    </tr>\n  </thead>\n  <tbody>\n    <tr>\n      <th>0</th>\n      <td>36.28</td>\n      <td>8100</td>\n      <td>8.1</td>\n      <td>4.48</td>\n      <td>0.082</td>\n      <td>0</td>\n      <td>0</td>\n      <td>1</td>\n      <td>0</td>\n      <td>0</td>\n      <td>...</td>\n      <td>0</td>\n      <td>0</td>\n      <td>0</td>\n      <td>0</td>\n      <td>0</td>\n      <td>0</td>\n      <td>0</td>\n      <td>1</td>\n      <td>0</td>\n      <td>0</td>\n    </tr>\n    <tr>\n      <th>1</th>\n      <td>23.80</td>\n      <td>5300</td>\n      <td>5.3</td>\n      <td>4.49</td>\n      <td>0.020</td>\n      <td>0</td>\n      <td>1</td>\n      <td>0</td>\n      <td>0</td>\n      <td>0</td>\n      <td>...</td>\n      <td>0</td>\n      <td>0</td>\n      <td>0</td>\n      <td>0</td>\n      <td>0</td>\n      <td>0</td>\n      <td>0</td>\n      <td>1</td>\n      <td>0</td>\n      <td>0</td>\n    </tr>\n    <tr>\n      <th>2</th>\n      <td>28.00</td>\n      <td>6200</td>\n      <td>6.2</td>\n      <td>4.52</td>\n      <td>0.160</td>\n      <td>0</td>\n      <td>1</td>\n      <td>0</td>\n      <td>0</td>\n      <td>0</td>\n      <td>...</td>\n      <td>0</td>\n      <td>0</td>\n      <td>0</td>\n      <td>0</td>\n      <td>0</td>\n      <td>0</td>\n      <td>0</td>\n      <td>1</td>\n      <td>0</td>\n      <td>0</td>\n    </tr>\n    <tr>\n      <th>3</th>\n      <td>40.10</td>\n      <td>8200</td>\n      <td>8.2</td>\n      <td>4.89</td>\n      <td>0.108</td>\n      <td>1</td>\n      <td>0</td>\n      <td>0</td>\n      <td>0</td>\n      <td>0</td>\n      <td>...</td>\n      <td>0</td>\n      <td>0</td>\n      <td>0</td>\n      <td>0</td>\n      <td>0</td>\n      <td>0</td>\n      <td>0</td>\n      <td>1</td>\n      <td>0</td>\n      <td>0</td>\n    </tr>\n    <tr>\n      <th>4</th>\n      <td>26.70</td>\n      <td>4900</td>\n      <td>4.9</td>\n      <td>5.45</td>\n      <td>0.122</td>\n      <td>1</td>\n      <td>0</td>\n      <td>0</td>\n      <td>0</td>\n      <td>0</td>\n      <td>...</td>\n      <td>0</td>\n      <td>0</td>\n      <td>0</td>\n      <td>0</td>\n      <td>0</td>\n      <td>0</td>\n      <td>0</td>\n      <td>1</td>\n      <td>0</td>\n      <td>0</td>\n    </tr>\n  </tbody>\n</table>\n<p>5 rows × 219 columns</p>\n</div>"
          },
          "metadata": {}
        }
      ],
      "execution_count": 8,
      "metadata": {
        "jupyter": {
          "source_hidden": false,
          "outputs_hidden": false
        },
        "nteract": {
          "transient": {
            "deleting": false
          }
        },
        "gather": {
          "logged": 1682885980981
        }
      }
    },
    {
      "cell_type": "code",
      "source": [
        "data_draft_kings_mean"
      ],
      "outputs": [
        {
          "output_type": "execute_result",
          "execution_count": 7,
          "data": {
            "text/plain": "         attribute   median\n0           points    25.10\n1           salary  5700.00\n2        reduction     5.70\n3            value     4.62\n4      ownership_%     0.10\n..             ...      ...\n214  donovan_jones     0.00\n215       steelers     0.00\n216              1     0.00\n217              2     0.00\n218              3     0.00\n\n[219 rows x 2 columns]",
            "text/html": "<div>\n<style scoped>\n    .dataframe tbody tr th:only-of-type {\n        vertical-align: middle;\n    }\n\n    .dataframe tbody tr th {\n        vertical-align: top;\n    }\n\n    .dataframe thead th {\n        text-align: right;\n    }\n</style>\n<table border=\"1\" class=\"dataframe\">\n  <thead>\n    <tr style=\"text-align: right;\">\n      <th></th>\n      <th>attribute</th>\n      <th>median</th>\n    </tr>\n  </thead>\n  <tbody>\n    <tr>\n      <th>0</th>\n      <td>points</td>\n      <td>25.10</td>\n    </tr>\n    <tr>\n      <th>1</th>\n      <td>salary</td>\n      <td>5700.00</td>\n    </tr>\n    <tr>\n      <th>2</th>\n      <td>reduction</td>\n      <td>5.70</td>\n    </tr>\n    <tr>\n      <th>3</th>\n      <td>value</td>\n      <td>4.62</td>\n    </tr>\n    <tr>\n      <th>4</th>\n      <td>ownership_%</td>\n      <td>0.10</td>\n    </tr>\n    <tr>\n      <th>...</th>\n      <td>...</td>\n      <td>...</td>\n    </tr>\n    <tr>\n      <th>214</th>\n      <td>donovan_jones</td>\n      <td>0.00</td>\n    </tr>\n    <tr>\n      <th>215</th>\n      <td>steelers</td>\n      <td>0.00</td>\n    </tr>\n    <tr>\n      <th>216</th>\n      <td>1</td>\n      <td>0.00</td>\n    </tr>\n    <tr>\n      <th>217</th>\n      <td>2</td>\n      <td>0.00</td>\n    </tr>\n    <tr>\n      <th>218</th>\n      <td>3</td>\n      <td>0.00</td>\n    </tr>\n  </tbody>\n</table>\n<p>219 rows × 2 columns</p>\n</div>"
          },
          "metadata": {}
        }
      ],
      "execution_count": 7,
      "metadata": {
        "jupyter": {
          "source_hidden": false,
          "outputs_hidden": false
        },
        "nteract": {
          "transient": {
            "deleting": false
          }
        },
        "gather": {
          "logged": 1682885830576
        }
      }
    },
    {
      "cell_type": "code",
      "source": [
        "data_draft_kings_mean.to_csv(\"donovan_jones.csv\")"
      ],
      "outputs": [],
      "execution_count": 24,
      "metadata": {
        "jupyter": {
          "source_hidden": false,
          "outputs_hidden": false
        },
        "nteract": {
          "transient": {
            "deleting": false
          }
        },
        "gather": {
          "logged": 1682536235284
        }
      }
    },
    {
      "cell_type": "code",
      "source": [
        "# Compute Gower distance matrix\n",
        "distance_matrix = gower.gower_matrix(data_draft_kings_analysis)"
      ],
      "outputs": [],
      "execution_count": 3,
      "metadata": {
        "jupyter": {
          "source_hidden": false,
          "outputs_hidden": false
        },
        "nteract": {
          "transient": {
            "deleting": false
          }
        },
        "gather": {
          "logged": 1682509585757
        }
      }
    },
    {
      "cell_type": "code",
      "source": [
        "data_clusters = [2, 3, 4, 5, 6]"
      ],
      "outputs": [],
      "execution_count": 4,
      "metadata": {
        "jupyter": {
          "source_hidden": false,
          "outputs_hidden": false
        },
        "nteract": {
          "transient": {
            "deleting": false
          }
        },
        "gather": {
          "logged": 1682509585884
        }
      }
    },
    {
      "cell_type": "code",
      "source": [
        "labels_out = []\n",
        "\n",
        "for x in range(len(data_clusters)):\n",
        "    # Create the hierarchical agglomerative clustering model\n",
        "    clustering_in = AgglomerativeClustering(\n",
        "        n_clusters=data_clusters[x], affinity=\"precomputed\", linkage=\"complete\"\n",
        "    )\n",
        "\n",
        "    clustering_in.fit(distance_matrix)\n",
        "    labels = clustering_in.labels_\n",
        "\n",
        "    labels_out.append(labels)"
      ],
      "outputs": [],
      "execution_count": 5,
      "metadata": {
        "jupyter": {
          "source_hidden": false,
          "outputs_hidden": false
        },
        "nteract": {
          "transient": {
            "deleting": false
          }
        },
        "gather": {
          "logged": 1682509598032
        }
      }
    },
    {
      "cell_type": "code",
      "source": [
        "accuracy_out = []\n",
        "for x in range(len(labels_out)):\n",
        "    accuracy_in = silhouette_score(data_draft_kings_analysis, labels_out[x])\n",
        "    accuracy_out.append(accuracy_in)"
      ],
      "outputs": [],
      "execution_count": 6,
      "metadata": {
        "jupyter": {
          "source_hidden": false,
          "outputs_hidden": false
        },
        "nteract": {
          "transient": {
            "deleting": false
          }
        },
        "gather": {
          "logged": 1682509601937
        }
      }
    },
    {
      "cell_type": "code",
      "source": [
        "accuracy_out"
      ],
      "outputs": [
        {
          "output_type": "execute_result",
          "execution_count": 7,
          "data": {
            "text/plain": "[0.288035499192513,\n 0.04312217895576275,\n -0.030924717001696758,\n -0.08095817523341031,\n -0.18009020473223336]"
          },
          "metadata": {}
        }
      ],
      "execution_count": 7,
      "metadata": {
        "jupyter": {
          "source_hidden": false,
          "outputs_hidden": false
        },
        "nteract": {
          "transient": {
            "deleting": false
          }
        },
        "gather": {
          "logged": 1682509605281
        }
      }
    },
    {
      "cell_type": "markdown",
      "source": [
        "Step: Save "
      ],
      "metadata": {
        "nteract": {
          "transient": {
            "deleting": false
          }
        }
      }
    },
    {
      "cell_type": "code",
      "source": [
        "labels = pd.DataFrame(labels_out[1]).rename(columns={0: \"labels\"})"
      ],
      "outputs": [],
      "execution_count": 8,
      "metadata": {
        "jupyter": {
          "source_hidden": false,
          "outputs_hidden": false
        },
        "nteract": {
          "transient": {
            "deleting": false
          }
        },
        "gather": {
          "logged": 1682509612833
        }
      }
    },
    {
      "cell_type": "code",
      "source": [
        "data_draft_kings_analysis_labels = pd.concat(\n",
        "    [data_draft_kings_analysis, labels], axis=1\n",
        ")"
      ],
      "outputs": [],
      "execution_count": 9,
      "metadata": {
        "jupyter": {
          "source_hidden": false,
          "outputs_hidden": false
        },
        "nteract": {
          "transient": {
            "deleting": false
          }
        },
        "gather": {
          "logged": 1682509615162
        }
      }
    },
    {
      "cell_type": "code",
      "source": [
        "data_draft_kings_analysis_labels.columns"
      ],
      "outputs": [
        {
          "output_type": "execute_result",
          "execution_count": 10,
          "data": {
            "text/plain": "Index(['points', 'salary', 'reduction', 'value', 'ownership_%', 'WR', 'RB',\n       'QB', 'TE', 'FLEX',\n       ...\n       'buccaneers', 'henry_ruggs', 'ricky_seals_jones', 'noah_fant',\n       'donovan_jones', 'steelers', '1', '2', '3', 'labels'],\n      dtype='object', length=220)"
          },
          "metadata": {}
        }
      ],
      "execution_count": 10,
      "metadata": {
        "jupyter": {
          "source_hidden": false,
          "outputs_hidden": false
        },
        "nteract": {
          "transient": {
            "deleting": false
          }
        },
        "gather": {
          "logged": 1682509687344
        }
      }
    },
    {
      "cell_type": "code",
      "source": [
        "data_draft_kings_cluster = (\n",
        "    data_draft_kings_analysis_labels.groupby(\"labels\").mean().reset_index().round(2)\n",
        ")\n",
        "\n",
        "data_draft_kings_cluster.to_csv(\"data_draft_kings_cluster.csv\")"
      ],
      "outputs": [],
      "execution_count": 11,
      "metadata": {
        "jupyter": {
          "source_hidden": false,
          "outputs_hidden": false
        },
        "nteract": {
          "transient": {
            "deleting": false
          }
        },
        "gather": {
          "logged": 1682509691156
        }
      }
    }
  ],
  "metadata": {
    "kernelspec": {
      "name": "python38-azureml",
      "language": "python",
      "display_name": "Python 3.8 - AzureML"
    },
    "language_info": {
      "name": "python",
      "version": "3.8.10",
      "mimetype": "text/x-python",
      "codemirror_mode": {
        "name": "ipython",
        "version": 3
      },
      "pygments_lexer": "ipython3",
      "nbconvert_exporter": "python",
      "file_extension": ".py"
    },
    "microsoft": {
      "ms_spell_check": {
        "ms_spell_check_language": "en"
      },
      "host": {
        "AzureML": {
          "notebookHasBeenCompleted": true
        }
      }
    },
    "kernel_info": {
      "name": "python38-azureml"
    },
    "nteract": {
      "version": "nteract-front-end@1.0.0"
    }
  },
  "nbformat": 4,
  "nbformat_minor": 2
}