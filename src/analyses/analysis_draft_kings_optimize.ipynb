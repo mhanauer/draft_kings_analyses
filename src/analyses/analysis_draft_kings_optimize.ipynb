{
  "cells": [
    {
      "cell_type": "code",
      "source": [
        "%load_ext lab_black"
      ],
      "outputs": [],
      "execution_count": 1,
      "metadata": {}
    },
    {
      "cell_type": "markdown",
      "source": [
        "Step: Load data"
      ],
      "metadata": {
        "nteract": {
          "transient": {
            "deleting": false
          }
        }
      }
    },
    {
      "cell_type": "code",
      "source": [
        "import pandas as pd\n",
        "import os\n",
        "from pyprojroot import here\n",
        "import numpy as np\n",
        "from skimpy import clean_columns\n",
        "from data_cleaning.fun_hot_encode_limit import fun_hot_encode_limit\n",
        "import numpy as np\n",
        "import pandas as pd\n",
        "import gower\n",
        "from sklearn.cluster import AgglomerativeClustering\n",
        "from scipy.cluster.hierarchy import dendrogram\n",
        "import matplotlib.pyplot as plt\n",
        "from sklearn.metrics import (\n",
        "    silhouette_score,\n",
        "    calinski_harabasz_score,\n",
        "    davies_bouldin_score,\n",
        ")\n",
        "\n",
        "\n",
        "path_data = here(\"./data\")\n",
        "os.chdir(path_data)\n",
        "\n",
        "data_draft_kings_original = pd.read_csv(\"draft_kings_2021_2022.csv\")\n",
        "data_draft_kings = pd.read_parquet(\"data_draft_kings_analysis.parquet\")\n",
        "data_draft_kings_analysis = data_draft_kings.drop(columns=[\"week\"])"
      ],
      "outputs": [],
      "execution_count": 2,
      "metadata": {
        "jupyter": {
          "source_hidden": false,
          "outputs_hidden": false
        },
        "nteract": {
          "transient": {
            "deleting": false
          }
        },
        "gather": {
          "logged": 1682536716327
        }
      }
    },
    {
      "cell_type": "code",
      "source": [
        "import pulp\n",
        "import random\n",
        "\n",
        "# Generate fake player data\n",
        "players = {\n",
        "    f\"Player{i}\": {\n",
        "        \"position\": random.choice([\"QB\", \"RB\", \"WR\", \"TE\", \"DST\"]),\n",
        "        \"salary\": random.randint(3000, 9000),\n",
        "        \"points\": random.uniform(0, 40),\n",
        "    }\n",
        "    for i in range(1, 101)\n",
        "}"
      ],
      "outputs": [],
      "execution_count": 3,
      "metadata": {
        "jupyter": {
          "source_hidden": false,
          "outputs_hidden": false
        },
        "nteract": {
          "transient": {
            "deleting": false
          }
        },
        "gather": {
          "logged": 1682536718561
        }
      }
    },
    {
      "cell_type": "code",
      "source": [
        "pd.DataFrame(players)"
      ],
      "outputs": [
        {
          "output_type": "execute_result",
          "execution_count": 5,
          "data": {
            "text/plain": "            Player1   Player2   Player3    Player4   Player5    Player6  \\\nposition         WR        QB        QB         TE        RB         QB   \nsalary         8541      6369      4088       6762      4715       6242   \npoints    15.104506  4.253877  7.250161  18.548211  31.94972  11.406805   \n\n           Player7    Player8    Player9  Player10  ...  Player91   Player92  \\\nposition        QB         QB         QB       DST  ...        WR         QB   \nsalary        8655       6800       8184      6296  ...      4214       6517   \npoints    0.365365  28.142896  20.546849  33.03067  ...  9.918665  28.360955   \n\n          Player93   Player94  Player95  Player96   Player97   Player98  \\\nposition        RB         QB        QB        WR         RB         RB   \nsalary        8383       4259      3619      3109       3030       7193   \npoints    8.603833  33.692006  3.704472  2.609307  25.610785  13.748802   \n\n           Player99 Player100  \nposition         TE        TE  \nsalary         4915      5010  \npoints    35.838109  9.535819  \n\n[3 rows x 100 columns]",
            "text/html": "<div>\n<style scoped>\n    .dataframe tbody tr th:only-of-type {\n        vertical-align: middle;\n    }\n\n    .dataframe tbody tr th {\n        vertical-align: top;\n    }\n\n    .dataframe thead th {\n        text-align: right;\n    }\n</style>\n<table border=\"1\" class=\"dataframe\">\n  <thead>\n    <tr style=\"text-align: right;\">\n      <th></th>\n      <th>Player1</th>\n      <th>Player2</th>\n      <th>Player3</th>\n      <th>Player4</th>\n      <th>Player5</th>\n      <th>Player6</th>\n      <th>Player7</th>\n      <th>Player8</th>\n      <th>Player9</th>\n      <th>Player10</th>\n      <th>...</th>\n      <th>Player91</th>\n      <th>Player92</th>\n      <th>Player93</th>\n      <th>Player94</th>\n      <th>Player95</th>\n      <th>Player96</th>\n      <th>Player97</th>\n      <th>Player98</th>\n      <th>Player99</th>\n      <th>Player100</th>\n    </tr>\n  </thead>\n  <tbody>\n    <tr>\n      <th>position</th>\n      <td>WR</td>\n      <td>QB</td>\n      <td>QB</td>\n      <td>TE</td>\n      <td>RB</td>\n      <td>QB</td>\n      <td>QB</td>\n      <td>QB</td>\n      <td>QB</td>\n      <td>DST</td>\n      <td>...</td>\n      <td>WR</td>\n      <td>QB</td>\n      <td>RB</td>\n      <td>QB</td>\n      <td>QB</td>\n      <td>WR</td>\n      <td>RB</td>\n      <td>RB</td>\n      <td>TE</td>\n      <td>TE</td>\n    </tr>\n    <tr>\n      <th>salary</th>\n      <td>8541</td>\n      <td>6369</td>\n      <td>4088</td>\n      <td>6762</td>\n      <td>4715</td>\n      <td>6242</td>\n      <td>8655</td>\n      <td>6800</td>\n      <td>8184</td>\n      <td>6296</td>\n      <td>...</td>\n      <td>4214</td>\n      <td>6517</td>\n      <td>8383</td>\n      <td>4259</td>\n      <td>3619</td>\n      <td>3109</td>\n      <td>3030</td>\n      <td>7193</td>\n      <td>4915</td>\n      <td>5010</td>\n    </tr>\n    <tr>\n      <th>points</th>\n      <td>15.104506</td>\n      <td>4.253877</td>\n      <td>7.250161</td>\n      <td>18.548211</td>\n      <td>31.94972</td>\n      <td>11.406805</td>\n      <td>0.365365</td>\n      <td>28.142896</td>\n      <td>20.546849</td>\n      <td>33.03067</td>\n      <td>...</td>\n      <td>9.918665</td>\n      <td>28.360955</td>\n      <td>8.603833</td>\n      <td>33.692006</td>\n      <td>3.704472</td>\n      <td>2.609307</td>\n      <td>25.610785</td>\n      <td>13.748802</td>\n      <td>35.838109</td>\n      <td>9.535819</td>\n    </tr>\n  </tbody>\n</table>\n<p>3 rows × 100 columns</p>\n</div>"
          },
          "metadata": {}
        }
      ],
      "execution_count": 5,
      "metadata": {
        "jupyter": {
          "source_hidden": false,
          "outputs_hidden": false
        },
        "nteract": {
          "transient": {
            "deleting": false
          }
        },
        "gather": {
          "logged": 1682536734748
        }
      }
    },
    {
      "cell_type": "code",
      "source": [
        "# Define problem\n",
        "problem = pulp.LpProblem(\"NFL_Milly_Maker\", pulp.LpMaximize)\n",
        "\n",
        "# Define variables\n",
        "player_vars = pulp.LpVariable.dicts(\n",
        "    \"player\", players.keys(), lowBound=0, upBound=1, cat=\"Integer\"\n",
        ")"
      ],
      "outputs": [],
      "execution_count": 6,
      "metadata": {
        "jupyter": {
          "source_hidden": false,
          "outputs_hidden": false
        },
        "nteract": {
          "transient": {
            "deleting": false
          }
        },
        "gather": {
          "logged": 1682536766877
        }
      }
    },
    {
      "cell_type": "code",
      "source": [
        "# Define constraints\n",
        "position_limits = {\"QB\": 1, \"RB\": 2, \"WR\": 3, \"TE\": 1, \"DST\": 1}"
      ],
      "outputs": [],
      "execution_count": 10,
      "metadata": {
        "jupyter": {
          "source_hidden": false,
          "outputs_hidden": false
        },
        "nteract": {
          "transient": {
            "deleting": false
          }
        },
        "gather": {
          "logged": 1682542136965
        }
      }
    },
    {
      "cell_type": "code",
      "source": [
        "for position, limit in position_limits.items():\n",
        "    problem += (\n",
        "        pulp.lpSum(\n",
        "            player_vars[p] for p in players if players[p][\"position\"] == position\n",
        "        )\n",
        "        == limit\n",
        "    )"
      ],
      "outputs": [],
      "execution_count": 11,
      "metadata": {
        "jupyter": {
          "source_hidden": false,
          "outputs_hidden": false
        },
        "nteract": {
          "transient": {
            "deleting": false
          }
        },
        "gather": {
          "logged": 1682542148820
        }
      }
    },
    {
      "cell_type": "code",
      "source": [
        "problem += pulp.lpSum(player_vars[p] * players[p][\"salary\"] for p in players) <= 50000"
      ],
      "outputs": [],
      "execution_count": 14,
      "metadata": {
        "jupyter": {
          "source_hidden": false,
          "outputs_hidden": false
        },
        "nteract": {
          "transient": {
            "deleting": false
          }
        },
        "gather": {
          "logged": 1682542200024
        }
      }
    },
    {
      "cell_type": "code",
      "source": [
        "problem += pulp.lpSum(player_vars) == 9"
      ],
      "outputs": [],
      "execution_count": 16,
      "metadata": {
        "jupyter": {
          "source_hidden": false,
          "outputs_hidden": false
        },
        "nteract": {
          "transient": {
            "deleting": false
          }
        },
        "gather": {
          "logged": 1682542257047
        }
      }
    },
    {
      "cell_type": "code",
      "source": [
        "problem += pulp.lpSum(player_vars[p] * players[p][\"points\"] for p in players)"
      ],
      "outputs": [],
      "execution_count": 18,
      "metadata": {
        "jupyter": {
          "source_hidden": false,
          "outputs_hidden": false
        },
        "nteract": {
          "transient": {
            "deleting": false
          }
        },
        "gather": {
          "logged": 1682542281745
        }
      }
    },
    {
      "cell_type": "code",
      "source": [
        "# Define objective function\n",
        "\n",
        "# Solve problem\n",
        "status = problem.solve()"
      ],
      "outputs": [
        {
          "output_type": "stream",
          "name": "stdout",
          "text": "Welcome to the CBC MILP Solver \nVersion: 2.10.3 \nBuild Date: Dec 15 2019 \n\ncommand line - /anaconda/envs/azureml_py38/lib/python3.8/site-packages/pulp/solverdir/cbc/linux/64/cbc /tmp/ec9bb86d7321461599e606ee9c7cc078-pulp.mps max timeMode elapsed branch printingOptions all solution /tmp/ec9bb86d7321461599e606ee9c7cc078-pulp.sol (default strategy 1)\nAt line 2 NAME          MODEL\nAt line 3 ROWS\nAt line 12 COLUMNS\nAt line 613 RHS\nAt line 621 BOUNDS\nAt line 722 ENDATA\nProblem MODEL has 7 rows, 100 columns and 300 elements\nCoin0008I MODEL read with 0 errors\nOption for timeMode changed from cpu to elapsed\nProblem is infeasible - 0.00 seconds\nOption for printingOptions changed from normal to all\nTotal time (CPU seconds):       0.00   (Wallclock seconds):       0.00\n\n"
        }
      ],
      "execution_count": 19,
      "metadata": {
        "jupyter": {
          "source_hidden": false,
          "outputs_hidden": false
        },
        "nteract": {
          "transient": {
            "deleting": false
          }
        },
        "gather": {
          "logged": 1682542288699
        }
      }
    },
    {
      "cell_type": "code",
      "source": [
        "# Display results\n",
        "print(f\"Status: {pulp.LpStatus[status]}\")\n",
        "print(f\"Objective: {pulp.value(problem.objective)}\")\n",
        "print(\"Players in optimal lineup:\")\n",
        "for player in players:\n",
        "    if pulp.value(player_vars[player]) == 1:\n",
        "        print(f\"{player}: {players[player]}\")"
      ],
      "outputs": [
        {
          "output_type": "stream",
          "name": "stdout",
          "text": "Status: Infeasible\nObjective: 318.4251563386727\nPlayers in optimal lineup:\nPlayer10: {'position': 'DST', 'salary': 6296, 'points': 33.030670457210164}\nPlayer27: {'position': 'QB', 'salary': 5696, 'points': 39.042281605536175}\nPlayer31: {'position': 'TE', 'salary': 4582, 'points': 39.815364215996674}\nPlayer48: {'position': 'RB', 'salary': 3747, 'points': 37.187410420496136}\nPlayer58: {'position': 'WR', 'salary': 3831, 'points': 29.523712763596784}\nPlayer66: {'position': 'WR', 'salary': 7984, 'points': 32.64545668496963}\nPlayer76: {'position': 'QB', 'salary': 6027, 'points': 35.53298280978587}\nPlayer77: {'position': 'DST', 'salary': 7136, 'points': 37.82626582276134}\nPlayer80: {'position': 'WR', 'salary': 8249, 'points': 32.75787248270365}\nPlayer83: {'position': 'RB', 'salary': 5945, 'points': 39.38509442794828}\n"
        }
      ],
      "execution_count": 20,
      "metadata": {
        "jupyter": {
          "source_hidden": false,
          "outputs_hidden": false
        },
        "nteract": {
          "transient": {
            "deleting": false
          }
        },
        "gather": {
          "logged": 1682542308980
        }
      }
    }
  ],
  "metadata": {
    "kernelspec": {
      "name": "python38-azureml",
      "language": "python",
      "display_name": "Python 3.8 - AzureML"
    },
    "language_info": {
      "name": "python",
      "version": "3.8.10",
      "mimetype": "text/x-python",
      "codemirror_mode": {
        "name": "ipython",
        "version": 3
      },
      "pygments_lexer": "ipython3",
      "nbconvert_exporter": "python",
      "file_extension": ".py"
    },
    "microsoft": {
      "ms_spell_check": {
        "ms_spell_check_language": "en"
      },
      "host": {
        "AzureML": {
          "notebookHasBeenCompleted": true
        }
      }
    },
    "kernel_info": {
      "name": "python38-azureml"
    },
    "nteract": {
      "version": "nteract-front-end@1.0.0"
    }
  },
  "nbformat": 4,
  "nbformat_minor": 2
}